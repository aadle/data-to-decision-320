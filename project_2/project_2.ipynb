{
 "cells": [
  {
   "cell_type": "markdown",
   "metadata": {},
   "source": [
    "# Project part 2\n",
    "\n",
    "Aaron"
   ]
  },
  {
   "cell_type": "code",
   "execution_count": null,
   "metadata": {},
   "outputs": [],
   "source": [
    "# Imports\n",
    "import json\n",
    "import matplotlib.pyplot as plt\n",
    "import numpy as np\n",
    "import os\n",
    "import pandas as pd\n",
    "import plotly.figure_factory as ff\n",
    "import plotly.express as px\n",
    "import random\n",
    "import seaborn as sns\n",
    "import scipy.stats as stats\n",
    "import uuid\n",
    "from bson import ObjectId\n",
    "from cassandra.cluster import Cluster\n",
    "from datetime import datetime\n",
    "from io import StringIO\n",
    "from geopy import Nominatim\n",
    "from meteostat import Hourly, Stations, Point\n",
    "from pymongoarrow.api import write\n",
    "from pymongo.mongo_client import MongoClient\n",
    "from pymongo.server_api import ServerApi\n",
    "from pyspark.sql import SparkSession\n",
    "from pyspark.sql.functions import udf\n",
    "from pyspark.sql.types import StringType\n",
    "from scipy.fft import dct, idct\n",
    "\n",
    "# Use a ggplot theme when plotting\n",
    "plt.style.use(\"ggplot\")"
   ]
  },
  {
   "cell_type": "code",
   "execution_count": 2,
   "metadata": {},
   "outputs": [
    {
     "name": "stdout",
     "output_type": "stream",
     "text": [
      "Pinged your deployment. Successfully connected to MongoDB.\n"
     ]
    }
   ],
   "source": [
    "# Connecting to MongoDB \n",
    "url = (\n",
    "    \"mongodb+srv://medvetslos:\"\n",
    "    + json.load(open(\"../../.nosync/mongoDB.json\"))[\"pwd\"]\n",
    "    + \"@ind320-project.lunku.mongodb.net/?retryWrites=true&w=majority&appName=IND320-project\"\n",
    ")\n",
    "\n",
    "mdb_client = MongoClient(url, server_api=ServerApi(\"1\"))\n",
    "\n",
    "try:\n",
    "    mdb_client.admin.command(\"ping\")\n",
    "    print(\"Pinged your deployment. Successfully connected to MongoDB.\")\n",
    "except Exception as exceptionMsg:\n",
    "    print(exceptionMsg)\n",
    "\n",
    "database = mdb_client[\"IND320-project\"] # Retrieving MongoDB collections\n",
    "municipalities = database[\"municipalities\"] # Access the \"muncipalities\" collection"
   ]
  },
  {
   "cell_type": "code",
   "execution_count": 3,
   "metadata": {},
   "outputs": [
    {
     "name": "stderr",
     "output_type": "stream",
     "text": [
      "24/11/08 18:17:45 WARN Utils: Your hostname, Aarons-MacBook-Pro.local resolves to a loopback address: 127.0.0.1; using 192.168.11.132 instead (on interface en0)\n",
      "24/11/08 18:17:45 WARN Utils: Set SPARK_LOCAL_IP if you need to bind to another address\n",
      "Ivy Default Cache set to: /Users/aaron/.ivy2/cache\n",
      "The jars for the packages stored in: /Users/aaron/.ivy2/jars\n",
      "com.datastax.spark#spark-cassandra-connector_2.12 added as a dependency\n",
      ":: resolving dependencies :: org.apache.spark#spark-submit-parent-4c0cb3ab-6b68-405b-bc06-dc9599308543;1.0\n",
      "\tconfs: [default]\n",
      "\tfound com.datastax.spark#spark-cassandra-connector_2.12;3.4.1 in central\n",
      "\tfound com.datastax.spark#spark-cassandra-connector-driver_2.12;3.4.1 in central\n",
      "\tfound org.scala-lang.modules#scala-collection-compat_2.12;2.11.0 in central\n",
      "\tfound com.datastax.oss#java-driver-core-shaded;4.13.0 in central\n"
     ]
    },
    {
     "name": "stdout",
     "output_type": "stream",
     "text": [
      ":: loading settings :: url = jar:file:/Users/aaron/Documents/IND320_projects/.venv/lib/python3.12/site-packages/pyspark/jars/ivy-2.5.1.jar!/org/apache/ivy/core/settings/ivysettings.xml\n"
     ]
    },
    {
     "name": "stderr",
     "output_type": "stream",
     "text": [
      "\tfound com.datastax.oss#native-protocol;1.5.0 in central\n",
      "\tfound com.datastax.oss#java-driver-shaded-guava;25.1-jre-graal-sub-1 in central\n",
      "\tfound com.typesafe#config;1.4.1 in central\n",
      "\tfound org.slf4j#slf4j-api;1.7.26 in central\n",
      "\tfound io.dropwizard.metrics#metrics-core;4.1.18 in central\n",
      "\tfound org.hdrhistogram#HdrHistogram;2.1.12 in central\n",
      "\tfound org.reactivestreams#reactive-streams;1.0.3 in central\n",
      "\tfound com.github.stephenc.jcip#jcip-annotations;1.0-1 in central\n",
      "\tfound com.github.spotbugs#spotbugs-annotations;3.1.12 in central\n",
      "\tfound com.google.code.findbugs#jsr305;3.0.2 in central\n",
      "\tfound com.datastax.oss#java-driver-mapper-runtime;4.13.0 in central\n",
      "\tfound com.datastax.oss#java-driver-query-builder;4.13.0 in central\n",
      "\tfound org.apache.commons#commons-lang3;3.10 in central\n",
      "\tfound com.thoughtworks.paranamer#paranamer;2.8 in central\n",
      "\tfound org.scala-lang#scala-reflect;2.12.11 in central\n",
      ":: resolution report :: resolve 214ms :: artifacts dl 7ms\n",
      "\t:: modules in use:\n",
      "\tcom.datastax.oss#java-driver-core-shaded;4.13.0 from central in [default]\n",
      "\tcom.datastax.oss#java-driver-mapper-runtime;4.13.0 from central in [default]\n",
      "\tcom.datastax.oss#java-driver-query-builder;4.13.0 from central in [default]\n",
      "\tcom.datastax.oss#java-driver-shaded-guava;25.1-jre-graal-sub-1 from central in [default]\n",
      "\tcom.datastax.oss#native-protocol;1.5.0 from central in [default]\n",
      "\tcom.datastax.spark#spark-cassandra-connector-driver_2.12;3.4.1 from central in [default]\n",
      "\tcom.datastax.spark#spark-cassandra-connector_2.12;3.4.1 from central in [default]\n",
      "\tcom.github.spotbugs#spotbugs-annotations;3.1.12 from central in [default]\n",
      "\tcom.github.stephenc.jcip#jcip-annotations;1.0-1 from central in [default]\n",
      "\tcom.google.code.findbugs#jsr305;3.0.2 from central in [default]\n",
      "\tcom.thoughtworks.paranamer#paranamer;2.8 from central in [default]\n",
      "\tcom.typesafe#config;1.4.1 from central in [default]\n",
      "\tio.dropwizard.metrics#metrics-core;4.1.18 from central in [default]\n",
      "\torg.apache.commons#commons-lang3;3.10 from central in [default]\n",
      "\torg.hdrhistogram#HdrHistogram;2.1.12 from central in [default]\n",
      "\torg.reactivestreams#reactive-streams;1.0.3 from central in [default]\n",
      "\torg.scala-lang#scala-reflect;2.12.11 from central in [default]\n",
      "\torg.scala-lang.modules#scala-collection-compat_2.12;2.11.0 from central in [default]\n",
      "\torg.slf4j#slf4j-api;1.7.26 from central in [default]\n",
      "\t---------------------------------------------------------------------\n",
      "\t|                  |            modules            ||   artifacts   |\n",
      "\t|       conf       | number| search|dwnlded|evicted|| number|dwnlded|\n",
      "\t---------------------------------------------------------------------\n",
      "\t|      default     |   19  |   0   |   0   |   0   ||   19  |   0   |\n",
      "\t---------------------------------------------------------------------\n",
      ":: retrieving :: org.apache.spark#spark-submit-parent-4c0cb3ab-6b68-405b-bc06-dc9599308543\n",
      "\tconfs: [default]\n",
      "\t0 artifacts copied, 19 already retrieved (0kB/6ms)\n",
      "24/11/08 18:17:45 WARN NativeCodeLoader: Unable to load native-hadoop library for your platform... using builtin-java classes where applicable\n",
      "Setting default log level to \"WARN\".\n",
      "To adjust logging level use sc.setLogLevel(newLevel). For SparkR, use setLogLevel(newLevel).\n"
     ]
    }
   ],
   "source": [
    "# Set environment variables to make PySpark work\n",
    "os.environ[\"JAVA_HOME\"] = \"/opt/homebrew/opt/openjdk@11/\"\n",
    "os.environ[\"PYSPARK_PYTHON\"] = \"python\" \n",
    "os.environ[\"PYSPARK_DRIVER_PYTHON\"] = \"python\" \n",
    "os.environ[\"PYSPARK_HADOOP_VERSION\"] = \"without\"\n",
    "\n",
    "# Spark set up\n",
    "spark = SparkSession.builder.appName('SparkCassandraApp').\\\n",
    "    config('spark.jars.packages', 'com.datastax.spark:spark-cassandra-connector_2.12:3.4.1').\\\n",
    "    config('spark.cassandra.connection.host', 'localhost').\\\n",
    "    config('spark.sql.extensions', 'com.datastax.spark.connector.CassandraSparkExtensions').\\\n",
    "    config('spark.sql.catalog.mycatalog', 'com.datastax.spark.connector.datasource.CassandraCatalog').\\\n",
    "    config('spark.cassandra.connection.port', '9042').\\\n",
    "    config(\"spark.driver.memory\", \"4g\").\\\n",
    "    config(\"spark.executor.memory\", \"4g\").\\\n",
    "    config(\"spark.task.maxFailures\", \"10\").\\\n",
    "    config(\"spark.sql.shuffle.partitions\", \"200\").\\\n",
    "    getOrCreate()\n",
    "\n",
    "keyspace = \"ind320_project\""
   ]
  },
  {
   "cell_type": "code",
   "execution_count": 4,
   "metadata": {},
   "outputs": [],
   "source": [
    "cluster = Cluster([\"localhost\"], port=9042)\n",
    "session = cluster.connect()\n",
    "keyspace = \"ind320_project\"\n",
    "\n",
    "# Creating a keyspace in Cassandra\n",
    "session.execute(\n",
    "    \"CREATE KEYSPACE IF NOT EXISTS\" + \n",
    "    \" \" + \n",
    "    keyspace + \n",
    "    \" \" + \n",
    "    \"WITH REPLICATION = {'class': 'SimpleStrategy', 'replication_factor': 1};\"\n",
    ")\n",
    "\n",
    "session.set_keyspace(keyspace) # Setting the keyspace to be able to retrieve my tables"
   ]
  },
  {
   "cell_type": "code",
   "execution_count": 5,
   "metadata": {},
   "outputs": [],
   "source": [
    "# Functions from assignment 1: \n",
    "\n",
    "# Creating a view to Cassandra with PySpark\n",
    "def create_cassandra_view(view_name:str, table_name: str, keyspace_name: str):\n",
    "    spark.read.format(\"org.apache.spark.sql.cassandra\")\\\n",
    "        .options(table=table_name, keyspace=keyspace_name)\\\n",
    "        .load()\\\n",
    "        .createOrReplaceTempView(view_name)\n",
    "    print(f\"View '{view_name}' created.\")\n",
    "\n",
    "# Creating a create table query for Cassandra. \n",
    "def create_cassandra_table_query(df, new_table_name, keyspace_name):\n",
    "    # Define mapping between Pandas and Cassandra datatypes\n",
    "    dtype_mapping = {\n",
    "        'int64': 'int',\n",
    "        'float64': 'double',\n",
    "        'object': 'text',\n",
    "        'bool': 'boolean',\n",
    "        'datetime64[ns]': 'timestamp'\n",
    "    }\n",
    "    \n",
    "    # Start constructing the CREATE TABLE query\n",
    "    query = f\"CREATE TABLE IF NOT EXISTS {keyspace_name}.{new_table_name} (\\n\"\n",
    "    \n",
    "    # Add primary key column with timeuuid\n",
    "    columns = [\"id timeuuid\"]\n",
    "    \n",
    "    # Add remaining columns with mapped Cassandra data types\n",
    "    for col, dtype in df.dtypes.items():\n",
    "        if col != \"id\":  # Exclude 'id' to avoid duplication\n",
    "            cassandra_type = dtype_mapping.get(str(dtype), 'text')  # Default to 'text' if type is unrecognized\n",
    "            columns.append(f\"{col} {cassandra_type}\")\n",
    "    \n",
    "    # Join columns with commas and specify primary key as 'id'\n",
    "    columns_str = \",\\n    \".join(columns)\n",
    "    query += f\"    {columns_str},\\n\"\n",
    "    query += \"    PRIMARY KEY (id)\\n);\"\n",
    "    \n",
    "    return query\n",
    "\n",
    "# Inserting a Pandas DataFrame into Cassandra with PySpark \n",
    "def insert_to_cassandra(df: pd.DataFrame , table_name: str, keyspace_name: str): \n",
    "# Prompt: How can I add a timeuuid 'id' column when inserting into Cassandra with PySpark\n",
    "    def generate_timeuuid():\n",
    "        return str(uuid.uuid1())\n",
    "    \n",
    "    timeuuid_udf = udf(generate_timeuuid, StringType())\n",
    "    spark.createDataFrame(df).withColumn(\"id\", timeuuid_udf())\\\n",
    "        .write.format(\"org.apache.spark.sql.cassandra\")\\\n",
    "        .mode(\"append\")\\\n",
    "        .options(table=table_name, keyspace=keyspace_name)\\\n",
    "        .save()\n",
    "    \n",
    "    print(\"Insertion completed!\")"
   ]
  },
  {
   "cell_type": "code",
   "execution_count": 11,
   "metadata": {},
   "outputs": [
    {
     "name": "stdout",
     "output_type": "stream",
     "text": [
      "View 'production_view' created.\n"
     ]
    }
   ],
   "source": [
    "create_cassandra_view(\"production_view\", \"production\", keyspace) "
   ]
  },
  {
   "cell_type": "code",
   "execution_count": 12,
   "metadata": {},
   "outputs": [
    {
     "name": "stderr",
     "output_type": "stream",
     "text": [
      "                                                                                \r"
     ]
    },
    {
     "data": {
      "text/plain": [
       "Index(['id', 'hourdk', 'hourutc', 'municipalityno', 'offshorewindge100mw_mwh',\n",
       "       'offshorewindlt100mw_mwh', 'onshorewindmwh', 'solarmwh',\n",
       "       'thermalpowermwh'],\n",
       "      dtype='object')"
      ]
     },
     "execution_count": 12,
     "metadata": {},
     "output_type": "execute_result"
    }
   ],
   "source": [
    "df_production = spark.sql(\"SELECT * FROM production_view\").toPandas()\n",
    "df_production.columns"
   ]
  },
  {
   "cell_type": "code",
   "execution_count": 20,
   "metadata": {},
   "outputs": [
    {
     "data": {
      "text/html": [
       "<div>\n",
       "<style scoped>\n",
       "    .dataframe tbody tr th:only-of-type {\n",
       "        vertical-align: middle;\n",
       "    }\n",
       "\n",
       "    .dataframe tbody tr th {\n",
       "        vertical-align: top;\n",
       "    }\n",
       "\n",
       "    .dataframe thead th {\n",
       "        text-align: right;\n",
       "    }\n",
       "</style>\n",
       "<table border=\"1\" class=\"dataframe\">\n",
       "  <thead>\n",
       "    <tr style=\"text-align: right;\">\n",
       "      <th></th>\n",
       "      <th>id</th>\n",
       "      <th>hourdk</th>\n",
       "      <th>hourutc</th>\n",
       "      <th>municipalityno</th>\n",
       "      <th>offshorewindge100mw_mwh</th>\n",
       "      <th>offshorewindlt100mw_mwh</th>\n",
       "      <th>onshorewindmwh</th>\n",
       "      <th>solarmwh</th>\n",
       "      <th>thermalpowermwh</th>\n",
       "    </tr>\n",
       "  </thead>\n",
       "  <tbody>\n",
       "  </tbody>\n",
       "</table>\n",
       "</div>"
      ],
      "text/plain": [
       "Empty DataFrame\n",
       "Columns: [id, hourdk, hourutc, municipalityno, offshorewindge100mw_mwh, offshorewindlt100mw_mwh, onshorewindmwh, solarmwh, thermalpowermwh]\n",
       "Index: []"
      ]
     },
     "execution_count": 20,
     "metadata": {},
     "output_type": "execute_result"
    }
   ],
   "source": [
    "df_production.query(\"municipalityno==411\").query(\"onshorewindmwh > 0\")"
   ]
  },
  {
   "cell_type": "markdown",
   "metadata": {},
   "source": [
    "### Geographical locations of municipalities"
   ]
  },
  {
   "cell_type": "code",
   "execution_count": null,
   "metadata": {},
   "outputs": [],
   "source": [
    "# Define price_areas based off of energidataservice.dk's definition:\n",
    "# \"DK1 is west of the Great Belt and DK2 is east of the Great Belt.\"\n",
    "# https://www.energidataservice.dk/tso-electricity/productionconsumptionsettlement\n",
    "\n",
    "price_areas = {\n",
    "    \"DK1\": [\"North\", \"Central\", \"South\"],\n",
    "    \"DK2\": [\"Zealand\", \"Capital\"]\n",
    "}\n",
    "\n",
    "dk2 = [\"Zealand\", \"Capital\"]\n",
    "\n",
    "nominatim = Nominatim(user_agent=\"personal-application, project\") # Initialize a geocoder from GeoPy\n",
    "\n",
    "# Retrieve only \"Region\" and \"Municipality\" from the MongoDB collection\n",
    "region_municipality = municipalities.find({}, {\"Region\": 1, \"Municipality\": 1}) \n",
    "\n",
    "# Iterate over every municipality\n",
    "for row in region_municipality: \n",
    "    _id = row[\"_id\"]\n",
    "\n",
    "    # # Set price area\n",
    "    # if row[\"Region\"] in price_areas[\"DK2\"]:\n",
    "    #     price_area = \"DK2\"\n",
    "    # else: \n",
    "    #     price_area = \"DK1\"\n",
    "\n",
    "     # Set price area\n",
    "    if row[\"Region\"] in dk2:\n",
    "        price_area = \"DK2\"\n",
    "    else: \n",
    "        price_area = \"DK1\"\n",
    "\n",
    "    # Find longitude and latitude of the municipality\n",
    "    geocode_location = nominatim.geocode(row[\"Municipality\"] + \" kommune\")\n",
    "    longitude = geocode_location.longitude\n",
    "    latitude = geocode_location.latitude\n",
    "\n",
    "    # Update the MongoDB entry with new values\n",
    "    update_template = {\n",
    "        \"$set\": {\n",
    "            \"Price Area\": price_area,\n",
    "            \"Longitude\": longitude,\n",
    "            \"Latitude\": latitude\n",
    "        }\n",
    "    }\n",
    "    municipalities.update_one({\"_id\": _id}, update_template) "
   ]
  },
  {
   "cell_type": "markdown",
   "metadata": {},
   "source": [
    "### Weather data"
   ]
  },
  {
   "cell_type": "code",
   "execution_count": null,
   "metadata": {},
   "outputs": [],
   "source": [
    "# Defining time period we want data from\n",
    "start = datetime(2022, 1, 1)\n",
    "end = datetime(2022, 12, 31, 23, 59)\n",
    "\n",
    "# Initialize a MeteoStat station object \n",
    "stations = Stations()\n",
    "\n",
    "df_weather = pd.DataFrame()\n",
    "\n",
    "municipality_coords = municipalities.find({}, {\"Municipality\": 1, \"Longitude\": 1, \"Latitude\": 1})\n",
    "\n",
    "for row in municipality_coords:\n",
    "    latitude = row[\"Latitude\"]\n",
    "    longitude = row[\"Longitude\"]\n",
    "    nearby_stations = stations.nearby(latitude, longitude)\n",
    "    nearest_station = nearby_stations.fetch(1) # Fetches nearest station to the coordinates given \n",
    "    distance = nearest_station[\"distance\"].iloc[0] # Returns distance to nearest station\n",
    "    \n",
    "    weather_location = Hourly(Point(latitude, longitude), start, end) # Fetches hourly weather data for the nearest station during the defined period \n",
    "    weather_data = weather_location.fetch() # Retrieves hourly weather data for specified period\n",
    "    weather_data[\"distance_to_station\"] = distance # Creating a column for the distance\n",
    "    weather_data[\"municipality\"] = row[\"Municipality\"] # Adding a \"municipality\" column so we can distinguish the data \n",
    "\n",
    "    df_weather = pd.concat([df_weather, weather_data]) # Concatenating the weather data subsequently\n",
    "\n",
    "df_weather = df_weather.reset_index()\n",
    "df_weather = df_weather.rename(columns={\"index\": \"datetime\"})"
   ]
  },
  {
   "cell_type": "code",
   "execution_count": 10,
   "metadata": {},
   "outputs": [
    {
     "data": {
      "text/html": [
       "<div>\n",
       "<style scoped>\n",
       "    .dataframe tbody tr th:only-of-type {\n",
       "        vertical-align: middle;\n",
       "    }\n",
       "\n",
       "    .dataframe tbody tr th {\n",
       "        vertical-align: top;\n",
       "    }\n",
       "\n",
       "    .dataframe thead th {\n",
       "        text-align: right;\n",
       "    }\n",
       "</style>\n",
       "<table border=\"1\" class=\"dataframe\">\n",
       "  <thead>\n",
       "    <tr style=\"text-align: right;\">\n",
       "      <th></th>\n",
       "      <th>datetime</th>\n",
       "      <th>temp</th>\n",
       "      <th>dwpt</th>\n",
       "      <th>rhum</th>\n",
       "      <th>prcp</th>\n",
       "      <th>snow</th>\n",
       "      <th>wdir</th>\n",
       "      <th>wspd</th>\n",
       "      <th>wpgt</th>\n",
       "      <th>pres</th>\n",
       "      <th>tsun</th>\n",
       "      <th>coco</th>\n",
       "      <th>distance_to_station</th>\n",
       "      <th>municipality</th>\n",
       "    </tr>\n",
       "  </thead>\n",
       "  <tbody>\n",
       "    <tr>\n",
       "      <th>0</th>\n",
       "      <td>2022-01-01 00:00:00</td>\n",
       "      <td>7.5</td>\n",
       "      <td>7.2</td>\n",
       "      <td>98.0</td>\n",
       "      <td>0.0</td>\n",
       "      <td>NaN</td>\n",
       "      <td>275.0</td>\n",
       "      <td>16.9</td>\n",
       "      <td>33.1</td>\n",
       "      <td>1012.4</td>\n",
       "      <td>NaN</td>\n",
       "      <td>5.0</td>\n",
       "      <td>2336.324166</td>\n",
       "      <td>Copenhagen</td>\n",
       "    </tr>\n",
       "    <tr>\n",
       "      <th>1</th>\n",
       "      <td>2022-01-01 01:00:00</td>\n",
       "      <td>7.4</td>\n",
       "      <td>7.3</td>\n",
       "      <td>99.0</td>\n",
       "      <td>0.0</td>\n",
       "      <td>NaN</td>\n",
       "      <td>277.0</td>\n",
       "      <td>16.2</td>\n",
       "      <td>32.8</td>\n",
       "      <td>1013.1</td>\n",
       "      <td>NaN</td>\n",
       "      <td>5.0</td>\n",
       "      <td>2336.324166</td>\n",
       "      <td>Copenhagen</td>\n",
       "    </tr>\n",
       "    <tr>\n",
       "      <th>2</th>\n",
       "      <td>2022-01-01 02:00:00</td>\n",
       "      <td>7.3</td>\n",
       "      <td>7.2</td>\n",
       "      <td>99.0</td>\n",
       "      <td>0.0</td>\n",
       "      <td>NaN</td>\n",
       "      <td>285.0</td>\n",
       "      <td>15.8</td>\n",
       "      <td>31.3</td>\n",
       "      <td>1013.5</td>\n",
       "      <td>NaN</td>\n",
       "      <td>5.0</td>\n",
       "      <td>2336.324166</td>\n",
       "      <td>Copenhagen</td>\n",
       "    </tr>\n",
       "    <tr>\n",
       "      <th>3</th>\n",
       "      <td>2022-01-01 03:00:00</td>\n",
       "      <td>7.2</td>\n",
       "      <td>6.9</td>\n",
       "      <td>98.0</td>\n",
       "      <td>0.0</td>\n",
       "      <td>NaN</td>\n",
       "      <td>290.0</td>\n",
       "      <td>18.4</td>\n",
       "      <td>36.0</td>\n",
       "      <td>1013.9</td>\n",
       "      <td>NaN</td>\n",
       "      <td>5.0</td>\n",
       "      <td>2336.324166</td>\n",
       "      <td>Copenhagen</td>\n",
       "    </tr>\n",
       "    <tr>\n",
       "      <th>4</th>\n",
       "      <td>2022-01-01 04:00:00</td>\n",
       "      <td>7.5</td>\n",
       "      <td>6.9</td>\n",
       "      <td>96.0</td>\n",
       "      <td>0.0</td>\n",
       "      <td>NaN</td>\n",
       "      <td>291.0</td>\n",
       "      <td>20.2</td>\n",
       "      <td>40.0</td>\n",
       "      <td>1014.3</td>\n",
       "      <td>NaN</td>\n",
       "      <td>5.0</td>\n",
       "      <td>2336.324166</td>\n",
       "      <td>Copenhagen</td>\n",
       "    </tr>\n",
       "    <tr>\n",
       "      <th>...</th>\n",
       "      <td>...</td>\n",
       "      <td>...</td>\n",
       "      <td>...</td>\n",
       "      <td>...</td>\n",
       "      <td>...</td>\n",
       "      <td>...</td>\n",
       "      <td>...</td>\n",
       "      <td>...</td>\n",
       "      <td>...</td>\n",
       "      <td>...</td>\n",
       "      <td>...</td>\n",
       "      <td>...</td>\n",
       "      <td>...</td>\n",
       "      <td>...</td>\n",
       "    </tr>\n",
       "    <tr>\n",
       "      <th>762115</th>\n",
       "      <td>2022-12-31 19:00:00</td>\n",
       "      <td>8.0</td>\n",
       "      <td>8.0</td>\n",
       "      <td>100.0</td>\n",
       "      <td>1.2</td>\n",
       "      <td>NaN</td>\n",
       "      <td>180.0</td>\n",
       "      <td>7.6</td>\n",
       "      <td>20.4</td>\n",
       "      <td>1000.0</td>\n",
       "      <td>NaN</td>\n",
       "      <td>8.0</td>\n",
       "      <td>16705.854121</td>\n",
       "      <td>Fanø</td>\n",
       "    </tr>\n",
       "    <tr>\n",
       "      <th>762116</th>\n",
       "      <td>2022-12-31 20:00:00</td>\n",
       "      <td>7.0</td>\n",
       "      <td>7.0</td>\n",
       "      <td>100.0</td>\n",
       "      <td>1.0</td>\n",
       "      <td>NaN</td>\n",
       "      <td>170.0</td>\n",
       "      <td>9.4</td>\n",
       "      <td>18.5</td>\n",
       "      <td>999.0</td>\n",
       "      <td>NaN</td>\n",
       "      <td>9.0</td>\n",
       "      <td>16705.854121</td>\n",
       "      <td>Fanø</td>\n",
       "    </tr>\n",
       "    <tr>\n",
       "      <th>762117</th>\n",
       "      <td>2022-12-31 21:00:00</td>\n",
       "      <td>7.0</td>\n",
       "      <td>6.9</td>\n",
       "      <td>99.0</td>\n",
       "      <td>0.0</td>\n",
       "      <td>NaN</td>\n",
       "      <td>120.0</td>\n",
       "      <td>5.4</td>\n",
       "      <td>22.2</td>\n",
       "      <td>999.6</td>\n",
       "      <td>NaN</td>\n",
       "      <td>9.0</td>\n",
       "      <td>16705.854121</td>\n",
       "      <td>Fanø</td>\n",
       "    </tr>\n",
       "    <tr>\n",
       "      <th>762118</th>\n",
       "      <td>2022-12-31 22:00:00</td>\n",
       "      <td>7.0</td>\n",
       "      <td>7.0</td>\n",
       "      <td>100.0</td>\n",
       "      <td>1.0</td>\n",
       "      <td>NaN</td>\n",
       "      <td>80.0</td>\n",
       "      <td>5.4</td>\n",
       "      <td>14.8</td>\n",
       "      <td>998.0</td>\n",
       "      <td>NaN</td>\n",
       "      <td>8.0</td>\n",
       "      <td>16705.854121</td>\n",
       "      <td>Fanø</td>\n",
       "    </tr>\n",
       "    <tr>\n",
       "      <th>762119</th>\n",
       "      <td>2022-12-31 23:00:00</td>\n",
       "      <td>7.0</td>\n",
       "      <td>7.0</td>\n",
       "      <td>100.0</td>\n",
       "      <td>1.6</td>\n",
       "      <td>NaN</td>\n",
       "      <td>70.0</td>\n",
       "      <td>7.6</td>\n",
       "      <td>20.4</td>\n",
       "      <td>997.0</td>\n",
       "      <td>NaN</td>\n",
       "      <td>8.0</td>\n",
       "      <td>16705.854121</td>\n",
       "      <td>Fanø</td>\n",
       "    </tr>\n",
       "  </tbody>\n",
       "</table>\n",
       "<p>762120 rows × 14 columns</p>\n",
       "</div>"
      ],
      "text/plain": [
       "                  datetime  temp  dwpt   rhum  prcp  snow   wdir  wspd  wpgt  \\\n",
       "0      2022-01-01 00:00:00   7.5   7.2   98.0   0.0   NaN  275.0  16.9  33.1   \n",
       "1      2022-01-01 01:00:00   7.4   7.3   99.0   0.0   NaN  277.0  16.2  32.8   \n",
       "2      2022-01-01 02:00:00   7.3   7.2   99.0   0.0   NaN  285.0  15.8  31.3   \n",
       "3      2022-01-01 03:00:00   7.2   6.9   98.0   0.0   NaN  290.0  18.4  36.0   \n",
       "4      2022-01-01 04:00:00   7.5   6.9   96.0   0.0   NaN  291.0  20.2  40.0   \n",
       "...                    ...   ...   ...    ...   ...   ...    ...   ...   ...   \n",
       "762115 2022-12-31 19:00:00   8.0   8.0  100.0   1.2   NaN  180.0   7.6  20.4   \n",
       "762116 2022-12-31 20:00:00   7.0   7.0  100.0   1.0   NaN  170.0   9.4  18.5   \n",
       "762117 2022-12-31 21:00:00   7.0   6.9   99.0   0.0   NaN  120.0   5.4  22.2   \n",
       "762118 2022-12-31 22:00:00   7.0   7.0  100.0   1.0   NaN   80.0   5.4  14.8   \n",
       "762119 2022-12-31 23:00:00   7.0   7.0  100.0   1.6   NaN   70.0   7.6  20.4   \n",
       "\n",
       "          pres  tsun  coco  distance_to_station municipality  \n",
       "0       1012.4   NaN   5.0          2336.324166   Copenhagen  \n",
       "1       1013.1   NaN   5.0          2336.324166   Copenhagen  \n",
       "2       1013.5   NaN   5.0          2336.324166   Copenhagen  \n",
       "3       1013.9   NaN   5.0          2336.324166   Copenhagen  \n",
       "4       1014.3   NaN   5.0          2336.324166   Copenhagen  \n",
       "...        ...   ...   ...                  ...          ...  \n",
       "762115  1000.0   NaN   8.0         16705.854121         Fanø  \n",
       "762116   999.0   NaN   9.0         16705.854121         Fanø  \n",
       "762117   999.6   NaN   9.0         16705.854121         Fanø  \n",
       "762118   998.0   NaN   8.0         16705.854121         Fanø  \n",
       "762119   997.0   NaN   8.0         16705.854121         Fanø  \n",
       "\n",
       "[762120 rows x 14 columns]"
      ]
     },
     "execution_count": 10,
     "metadata": {},
     "output_type": "execute_result"
    }
   ],
   "source": [
    "df_weather"
   ]
  },
  {
   "cell_type": "code",
   "execution_count": 11,
   "metadata": {},
   "outputs": [
    {
     "name": "stderr",
     "output_type": "stream",
     "text": [
      "24/11/01 15:32:34 WARN TaskSetManager: Stage 0 contains a task of very large size (8194 KiB). The maximum recommended task size is 1000 KiB.\n",
      "[Stage 0:==========================================>               (8 + 3) / 11]\r"
     ]
    },
    {
     "name": "stdout",
     "output_type": "stream",
     "text": [
      "Insertion completed!\n"
     ]
    },
    {
     "name": "stderr",
     "output_type": "stream",
     "text": [
      "                                                                                \r"
     ]
    }
   ],
   "source": [
    "cas_weather_table = \"weather_data\" # Defining a name for my Cassandra table\n",
    "session.execute(f\"DROP TABLE IF EXISTS {keyspace}.{cas_weather_table}\") # Executing DROP TABLE  \n",
    "weather_table = create_cassandra_table_query(df_weather, cas_weather_table, keyspace) # Creating a CREATE TABLE query based off of the DataFrame df_weather\n",
    "session.execute(weather_table)\n",
    "insert_to_cassandra(df_weather, cas_weather_table, keyspace) "
   ]
  },
  {
   "cell_type": "markdown",
   "metadata": {},
   "source": [
    "## Smoothing and outliers/anomalies"
   ]
  },
  {
   "cell_type": "markdown",
   "metadata": {},
   "source": [
    "### Gas prices"
   ]
  },
  {
   "cell_type": "code",
   "execution_count": 3,
   "metadata": {},
   "outputs": [
    {
     "data": {
      "text/html": [
       "<div>\n",
       "<style scoped>\n",
       "    .dataframe tbody tr th:only-of-type {\n",
       "        vertical-align: middle;\n",
       "    }\n",
       "\n",
       "    .dataframe tbody tr th {\n",
       "        vertical-align: top;\n",
       "    }\n",
       "\n",
       "    .dataframe thead th {\n",
       "        text-align: right;\n",
       "    }\n",
       "</style>\n",
       "<table border=\"1\" class=\"dataframe\">\n",
       "  <thead>\n",
       "    <tr style=\"text-align: right;\">\n",
       "      <th></th>\n",
       "      <th>_id</th>\n",
       "      <th>GasDay</th>\n",
       "      <th>PurchasePriceDKK_kWh</th>\n",
       "    </tr>\n",
       "  </thead>\n",
       "  <tbody>\n",
       "    <tr>\n",
       "      <th>91</th>\n",
       "      <td>6709103c43f4e1efbf67a110</td>\n",
       "      <td>2022-10-01</td>\n",
       "      <td>1.2209</td>\n",
       "    </tr>\n",
       "    <tr>\n",
       "      <th>90</th>\n",
       "      <td>6709103c43f4e1efbf67a10f</td>\n",
       "      <td>2022-10-02</td>\n",
       "      <td>1.1672</td>\n",
       "    </tr>\n",
       "    <tr>\n",
       "      <th>89</th>\n",
       "      <td>6709103c43f4e1efbf67a10e</td>\n",
       "      <td>2022-10-03</td>\n",
       "      <td>1.0476</td>\n",
       "    </tr>\n",
       "    <tr>\n",
       "      <th>88</th>\n",
       "      <td>6709103c43f4e1efbf67a10d</td>\n",
       "      <td>2022-10-04</td>\n",
       "      <td>0.8667</td>\n",
       "    </tr>\n",
       "    <tr>\n",
       "      <th>87</th>\n",
       "      <td>6709103c43f4e1efbf67a10c</td>\n",
       "      <td>2022-10-05</td>\n",
       "      <td>0.6087</td>\n",
       "    </tr>\n",
       "  </tbody>\n",
       "</table>\n",
       "</div>"
      ],
      "text/plain": [
       "                         _id     GasDay  PurchasePriceDKK_kWh\n",
       "91  6709103c43f4e1efbf67a110 2022-10-01                1.2209\n",
       "90  6709103c43f4e1efbf67a10f 2022-10-02                1.1672\n",
       "89  6709103c43f4e1efbf67a10e 2022-10-03                1.0476\n",
       "88  6709103c43f4e1efbf67a10d 2022-10-04                0.8667\n",
       "87  6709103c43f4e1efbf67a10c 2022-10-05                0.6087"
      ]
     },
     "execution_count": 3,
     "metadata": {},
     "output_type": "execute_result"
    }
   ],
   "source": [
    "# Get gas prices from the MongoDB collection \"gas\"\n",
    "gas_prices = [entry for entry in database[\"gas\"].find({}, {\"PurchasePriceDKK_kWh\": 1, \"GasDay\": 1})] \n",
    "\n",
    "df_gas_prices = pd.DataFrame.from_records(gas_prices) # Make a DataFrame from the list of gas prices\n",
    "df_gas_prices = df_gas_prices.sort_values(\"GasDay\", ascending=True) # Sort the dataframe in temporal order\n",
    "df_gas_prices.head()"
   ]
  },
  {
   "cell_type": "code",
   "execution_count": null,
   "metadata": {},
   "outputs": [],
   "source": []
  },
  {
   "cell_type": "code",
   "execution_count": 13,
   "metadata": {},
   "outputs": [
    {
     "data": {
      "image/png": "[encoded data removed]",
      "text/plain": [
       "<Figure size 1000x500 with 1 Axes>"
      ]
     },
     "metadata": {},
     "output_type": "display_data"
    }
   ],
   "source": [
    "W = np.arange(0, df_gas_prices.shape[0])\n",
    "dct_gas_prices = dct(df_gas_prices[\"PurchasePriceDKK_kWh\"].values) # DCT on the gas prices\n",
    "\n",
    "# Plotting of the DCT\n",
    "num_coeff = 15\n",
    "\n",
    "plt.figure(figsize=(10, 5))\n",
    "plt.plot(np.abs(dct_gas_prices))\n",
    "plt.xlabel('coefficient') \n",
    "plt.ylabel('amplitude')\n",
    "# plt.xlim(0, dct_gas_prices.shape[0])\n",
    "plt.xlim(0, num_coeff)\n",
    "plt.xticks(np.arange(0, num_coeff+1, step=2))\n",
    "plt.show()"
   ]
  },
  {
   "cell_type": "code",
   "execution_count": 14,
   "metadata": {},
   "outputs": [
    {
     "data": {
      "image/png": "[encoded data removed]",
      "text/plain": [
       "<Figure size 1000x500 with 1 Axes>"
      ]
     },
     "metadata": {},
     "output_type": "display_data"
    }
   ],
   "source": [
    "dct_gas_prices[(W > 3)] = 0 # Filter out frequencies greater than 3\n",
    "\n",
    "plt.figure(figsize=(10, 5))\n",
    "plt.fill_between(df_gas_prices['GasDay'], df_gas_prices['PurchasePriceDKK_kWh'], \n",
    "                 color='grey', alpha=0.5, label=\"Original\")\n",
    "plt.xlabel('Date')\n",
    "plt.ylabel('Gas Price')\n",
    "plt.title('Gas Prices Over Time')\n",
    "plt.plot(df_gas_prices['GasDay'], idct(dct_gas_prices), label=\"Filtered\",\n",
    "         color=\"purple\", linewidth=6)\n",
    "plt.legend()\n",
    "plt.show()"
   ]
  },
  {
   "cell_type": "markdown",
   "metadata": {},
   "source": [
    "### Electricity exchange"
   ]
  },
  {
   "cell_type": "code",
   "execution_count": 15,
   "metadata": {},
   "outputs": [
    {
     "name": "stderr",
     "output_type": "stream",
     "text": [
      "24/11/01 15:32:56 WARN SparkStringUtils: Truncated the string representation of a plan since it was too large. This behavior can be adjusted by setting 'spark.sql.debug.maxToStringFields'.\n"
     ]
    },
    {
     "name": "stdout",
     "output_type": "stream",
     "text": [
      "View 'prodcons_view' created.\n",
      "Mean: 228.6\n",
      "Standard deviation: 1013.0\n"
     ]
    }
   ],
   "source": [
    "create_cassandra_view(\"prodcons_view\", \"prodcons\", keyspace)  # Create a view to access the \"prodcons\" table\n",
    "df_exchangeNO = spark.sql(\"SELECT hourdk, exchangeno_mwh FROM prodcons_view\").toPandas()\n",
    "df_exchangeNO = df_exchangeNO.groupby(\"hourdk\").aggregate({\"exchangeno_mwh\": \"sum\"}) # Aggregate sum such that we get the total exchange for DK1 and DK2\n",
    "\n",
    "# Mean and standard deviation of the electricity exchange\n",
    "mean_exchangeNO = df_exchangeNO[\"exchangeno_mwh\"].mean()\n",
    "std_exchangeNO = df_exchangeNO[\"exchangeno_mwh\"].std()\n",
    "print(f\"Mean: {mean_exchangeNO:.1f}\")\n",
    "print(f\"Standard deviation: {std_exchangeNO:.1f}\")"
   ]
  },
  {
   "cell_type": "markdown",
   "metadata": {},
   "source": [
    "In 2022, the danes on average imported $228.6\\ MWh$ of energy a day from Norway with a standard deviation of $1013\\ MWh$. The standard deviation is big as it constantly jumps between importing and exporting energy. "
   ]
  },
  {
   "cell_type": "code",
   "execution_count": 16,
   "metadata": {},
   "outputs": [
    {
     "name": "stdout",
     "output_type": "stream",
     "text": [
      "Trimmed mean: 256.473\n",
      "MAD: 694.875\n",
      "Adjusted MAD: 1030.222\n"
     ]
    }
   ],
   "source": [
    "# Robust statistics\n",
    "k = 1.4826 # k with the assumption that our data is normally distributed\n",
    "trim_mean_exchangeNO = stats.trim_mean(df_exchangeNO[\"exchangeno_mwh\"], 0.05) # Trimmed mean removing 5% of the most extreme observations\n",
    "MAD_exchangeNO = stats.median_abs_deviation(df_exchangeNO[\"exchangeno_mwh\"])\n",
    "print(f\"Trimmed mean: {trim_mean_exchangeNO:.3f}\")\n",
    "print(f\"MAD: {MAD_exchangeNO:.3f}\")\n",
    "print(f\"Adjusted MAD: {MAD_exchangeNO * k:.3f}\")"
   ]
  },
  {
   "cell_type": "markdown",
   "metadata": {},
   "source": [
    "\n",
    "Trimmed mean is different from the normal mean statistic as we remove a percentage of the most extreme observations, here 5%. Since we are removing a proportion, the number of samples becomes smaller which results in a \"bigger\" mean value than the original mean.\n",
    "\n",
    "Median absolute devation differs from standard deviation, but it has a relation to it by multiplying it by $k \\approx 1.4826$ if we assume that our data is normally distributed. By multiplying by $k$ we get a value more similair to the standard deviation $\\hat{\\sigma}$ approximated above. We see that our adjusted $MAD$-value differs slightly from the standard deviation we estimated above."
   ]
  },
  {
   "cell_type": "code",
   "execution_count": 17,
   "metadata": {},
   "outputs": [
    {
     "data": {
      "image/png": "[encoded data removed]",
      "text/plain": [
       "<Figure size 1000x500 with 1 Axes>"
      ]
     },
     "metadata": {},
     "output_type": "display_data"
    }
   ],
   "source": [
    "# Plotting the gas prices with standard deviations and mean\n",
    "plt.figure(figsize=(10, 5))\n",
    "plt.plot(df_exchangeNO.index, df_exchangeNO[\"exchangeno_mwh\"], color=\"blue\")\n",
    "plt.title(\"Exchange of energy Denmark-Norway 2022\")\n",
    "plt.axhline(mean_exchangeNO, color=\"black\", label=\"Mean\")\n",
    "plt.axhline(mean_exchangeNO - std_exchangeNO, color=\"red\", label=\"-1 Std Dev\")\n",
    "plt.axhline(mean_exchangeNO + std_exchangeNO, color=\"red\", label=\"+1 Std Dev\")\n",
    "plt.axhline(mean_exchangeNO - 2 * std_exchangeNO, color=\"red\", linestyle=\"--\", label=\"-2 Std Dev\")\n",
    "plt.axhline(mean_exchangeNO + 2 * std_exchangeNO, color=\"red\", linestyle=\"--\", label=\"+2 Std Dev\")\n",
    "plt.legend()\n",
    "plt.show()"
   ]
  },
  {
   "cell_type": "code",
   "execution_count": 18,
   "metadata": {},
   "outputs": [
    {
     "name": "stdout",
     "output_type": "stream",
     "text": [
      "-2810.4 3267.5\n"
     ]
    }
   ],
   "source": [
    "# Calculating +- 3 Standard deviations\n",
    "upper_spc = mean_exchangeNO + 3 * std_exchangeNO\n",
    "lower_spc = mean_exchangeNO - 3 * std_exchangeNO\n",
    "\n",
    "print(f\"{lower_spc:.1f}\", f\"{upper_spc:.1f}\")"
   ]
  },
  {
   "cell_type": "markdown",
   "metadata": {},
   "source": [
    "If we assume any measurement outside $\\pm 3$ to be an outlier, the export of energy has to be greater than $2810.4\\ MWh$ or the import has to be greater than $3267.5\\ MWh$ before we flag it."
   ]
  },
  {
   "cell_type": "markdown",
   "metadata": {},
   "source": [
    "## Imputation"
   ]
  },
  {
   "cell_type": "code",
   "execution_count": 6,
   "metadata": {},
   "outputs": [
    {
     "name": "stderr",
     "output_type": "stream",
     "text": [
      "24/11/08 18:18:01 WARN SparkStringUtils: Truncated the string representation of a plan since it was too large. This behavior can be adjusted by setting 'spark.sql.debug.maxToStringFields'.\n"
     ]
    },
    {
     "name": "stdout",
     "output_type": "stream",
     "text": [
      "View 'prodcons_view' created.\n",
      "View 'production_view' created.\n",
      "View 'consumption_view' created.\n",
      "View 'weather_view' created.\n"
     ]
    },
    {
     "name": "stderr",
     "output_type": "stream",
     "text": [
      "                                                                                \r"
     ]
    }
   ],
   "source": [
    "# Get gas prices from my MongoDB collection \"gas\" \n",
    "gas_prices = [entry for entry in \\\n",
    "              database[\"gas\"].find()]\n",
    "\n",
    "# Create views to access my Cassandra tables\n",
    "create_cassandra_view(\"prodcons_view\", \"prodcons\", keyspace)  \n",
    "create_cassandra_view(\"production_view\", \"production\", keyspace)\n",
    "create_cassandra_view(\"consumption_view\", \"consumption\", keyspace)\n",
    "create_cassandra_view(\"weather_view\", \"weather_data\", keyspace)\n",
    "\n",
    "# Retrieve and prepare DataFrames \n",
    "df_municipalities = pd.DataFrame.from_records([entry for entry in \n",
    "                                               municipalities.find({})]) \n",
    "df_gas_prices = pd.DataFrame.from_records(gas_prices)\n",
    "df_prodcons = spark.sql(\"SELECT * FROM prodcons_view\").toPandas()\n",
    "df_production = spark.sql(\"SELECT * FROM production_view\").toPandas()\n",
    "df_consumption = spark.sql(\"SELECT * FROM consumption_view\").toPandas()\n",
    "df_weather_data = spark.sql(\"SELECT * FROM weather_view\").toPandas()"
   ]
  },
  {
   "cell_type": "markdown",
   "metadata": {},
   "source": [
    "### Checking for missing values in each dataframe"
   ]
  },
  {
   "cell_type": "code",
   "execution_count": 7,
   "metadata": {},
   "outputs": [
    {
     "name": "stdout",
     "output_type": "stream",
     "text": [
      "\n",
      "gas_prices - (92, 13):\n",
      "EEXHighestPricePurchaseDKK_kWh    70\n",
      "EEXLowestPriceSaleDKK_kWh         64\n",
      "dtype: int64\n",
      "\n",
      "prodcons - (17520, 29):\n",
      "exchangegb_mwh    17520\n",
      "exchangenl_mwh     8760\n",
      "exchangeno_mwh     8760\n",
      "dtype: int64\n",
      "\n",
      "production - (871393, 9):\n",
      "offshorewindge100mw_mwh    818834\n",
      "offshorewindlt100mw_mwh    801313\n",
      "solarmwh                     8760\n",
      "thermalpowermwh            123888\n",
      "dtype: int64\n",
      "\n",
      "weather_data - (762120, 15):\n",
      "coco     48361\n",
      "dwpt      2658\n",
      "prcp    158466\n",
      "pres      2658\n",
      "rhum      2658\n",
      "snow    718431\n",
      "temp      2658\n",
      "tsun    720638\n",
      "wdir      2661\n",
      "wpgt      2723\n",
      "wspd      2658\n",
      "dtype: int64\n"
     ]
    }
   ],
   "source": [
    "dfs = {\"gas_prices\": df_gas_prices, \"prodcons\": df_prodcons, \n",
    "       \"production\": df_production, \"consumption\": df_consumption, \n",
    "       \"weather_data\": df_weather_data, \"municipalities\": df_municipalities}\n",
    "\n",
    "for key, df in dfs.items():\n",
    "    na_df = df.isna().sum() # Get sum of NAs for every column of the DataFrame\n",
    "    non_zero_na_df = na_df[na_df > 0] # Filter out the columns that does not have NAs\n",
    "\n",
    "    # Print out a summary of missing values in a DataFrame if there is any\n",
    "    if not non_zero_na_df.empty: \n",
    "       print(f\"\\n{key} - {df.shape}:\")\n",
    "       print(non_zero_na_df)"
   ]
  },
  {
   "cell_type": "code",
   "execution_count": 36,
   "metadata": {},
   "outputs": [],
   "source": [
    "# A function to create an overview of the number and proportion missing \n",
    "# values in a DataFrame\n",
    "def na_overview(df: pd.DataFrame):\n",
    "    na_df = df.isna().sum()\n",
    "    na_df = na_df[na_df > 0].to_frame(name=\"# missing values\")\n",
    "    na_df[\"% missing values\"] = na_df[\"# missing values\"] / df.shape[0]\n",
    "    print(df.shape)\n",
    "    return na_df"
   ]
  },
  {
   "cell_type": "markdown",
   "metadata": {},
   "source": [
    "#### Gas prices"
   ]
  },
  {
   "cell_type": "code",
   "execution_count": 31,
   "metadata": {},
   "outputs": [
    {
     "name": "stdout",
     "output_type": "stream",
     "text": [
      "(92, 13)\n"
     ]
    },
    {
     "data": {
      "text/html": [
       "<div>\n",
       "<style scoped>\n",
       "    .dataframe tbody tr th:only-of-type {\n",
       "        vertical-align: middle;\n",
       "    }\n",
       "\n",
       "    .dataframe tbody tr th {\n",
       "        vertical-align: top;\n",
       "    }\n",
       "\n",
       "    .dataframe thead th {\n",
       "        text-align: right;\n",
       "    }\n",
       "</style>\n",
       "<table border=\"1\" class=\"dataframe\">\n",
       "  <thead>\n",
       "    <tr style=\"text-align: right;\">\n",
       "      <th></th>\n",
       "      <th>_id</th>\n",
       "      <th>GasDay</th>\n",
       "      <th>EEXSpotIndexEUR_MWh</th>\n",
       "      <th>EEXWithinDayEUR_MWh</th>\n",
       "      <th>ExchangeRateEUR_DKK</th>\n",
       "      <th>SalesPriceDKK_kWh</th>\n",
       "      <th>PurchasePriceDKK_kWh</th>\n",
       "      <th>NeutralGasPriceDKK_kWh</th>\n",
       "      <th>EEXHighestPricePurchaseDKK_kWh</th>\n",
       "      <th>EEXLowestPriceSaleDKK_kWh</th>\n",
       "      <th>MarginalSalePriceDKK_kWh</th>\n",
       "      <th>MarginalPurchasePriceDKK_kWh</th>\n",
       "      <th>THEPriceDKK_kWh</th>\n",
       "    </tr>\n",
       "  </thead>\n",
       "  <tbody>\n",
       "    <tr>\n",
       "      <th>0</th>\n",
       "      <td>6709103c43f4e1efbf67a0b5</td>\n",
       "      <td>2022-12-31</td>\n",
       "      <td>77.298</td>\n",
       "      <td>70.081</td>\n",
       "      <td>743.65</td>\n",
       "      <td>0.5238</td>\n",
       "      <td>0.5186</td>\n",
       "      <td>0.5212</td>\n",
       "      <td>1.0427</td>\n",
       "      <td>0.4911</td>\n",
       "      <td>0.5238</td>\n",
       "      <td>0.5186</td>\n",
       "      <td>0.4746</td>\n",
       "    </tr>\n",
       "    <tr>\n",
       "      <th>1</th>\n",
       "      <td>6709103c43f4e1efbf67a0b6</td>\n",
       "      <td>2022-12-30</td>\n",
       "      <td>82.806</td>\n",
       "      <td>75.892</td>\n",
       "      <td>743.65</td>\n",
       "      <td>0.5672</td>\n",
       "      <td>0.5616</td>\n",
       "      <td>0.5644</td>\n",
       "      <td>0.6691</td>\n",
       "      <td>0.4911</td>\n",
       "      <td>0.6691</td>\n",
       "      <td>0.5616</td>\n",
       "      <td>0.5933</td>\n",
       "    </tr>\n",
       "    <tr>\n",
       "      <th>2</th>\n",
       "      <td>6709103c43f4e1efbf67a0b7</td>\n",
       "      <td>2022-12-29</td>\n",
       "      <td>79.118</td>\n",
       "      <td>80.354</td>\n",
       "      <td>743.65</td>\n",
       "      <td>0.6005</td>\n",
       "      <td>0.5946</td>\n",
       "      <td>0.5976</td>\n",
       "      <td>1.0427</td>\n",
       "      <td>0.5860</td>\n",
       "      <td>0.6005</td>\n",
       "      <td>0.5860</td>\n",
       "      <td>0.5733</td>\n",
       "    </tr>\n",
       "    <tr>\n",
       "      <th>3</th>\n",
       "      <td>6709103c43f4e1efbf67a0b8</td>\n",
       "      <td>2022-12-28</td>\n",
       "      <td>83.935</td>\n",
       "      <td>76.406</td>\n",
       "      <td>743.65</td>\n",
       "      <td>0.5710</td>\n",
       "      <td>0.5654</td>\n",
       "      <td>0.5682</td>\n",
       "      <td>1.0427</td>\n",
       "      <td>0.5507</td>\n",
       "      <td>0.5710</td>\n",
       "      <td>0.5507</td>\n",
       "      <td>0.6195</td>\n",
       "    </tr>\n",
       "    <tr>\n",
       "      <th>4</th>\n",
       "      <td>6709103c43f4e1efbf67a0b9</td>\n",
       "      <td>2022-12-27</td>\n",
       "      <td>83.707</td>\n",
       "      <td>81.047</td>\n",
       "      <td>743.66</td>\n",
       "      <td>0.6057</td>\n",
       "      <td>0.5997</td>\n",
       "      <td>0.6027</td>\n",
       "      <td>1.0427</td>\n",
       "      <td>0.4911</td>\n",
       "      <td>0.6057</td>\n",
       "      <td>0.5997</td>\n",
       "      <td>0.6149</td>\n",
       "    </tr>\n",
       "    <tr>\n",
       "      <th>...</th>\n",
       "      <td>...</td>\n",
       "      <td>...</td>\n",
       "      <td>...</td>\n",
       "      <td>...</td>\n",
       "      <td>...</td>\n",
       "      <td>...</td>\n",
       "      <td>...</td>\n",
       "      <td>...</td>\n",
       "      <td>...</td>\n",
       "      <td>...</td>\n",
       "      <td>...</td>\n",
       "      <td>...</td>\n",
       "      <td>...</td>\n",
       "    </tr>\n",
       "    <tr>\n",
       "      <th>87</th>\n",
       "      <td>6709103c43f4e1efbf67a10c</td>\n",
       "      <td>2022-10-05</td>\n",
       "      <td>119.772</td>\n",
       "      <td>82.244</td>\n",
       "      <td>743.88</td>\n",
       "      <td>0.6149</td>\n",
       "      <td>0.6087</td>\n",
       "      <td>0.6118</td>\n",
       "      <td>1.0427</td>\n",
       "      <td>0.4911</td>\n",
       "      <td>0.6149</td>\n",
       "      <td>0.6087</td>\n",
       "      <td>0.7978</td>\n",
       "    </tr>\n",
       "    <tr>\n",
       "      <th>88</th>\n",
       "      <td>6709103c43f4e1efbf67a10d</td>\n",
       "      <td>2022-10-04</td>\n",
       "      <td>147.942</td>\n",
       "      <td>117.112</td>\n",
       "      <td>743.74</td>\n",
       "      <td>0.8754</td>\n",
       "      <td>0.8667</td>\n",
       "      <td>0.8710</td>\n",
       "      <td>1.0427</td>\n",
       "      <td>0.3719</td>\n",
       "      <td>0.8754</td>\n",
       "      <td>0.3719</td>\n",
       "      <td>1.0478</td>\n",
       "    </tr>\n",
       "    <tr>\n",
       "      <th>89</th>\n",
       "      <td>6709103c43f4e1efbf67a10e</td>\n",
       "      <td>2022-10-03</td>\n",
       "      <td>167.210</td>\n",
       "      <td>141.581</td>\n",
       "      <td>743.66</td>\n",
       "      <td>1.0581</td>\n",
       "      <td>1.0476</td>\n",
       "      <td>1.0529</td>\n",
       "      <td>1.0427</td>\n",
       "      <td>0.4911</td>\n",
       "      <td>1.0581</td>\n",
       "      <td>1.0476</td>\n",
       "      <td>1.2203</td>\n",
       "    </tr>\n",
       "    <tr>\n",
       "      <th>90</th>\n",
       "      <td>6709103c43f4e1efbf67a10f</td>\n",
       "      <td>2022-10-02</td>\n",
       "      <td>168.168</td>\n",
       "      <td>157.742</td>\n",
       "      <td>743.65</td>\n",
       "      <td>1.1789</td>\n",
       "      <td>1.1672</td>\n",
       "      <td>1.1730</td>\n",
       "      <td>1.0427</td>\n",
       "      <td>0.4911</td>\n",
       "      <td>1.1789</td>\n",
       "      <td>1.1672</td>\n",
       "      <td>1.2239</td>\n",
       "    </tr>\n",
       "    <tr>\n",
       "      <th>91</th>\n",
       "      <td>6709103c43f4e1efbf67a110</td>\n",
       "      <td>2022-10-01</td>\n",
       "      <td>168.168</td>\n",
       "      <td>165.000</td>\n",
       "      <td>743.65</td>\n",
       "      <td>1.2332</td>\n",
       "      <td>1.2209</td>\n",
       "      <td>1.2270</td>\n",
       "      <td>1.0427</td>\n",
       "      <td>0.4911</td>\n",
       "      <td>1.2332</td>\n",
       "      <td>1.2209</td>\n",
       "      <td>1.2239</td>\n",
       "    </tr>\n",
       "  </tbody>\n",
       "</table>\n",
       "<p>92 rows × 13 columns</p>\n",
       "</div>"
      ],
      "text/plain": [
       "                         _id     GasDay  EEXSpotIndexEUR_MWh  \\\n",
       "0   6709103c43f4e1efbf67a0b5 2022-12-31               77.298   \n",
       "1   6709103c43f4e1efbf67a0b6 2022-12-30               82.806   \n",
       "2   6709103c43f4e1efbf67a0b7 2022-12-29               79.118   \n",
       "3   6709103c43f4e1efbf67a0b8 2022-12-28               83.935   \n",
       "4   6709103c43f4e1efbf67a0b9 2022-12-27               83.707   \n",
       "..                       ...        ...                  ...   \n",
       "87  6709103c43f4e1efbf67a10c 2022-10-05              119.772   \n",
       "88  6709103c43f4e1efbf67a10d 2022-10-04              147.942   \n",
       "89  6709103c43f4e1efbf67a10e 2022-10-03              167.210   \n",
       "90  6709103c43f4e1efbf67a10f 2022-10-02              168.168   \n",
       "91  6709103c43f4e1efbf67a110 2022-10-01              168.168   \n",
       "\n",
       "    EEXWithinDayEUR_MWh  ExchangeRateEUR_DKK  SalesPriceDKK_kWh  \\\n",
       "0                70.081               743.65             0.5238   \n",
       "1                75.892               743.65             0.5672   \n",
       "2                80.354               743.65             0.6005   \n",
       "3                76.406               743.65             0.5710   \n",
       "4                81.047               743.66             0.6057   \n",
       "..                  ...                  ...                ...   \n",
       "87               82.244               743.88             0.6149   \n",
       "88              117.112               743.74             0.8754   \n",
       "89              141.581               743.66             1.0581   \n",
       "90              157.742               743.65             1.1789   \n",
       "91              165.000               743.65             1.2332   \n",
       "\n",
       "    PurchasePriceDKK_kWh  NeutralGasPriceDKK_kWh  \\\n",
       "0                 0.5186                  0.5212   \n",
       "1                 0.5616                  0.5644   \n",
       "2                 0.5946                  0.5976   \n",
       "3                 0.5654                  0.5682   \n",
       "4                 0.5997                  0.6027   \n",
       "..                   ...                     ...   \n",
       "87                0.6087                  0.6118   \n",
       "88                0.8667                  0.8710   \n",
       "89                1.0476                  1.0529   \n",
       "90                1.1672                  1.1730   \n",
       "91                1.2209                  1.2270   \n",
       "\n",
       "    EEXHighestPricePurchaseDKK_kWh  EEXLowestPriceSaleDKK_kWh  \\\n",
       "0                           1.0427                     0.4911   \n",
       "1                           0.6691                     0.4911   \n",
       "2                           1.0427                     0.5860   \n",
       "3                           1.0427                     0.5507   \n",
       "4                           1.0427                     0.4911   \n",
       "..                             ...                        ...   \n",
       "87                          1.0427                     0.4911   \n",
       "88                          1.0427                     0.3719   \n",
       "89                          1.0427                     0.4911   \n",
       "90                          1.0427                     0.4911   \n",
       "91                          1.0427                     0.4911   \n",
       "\n",
       "    MarginalSalePriceDKK_kWh  MarginalPurchasePriceDKK_kWh  THEPriceDKK_kWh  \n",
       "0                     0.5238                        0.5186           0.4746  \n",
       "1                     0.6691                        0.5616           0.5933  \n",
       "2                     0.6005                        0.5860           0.5733  \n",
       "3                     0.5710                        0.5507           0.6195  \n",
       "4                     0.6057                        0.5997           0.6149  \n",
       "..                       ...                           ...              ...  \n",
       "87                    0.6149                        0.6087           0.7978  \n",
       "88                    0.8754                        0.3719           1.0478  \n",
       "89                    1.0581                        1.0476           1.2203  \n",
       "90                    1.1789                        1.1672           1.2239  \n",
       "91                    1.2332                        1.2209           1.2239  \n",
       "\n",
       "[92 rows x 13 columns]"
      ]
     },
     "execution_count": 31,
     "metadata": {},
     "output_type": "execute_result"
    }
   ],
   "source": [
    "na_gas = na_overview(df_gas_prices)\n",
    "na_gas"
   ]
  },
  {
   "cell_type": "code",
   "execution_count": 15,
   "metadata": {},
   "outputs": [
    {
     "data": {
      "text/html": [
       "<div>\n",
       "<style scoped>\n",
       "    .dataframe tbody tr th:only-of-type {\n",
       "        vertical-align: middle;\n",
       "    }\n",
       "\n",
       "    .dataframe tbody tr th {\n",
       "        vertical-align: top;\n",
       "    }\n",
       "\n",
       "    .dataframe thead th {\n",
       "        text-align: right;\n",
       "    }\n",
       "</style>\n",
       "<table border=\"1\" class=\"dataframe\">\n",
       "  <thead>\n",
       "    <tr style=\"text-align: right;\">\n",
       "      <th></th>\n",
       "      <th>_id</th>\n",
       "      <th>GasDay</th>\n",
       "      <th>EEXSpotIndexEUR_MWh</th>\n",
       "      <th>EEXWithinDayEUR_MWh</th>\n",
       "      <th>ExchangeRateEUR_DKK</th>\n",
       "      <th>SalesPriceDKK_kWh</th>\n",
       "      <th>PurchasePriceDKK_kWh</th>\n",
       "      <th>NeutralGasPriceDKK_kWh</th>\n",
       "      <th>EEXHighestPricePurchaseDKK_kWh</th>\n",
       "      <th>EEXLowestPriceSaleDKK_kWh</th>\n",
       "      <th>MarginalSalePriceDKK_kWh</th>\n",
       "      <th>MarginalPurchasePriceDKK_kWh</th>\n",
       "      <th>THEPriceDKK_kWh</th>\n",
       "    </tr>\n",
       "  </thead>\n",
       "  <tbody>\n",
       "    <tr>\n",
       "      <th>0</th>\n",
       "      <td>6709103c43f4e1efbf67a0b5</td>\n",
       "      <td>2022-12-31</td>\n",
       "      <td>77.298</td>\n",
       "      <td>70.081</td>\n",
       "      <td>743.65</td>\n",
       "      <td>0.5238</td>\n",
       "      <td>0.5186</td>\n",
       "      <td>0.5212</td>\n",
       "      <td>1.0427</td>\n",
       "      <td>0.4911</td>\n",
       "      <td>0.5238</td>\n",
       "      <td>0.5186</td>\n",
       "      <td>0.4746</td>\n",
       "    </tr>\n",
       "    <tr>\n",
       "      <th>1</th>\n",
       "      <td>6709103c43f4e1efbf67a0b6</td>\n",
       "      <td>2022-12-30</td>\n",
       "      <td>82.806</td>\n",
       "      <td>75.892</td>\n",
       "      <td>743.65</td>\n",
       "      <td>0.5672</td>\n",
       "      <td>0.5616</td>\n",
       "      <td>0.5644</td>\n",
       "      <td>0.6691</td>\n",
       "      <td>0.4911</td>\n",
       "      <td>0.6691</td>\n",
       "      <td>0.5616</td>\n",
       "      <td>0.5933</td>\n",
       "    </tr>\n",
       "    <tr>\n",
       "      <th>2</th>\n",
       "      <td>6709103c43f4e1efbf67a0b7</td>\n",
       "      <td>2022-12-29</td>\n",
       "      <td>79.118</td>\n",
       "      <td>80.354</td>\n",
       "      <td>743.65</td>\n",
       "      <td>0.6005</td>\n",
       "      <td>0.5946</td>\n",
       "      <td>0.5976</td>\n",
       "      <td>1.0427</td>\n",
       "      <td>0.5860</td>\n",
       "      <td>0.6005</td>\n",
       "      <td>0.5860</td>\n",
       "      <td>0.5733</td>\n",
       "    </tr>\n",
       "    <tr>\n",
       "      <th>3</th>\n",
       "      <td>6709103c43f4e1efbf67a0b8</td>\n",
       "      <td>2022-12-28</td>\n",
       "      <td>83.935</td>\n",
       "      <td>76.406</td>\n",
       "      <td>743.65</td>\n",
       "      <td>0.5710</td>\n",
       "      <td>0.5654</td>\n",
       "      <td>0.5682</td>\n",
       "      <td>1.0427</td>\n",
       "      <td>0.5507</td>\n",
       "      <td>0.5710</td>\n",
       "      <td>0.5507</td>\n",
       "      <td>0.6195</td>\n",
       "    </tr>\n",
       "    <tr>\n",
       "      <th>4</th>\n",
       "      <td>6709103c43f4e1efbf67a0b9</td>\n",
       "      <td>2022-12-27</td>\n",
       "      <td>83.707</td>\n",
       "      <td>81.047</td>\n",
       "      <td>743.66</td>\n",
       "      <td>0.6057</td>\n",
       "      <td>0.5997</td>\n",
       "      <td>0.6027</td>\n",
       "      <td>1.0427</td>\n",
       "      <td>0.4911</td>\n",
       "      <td>0.6057</td>\n",
       "      <td>0.5997</td>\n",
       "      <td>0.6149</td>\n",
       "    </tr>\n",
       "  </tbody>\n",
       "</table>\n",
       "</div>"
      ],
      "text/plain": [
       "                        _id     GasDay  EEXSpotIndexEUR_MWh  \\\n",
       "0  6709103c43f4e1efbf67a0b5 2022-12-31               77.298   \n",
       "1  6709103c43f4e1efbf67a0b6 2022-12-30               82.806   \n",
       "2  6709103c43f4e1efbf67a0b7 2022-12-29               79.118   \n",
       "3  6709103c43f4e1efbf67a0b8 2022-12-28               83.935   \n",
       "4  6709103c43f4e1efbf67a0b9 2022-12-27               83.707   \n",
       "\n",
       "   EEXWithinDayEUR_MWh  ExchangeRateEUR_DKK  SalesPriceDKK_kWh  \\\n",
       "0               70.081               743.65             0.5238   \n",
       "1               75.892               743.65             0.5672   \n",
       "2               80.354               743.65             0.6005   \n",
       "3               76.406               743.65             0.5710   \n",
       "4               81.047               743.66             0.6057   \n",
       "\n",
       "   PurchasePriceDKK_kWh  NeutralGasPriceDKK_kWh  \\\n",
       "0                0.5186                  0.5212   \n",
       "1                0.5616                  0.5644   \n",
       "2                0.5946                  0.5976   \n",
       "3                0.5654                  0.5682   \n",
       "4                0.5997                  0.6027   \n",
       "\n",
       "   EEXHighestPricePurchaseDKK_kWh  EEXLowestPriceSaleDKK_kWh  \\\n",
       "0                          1.0427                     0.4911   \n",
       "1                          0.6691                     0.4911   \n",
       "2                          1.0427                     0.5860   \n",
       "3                          1.0427                     0.5507   \n",
       "4                          1.0427                     0.4911   \n",
       "\n",
       "   MarginalSalePriceDKK_kWh  MarginalPurchasePriceDKK_kWh  THEPriceDKK_kWh  \n",
       "0                    0.5238                        0.5186           0.4746  \n",
       "1                    0.6691                        0.5616           0.5933  \n",
       "2                    0.6005                        0.5860           0.5733  \n",
       "3                    0.5710                        0.5507           0.6195  \n",
       "4                    0.6057                        0.5997           0.6149  "
      ]
     },
     "execution_count": 15,
     "metadata": {},
     "output_type": "execute_result"
    }
   ],
   "source": [
    "df_gas_prices.head()"
   ]
  },
  {
   "cell_type": "code",
   "execution_count": 18,
   "metadata": {},
   "outputs": [
    {
     "data": {
      "text/plain": [
       "{'insertedCount': 92}"
      ]
     },
     "execution_count": 18,
     "metadata": {},
     "output_type": "execute_result"
    }
   ],
   "source": [
    "from bson import ObjectId\n",
    "\n",
    "df_gas_prices[\"EEXHighestPricePurchaseDKK_kWh\"] =\\\n",
    "    df_gas_prices[\"EEXHighestPricePurchaseDKK_kWh\"].fillna(\n",
    "        df_gas_prices[\"EEXHighestPricePurchaseDKK_kWh\"].median()\n",
    "    )\n",
    "\n",
    "df_gas_prices[\"EEXLowestPriceSaleDKK_kWh\"] =\\\n",
    "    df_gas_prices[\"EEXLowestPriceSaleDKK_kWh\"].fillna(\n",
    "        df_gas_prices[\"EEXLowestPriceSaleDKK_kWh\"].median()\n",
    "    )\n",
    "\n",
    "df_gas_prices[\"_id\"] = df_gas_prices[\"_id\"].apply(lambda x: ObjectId(x)).\\\n",
    "    astype(str)\n",
    "\n",
    "write(database[\"gas\"], df_gas_prices)"
   ]
  },
  {
   "cell_type": "markdown",
   "metadata": {},
   "source": [
    "#### Prodcons"
   ]
  },
  {
   "cell_type": "code",
   "execution_count": 27,
   "metadata": {},
   "outputs": [
    {
     "name": "stdout",
     "output_type": "stream",
     "text": [
      "(17520, 29)\n"
     ]
    }
   ],
   "source": [
    "# Get an overview of the number and proportion of missing values\n",
    "na_prodcons = na_overview(df_prodcons)\n",
    "na_prodcons"
   ]
  },
  {
   "cell_type": "code",
   "execution_count": 23,
   "metadata": {},
   "outputs": [
    {
     "data": {
      "text/html": [
       "<div>\n",
       "<style scoped>\n",
       "    .dataframe tbody tr th:only-of-type {\n",
       "        vertical-align: middle;\n",
       "    }\n",
       "\n",
       "    .dataframe tbody tr th {\n",
       "        vertical-align: top;\n",
       "    }\n",
       "\n",
       "    .dataframe thead th {\n",
       "        text-align: right;\n",
       "    }\n",
       "</style>\n",
       "<table border=\"1\" class=\"dataframe\">\n",
       "  <thead>\n",
       "    <tr style=\"text-align: right;\">\n",
       "      <th></th>\n",
       "      <th>hourdk</th>\n",
       "      <th>pricearea</th>\n",
       "      <th>exchangeno_mwh</th>\n",
       "      <th>exchangenl_mwh</th>\n",
       "      <th>exchangegb_mwh</th>\n",
       "    </tr>\n",
       "  </thead>\n",
       "  <tbody>\n",
       "    <tr>\n",
       "      <th>11233</th>\n",
       "      <td>2022-01-01 00:00:00</td>\n",
       "      <td>DK1</td>\n",
       "      <td>-1131.8420</td>\n",
       "      <td>-621.410</td>\n",
       "      <td>NaN</td>\n",
       "    </tr>\n",
       "    <tr>\n",
       "      <th>7560</th>\n",
       "      <td>2022-01-01 00:00:00</td>\n",
       "      <td>DK2</td>\n",
       "      <td>NaN</td>\n",
       "      <td>NaN</td>\n",
       "      <td>NaN</td>\n",
       "    </tr>\n",
       "    <tr>\n",
       "      <th>10268</th>\n",
       "      <td>2022-01-01 01:00:00</td>\n",
       "      <td>DK1</td>\n",
       "      <td>-1132.2717</td>\n",
       "      <td>-583.754</td>\n",
       "      <td>NaN</td>\n",
       "    </tr>\n",
       "    <tr>\n",
       "      <th>7045</th>\n",
       "      <td>2022-01-01 01:00:00</td>\n",
       "      <td>DK2</td>\n",
       "      <td>NaN</td>\n",
       "      <td>NaN</td>\n",
       "      <td>NaN</td>\n",
       "    </tr>\n",
       "    <tr>\n",
       "      <th>1524</th>\n",
       "      <td>2022-01-01 02:00:00</td>\n",
       "      <td>DK1</td>\n",
       "      <td>-1132.2246</td>\n",
       "      <td>-554.725</td>\n",
       "      <td>NaN</td>\n",
       "    </tr>\n",
       "    <tr>\n",
       "      <th>6615</th>\n",
       "      <td>2022-01-01 02:00:00</td>\n",
       "      <td>DK2</td>\n",
       "      <td>NaN</td>\n",
       "      <td>NaN</td>\n",
       "      <td>NaN</td>\n",
       "    </tr>\n",
       "    <tr>\n",
       "      <th>7036</th>\n",
       "      <td>2022-01-01 03:00:00</td>\n",
       "      <td>DK1</td>\n",
       "      <td>-1132.4853</td>\n",
       "      <td>-237.741</td>\n",
       "      <td>NaN</td>\n",
       "    </tr>\n",
       "    <tr>\n",
       "      <th>17046</th>\n",
       "      <td>2022-01-01 03:00:00</td>\n",
       "      <td>DK2</td>\n",
       "      <td>NaN</td>\n",
       "      <td>NaN</td>\n",
       "      <td>NaN</td>\n",
       "    </tr>\n",
       "  </tbody>\n",
       "</table>\n",
       "</div>"
      ],
      "text/plain": [
       "                   hourdk pricearea  exchangeno_mwh  exchangenl_mwh  \\\n",
       "11233 2022-01-01 00:00:00       DK1      -1131.8420        -621.410   \n",
       "7560  2022-01-01 00:00:00       DK2             NaN             NaN   \n",
       "10268 2022-01-01 01:00:00       DK1      -1132.2717        -583.754   \n",
       "7045  2022-01-01 01:00:00       DK2             NaN             NaN   \n",
       "1524  2022-01-01 02:00:00       DK1      -1132.2246        -554.725   \n",
       "6615  2022-01-01 02:00:00       DK2             NaN             NaN   \n",
       "7036  2022-01-01 03:00:00       DK1      -1132.4853        -237.741   \n",
       "17046 2022-01-01 03:00:00       DK2             NaN             NaN   \n",
       "\n",
       "       exchangegb_mwh  \n",
       "11233             NaN  \n",
       "7560              NaN  \n",
       "10268             NaN  \n",
       "7045              NaN  \n",
       "1524              NaN  \n",
       "6615              NaN  \n",
       "7036              NaN  \n",
       "17046             NaN  "
      ]
     },
     "execution_count": 23,
     "metadata": {},
     "output_type": "execute_result"
    }
   ],
   "source": [
    "# Trying to assess a pattern as the missing values makes out either half \n",
    "# of the dataset or its entire length \n",
    "df_prodcons_na = df_prodcons[[\"hourdk\", \"pricearea\", \"exchangeno_mwh\", \n",
    "                              \"exchangenl_mwh\", \"exchangegb_mwh\"]].copy()\n",
    "df_prodcons_na = df_prodcons_na.sort_values(\"hourdk\", ascending=True)\n",
    "df_prodcons_na.head(8)"
   ]
  },
  {
   "cell_type": "code",
   "execution_count": null,
   "metadata": {},
   "outputs": [
    {
     "name": "stdout",
     "output_type": "stream",
     "text": [
      "True\n",
      "True\n"
     ]
    }
   ],
   "source": [
    "# Checking if the Netherlands and Norway only exchange energy with pricearea \n",
    "# DK2 during this period. If they happen to  do so, we should see \"False\" \n",
    "# printed out.\n",
    "print(df_prodcons[df_prodcons[\"exchangeno_mwh\"].notna()].\\\n",
    "      query(\"pricearea == 'DK2'\").empty)\n",
    "print(df_prodcons[df_prodcons[\"exchangenl_mwh\"].notna()].\\\n",
    "      query(\"pricearea == 'DK2'\").empty)"
   ]
  },
  {
   "cell_type": "markdown",
   "metadata": {},
   "source": [
    "For **prodcons** we have missing data for the exchange of energy to Great Britain, the Netherlands and Norway. Great Britain has no import or export of energy during the period of our data, hence 17520 total missing values. For both the Netherlands and Norway we have half of the missing values as Great Britain. This can be attributed to these countries only exchanging energy with `pricearea` \"DK1\". We can interperet the NaNs as lack of activity during this period.\n",
    "\n",
    "Imputing any of these missing values would not be appropriate."
   ]
  },
  {
   "cell_type": "code",
   "execution_count": null,
   "metadata": {},
   "outputs": [],
   "source": [
    "df_prodcons = df_prodcons.fillna(0)\n",
    "na_overview"
   ]
  },
  {
   "cell_type": "markdown",
   "metadata": {},
   "source": [
    "#### Production"
   ]
  },
  {
   "cell_type": "code",
   "execution_count": 39,
   "metadata": {},
   "outputs": [
    {
     "name": "stderr",
     "output_type": "stream",
     "text": [
      "                                                                                \r"
     ]
    },
    {
     "name": "stdout",
     "output_type": "stream",
     "text": [
      "(871393, 9)\n"
     ]
    },
    {
     "data": {
      "text/html": [
       "<div>\n",
       "<style scoped>\n",
       "    .dataframe tbody tr th:only-of-type {\n",
       "        vertical-align: middle;\n",
       "    }\n",
       "\n",
       "    .dataframe tbody tr th {\n",
       "        vertical-align: top;\n",
       "    }\n",
       "\n",
       "    .dataframe thead th {\n",
       "        text-align: right;\n",
       "    }\n",
       "</style>\n",
       "<table border=\"1\" class=\"dataframe\">\n",
       "  <thead>\n",
       "    <tr style=\"text-align: right;\">\n",
       "      <th></th>\n",
       "      <th># missing values</th>\n",
       "      <th>% missing values</th>\n",
       "    </tr>\n",
       "  </thead>\n",
       "  <tbody>\n",
       "    <tr>\n",
       "      <th>offshorewindge100mw_mwh</th>\n",
       "      <td>818834</td>\n",
       "      <td>0.939684</td>\n",
       "    </tr>\n",
       "    <tr>\n",
       "      <th>offshorewindlt100mw_mwh</th>\n",
       "      <td>801313</td>\n",
       "      <td>0.919577</td>\n",
       "    </tr>\n",
       "    <tr>\n",
       "      <th>solarmwh</th>\n",
       "      <td>8760</td>\n",
       "      <td>0.010053</td>\n",
       "    </tr>\n",
       "    <tr>\n",
       "      <th>thermalpowermwh</th>\n",
       "      <td>123888</td>\n",
       "      <td>0.142172</td>\n",
       "    </tr>\n",
       "  </tbody>\n",
       "</table>\n",
       "</div>"
      ],
      "text/plain": [
       "                         # missing values  % missing values\n",
       "offshorewindge100mw_mwh            818834          0.939684\n",
       "offshorewindlt100mw_mwh            801313          0.919577\n",
       "solarmwh                             8760          0.010053\n",
       "thermalpowermwh                    123888          0.142172"
      ]
     },
     "execution_count": 39,
     "metadata": {},
     "output_type": "execute_result"
    }
   ],
   "source": [
    "# Get an overview of the number and proportion of missing values\n",
    "df_production = spark.sql(\"SELECT * FROM production_view\").toPandas()\n",
    "na_production = na_overview(df_production)\n",
    "na_production"
   ]
  },
  {
   "cell_type": "markdown",
   "metadata": {},
   "source": [
    "**production** is missing quite a lot of data in its offshore wind production, both missing more than 90% of data. The fraction of values missing would not be appropriate to impute.\n",
    "\n",
    "However, solar and thermal energy production is missing less data which would be more feasible to impute."
   ]
  },
  {
   "cell_type": "code",
   "execution_count": null,
   "metadata": {},
   "outputs": [
    {
     "name": "stderr",
     "output_type": "stream",
     "text": [
      "DeprecationWarning: DataFrameGroupBy.apply operated on the grouping columns. This behavior is deprecated, and in a future version of pandas the grouping columns will be excluded from the operation. Either pass `include_groups=False` to exclude the groupings or explicitly select the grouping columns after groupby to silence this warning.\n"
     ]
    },
    {
     "data": {
      "text/html": [
       "<div>\n",
       "<style scoped>\n",
       "    .dataframe tbody tr th:only-of-type {\n",
       "        vertical-align: middle;\n",
       "    }\n",
       "\n",
       "    .dataframe tbody tr th {\n",
       "        vertical-align: top;\n",
       "    }\n",
       "\n",
       "    .dataframe thead th {\n",
       "        text-align: right;\n",
       "    }\n",
       "</style>\n",
       "<table border=\"1\" class=\"dataframe\">\n",
       "  <thead>\n",
       "    <tr style=\"text-align: right;\">\n",
       "      <th></th>\n",
       "      <th>id</th>\n",
       "      <th>hourdk</th>\n",
       "      <th>hourutc</th>\n",
       "      <th>municipalityno</th>\n",
       "      <th>offshorewindge100mw_mwh</th>\n",
       "      <th>offshorewindlt100mw_mwh</th>\n",
       "      <th>onshorewindmwh</th>\n",
       "      <th>solarmwh</th>\n",
       "      <th>thermalpowermwh</th>\n",
       "    </tr>\n",
       "    <tr>\n",
       "      <th>municipalityno</th>\n",
       "      <th></th>\n",
       "      <th></th>\n",
       "      <th></th>\n",
       "      <th></th>\n",
       "      <th></th>\n",
       "      <th></th>\n",
       "      <th></th>\n",
       "      <th></th>\n",
       "      <th></th>\n",
       "    </tr>\n",
       "  </thead>\n",
       "  <tbody>\n",
       "    <tr>\n",
       "      <th>101</th>\n",
       "      <td>0</td>\n",
       "      <td>0</td>\n",
       "      <td>0</td>\n",
       "      <td>0</td>\n",
       "      <td>8760</td>\n",
       "      <td>0</td>\n",
       "      <td>0</td>\n",
       "      <td>0</td>\n",
       "      <td>0</td>\n",
       "    </tr>\n",
       "    <tr>\n",
       "      <th>147</th>\n",
       "      <td>0</td>\n",
       "      <td>0</td>\n",
       "      <td>0</td>\n",
       "      <td>0</td>\n",
       "      <td>8760</td>\n",
       "      <td>8760</td>\n",
       "      <td>0</td>\n",
       "      <td>0</td>\n",
       "      <td>8760</td>\n",
       "    </tr>\n",
       "    <tr>\n",
       "      <th>151</th>\n",
       "      <td>0</td>\n",
       "      <td>0</td>\n",
       "      <td>0</td>\n",
       "      <td>0</td>\n",
       "      <td>8760</td>\n",
       "      <td>8760</td>\n",
       "      <td>0</td>\n",
       "      <td>0</td>\n",
       "      <td>0</td>\n",
       "    </tr>\n",
       "    <tr>\n",
       "      <th>153</th>\n",
       "      <td>0</td>\n",
       "      <td>0</td>\n",
       "      <td>0</td>\n",
       "      <td>0</td>\n",
       "      <td>8760</td>\n",
       "      <td>8760</td>\n",
       "      <td>0</td>\n",
       "      <td>0</td>\n",
       "      <td>0</td>\n",
       "    </tr>\n",
       "    <tr>\n",
       "      <th>155</th>\n",
       "      <td>0</td>\n",
       "      <td>0</td>\n",
       "      <td>0</td>\n",
       "      <td>0</td>\n",
       "      <td>8760</td>\n",
       "      <td>8760</td>\n",
       "      <td>0</td>\n",
       "      <td>0</td>\n",
       "      <td>8760</td>\n",
       "    </tr>\n",
       "    <tr>\n",
       "      <th>...</th>\n",
       "      <td>...</td>\n",
       "      <td>...</td>\n",
       "      <td>...</td>\n",
       "      <td>...</td>\n",
       "      <td>...</td>\n",
       "      <td>...</td>\n",
       "      <td>...</td>\n",
       "      <td>...</td>\n",
       "      <td>...</td>\n",
       "    </tr>\n",
       "    <tr>\n",
       "      <th>846</th>\n",
       "      <td>0</td>\n",
       "      <td>0</td>\n",
       "      <td>0</td>\n",
       "      <td>0</td>\n",
       "      <td>8760</td>\n",
       "      <td>8760</td>\n",
       "      <td>0</td>\n",
       "      <td>0</td>\n",
       "      <td>0</td>\n",
       "    </tr>\n",
       "    <tr>\n",
       "      <th>849</th>\n",
       "      <td>0</td>\n",
       "      <td>0</td>\n",
       "      <td>0</td>\n",
       "      <td>0</td>\n",
       "      <td>8760</td>\n",
       "      <td>8760</td>\n",
       "      <td>0</td>\n",
       "      <td>0</td>\n",
       "      <td>0</td>\n",
       "    </tr>\n",
       "    <tr>\n",
       "      <th>851</th>\n",
       "      <td>0</td>\n",
       "      <td>0</td>\n",
       "      <td>0</td>\n",
       "      <td>0</td>\n",
       "      <td>8760</td>\n",
       "      <td>8760</td>\n",
       "      <td>0</td>\n",
       "      <td>0</td>\n",
       "      <td>0</td>\n",
       "    </tr>\n",
       "    <tr>\n",
       "      <th>860</th>\n",
       "      <td>0</td>\n",
       "      <td>0</td>\n",
       "      <td>0</td>\n",
       "      <td>0</td>\n",
       "      <td>8760</td>\n",
       "      <td>8760</td>\n",
       "      <td>0</td>\n",
       "      <td>0</td>\n",
       "      <td>0</td>\n",
       "    </tr>\n",
       "    <tr>\n",
       "      <th>999</th>\n",
       "      <td>0</td>\n",
       "      <td>0</td>\n",
       "      <td>0</td>\n",
       "      <td>0</td>\n",
       "      <td>0</td>\n",
       "      <td>0</td>\n",
       "      <td>0</td>\n",
       "      <td>8760</td>\n",
       "      <td>8760</td>\n",
       "    </tr>\n",
       "  </tbody>\n",
       "</table>\n",
       "<p>100 rows × 9 columns</p>\n",
       "</div>"
      ],
      "text/plain": [
       "                id  hourdk  hourutc  municipalityno  offshorewindge100mw_mwh  \\\n",
       "municipalityno                                                                 \n",
       "101              0       0        0               0                     8760   \n",
       "147              0       0        0               0                     8760   \n",
       "151              0       0        0               0                     8760   \n",
       "153              0       0        0               0                     8760   \n",
       "155              0       0        0               0                     8760   \n",
       "...             ..     ...      ...             ...                      ...   \n",
       "846              0       0        0               0                     8760   \n",
       "849              0       0        0               0                     8760   \n",
       "851              0       0        0               0                     8760   \n",
       "860              0       0        0               0                     8760   \n",
       "999              0       0        0               0                        0   \n",
       "\n",
       "                offshorewindlt100mw_mwh  onshorewindmwh  solarmwh  \\\n",
       "municipalityno                                                      \n",
       "101                                   0               0         0   \n",
       "147                                8760               0         0   \n",
       "151                                8760               0         0   \n",
       "153                                8760               0         0   \n",
       "155                                8760               0         0   \n",
       "...                                 ...             ...       ...   \n",
       "846                                8760               0         0   \n",
       "849                                8760               0         0   \n",
       "851                                8760               0         0   \n",
       "860                                8760               0         0   \n",
       "999                                   0               0      8760   \n",
       "\n",
       "                thermalpowermwh  \n",
       "municipalityno                   \n",
       "101                           0  \n",
       "147                        8760  \n",
       "151                           0  \n",
       "153                           0  \n",
       "155                        8760  \n",
       "...                         ...  \n",
       "846                           0  \n",
       "849                           0  \n",
       "851                           0  \n",
       "860                           0  \n",
       "999                        8760  \n",
       "\n",
       "[100 rows x 9 columns]"
      ]
     },
     "execution_count": 50,
     "metadata": {},
     "output_type": "execute_result"
    }
   ],
   "source": [
    "# Group by municipality to check misising values\n",
    "na_municipality = df_production.groupby(\"municipalityno\").\\\n",
    "    apply(lambda x: x.isna().sum())\n",
    "\n",
    "na_municipality\n"
   ]
  },
  {
   "cell_type": "code",
   "execution_count": null,
   "metadata": {},
   "outputs": [
    {
     "name": "stdout",
     "output_type": "stream",
     "text": [
      "offshorewindge100mw_mwh: 93\n",
      "offshorewindlt100mw_mwh: 91\n",
      "onshorewindmwh: 0\n",
      "solarmwh: 1\n",
      "thermalpowermwh: 13\n"
     ]
    }
   ],
   "source": [
    "filtered_na_municipality = na_municipality[(na_municipality > 0)].\\\n",
    "    dropna(how='all')\n",
    "\n",
    "# Number of municipalities missing measurements for the entire period \n",
    "# for the different production types\n",
    "for production_type in filtered_na_municipality.columns[4:]:\n",
    "   print(f\"{production_type}:\",\n",
    "      len(filtered_na_municipality.query(f\"{production_type} == 8760\"))) "
   ]
  },
  {
   "cell_type": "markdown",
   "metadata": {},
   "source": [
    "93 and 91 municipalities are missing offshore wind production, 1 is missing solar production and 13 thermal power production during the entire period. For these municipalities, setting the missing values to 0 would be appropriate."
   ]
  },
  {
   "cell_type": "code",
   "execution_count": null,
   "metadata": {},
   "outputs": [],
   "source": [
    "df_production_copy = df_production.copy()\n",
    "\n",
    "for production_type in df_production_copy.columns[4:]:\n",
    "    temp_df = na_municipality.query(f\"{production_type} == 8760\")\n",
    "\n",
    "    municipality_no = temp_df.index.tolist()\n",
    "\n",
    "    # Prompt: How can I select the municipalities from municipality_no in\n",
    "    # df_production_copy to then set all of the NaN values of the\n",
    "    # production_type to 0?\n",
    "    df_production_copy.loc[\n",
    "        df_production_copy[\"municipalityno\"].isin(municipality_no),\n",
    "        production_type,\n",
    "    ] = df_production_copy.loc[\n",
    "        df_production_copy[\"municipalityno\"].isin(municipality_no),\n",
    "        production_type,\n",
    "    ].fillna(0)"
   ]
  },
  {
   "cell_type": "code",
   "execution_count": 105,
   "metadata": {},
   "outputs": [
    {
     "name": "stdout",
     "output_type": "stream",
     "text": [
      "(871393, 9)\n"
     ]
    },
    {
     "data": {
      "text/html": [
       "<div>\n",
       "<style scoped>\n",
       "    .dataframe tbody tr th:only-of-type {\n",
       "        vertical-align: middle;\n",
       "    }\n",
       "\n",
       "    .dataframe tbody tr th {\n",
       "        vertical-align: top;\n",
       "    }\n",
       "\n",
       "    .dataframe thead th {\n",
       "        text-align: right;\n",
       "    }\n",
       "</style>\n",
       "<table border=\"1\" class=\"dataframe\">\n",
       "  <thead>\n",
       "    <tr style=\"text-align: right;\">\n",
       "      <th></th>\n",
       "      <th># missing values</th>\n",
       "      <th>% missing values</th>\n",
       "    </tr>\n",
       "  </thead>\n",
       "  <tbody>\n",
       "    <tr>\n",
       "      <th>offshorewindge100mw_mwh</th>\n",
       "      <td>4154</td>\n",
       "      <td>0.004767</td>\n",
       "    </tr>\n",
       "    <tr>\n",
       "      <th>offshorewindlt100mw_mwh</th>\n",
       "      <td>4153</td>\n",
       "      <td>0.004766</td>\n",
       "    </tr>\n",
       "    <tr>\n",
       "      <th>thermalpowermwh</th>\n",
       "      <td>10008</td>\n",
       "      <td>0.011485</td>\n",
       "    </tr>\n",
       "  </tbody>\n",
       "</table>\n",
       "</div>"
      ],
      "text/plain": [
       "                         # missing values  % missing values\n",
       "offshorewindge100mw_mwh              4154          0.004767\n",
       "offshorewindlt100mw_mwh              4153          0.004766\n",
       "thermalpowermwh                     10008          0.011485"
      ]
     },
     "execution_count": 105,
     "metadata": {},
     "output_type": "execute_result"
    }
   ],
   "source": [
    "na_overview(df_production_copy)"
   ]
  },
  {
   "cell_type": "code",
   "execution_count": 131,
   "metadata": {},
   "outputs": [
    {
     "name": "stderr",
     "output_type": "stream",
     "text": [
      "DeprecationWarning: DataFrameGroupBy.apply operated on the grouping columns. This behavior is deprecated, and in a future version of pandas the grouping columns will be excluded from the operation. Either pass `include_groups=False` to exclude the groupings or explicitly select the grouping columns after groupby to silence this warning.\n"
     ]
    },
    {
     "data": {
      "text/html": [
       "<div>\n",
       "<style scoped>\n",
       "    .dataframe tbody tr th:only-of-type {\n",
       "        vertical-align: middle;\n",
       "    }\n",
       "\n",
       "    .dataframe tbody tr th {\n",
       "        vertical-align: top;\n",
       "    }\n",
       "\n",
       "    .dataframe thead th {\n",
       "        text-align: right;\n",
       "    }\n",
       "</style>\n",
       "<table border=\"1\" class=\"dataframe\">\n",
       "  <thead>\n",
       "    <tr style=\"text-align: right;\">\n",
       "      <th></th>\n",
       "      <th>id</th>\n",
       "      <th>hourdk</th>\n",
       "      <th>hourutc</th>\n",
       "      <th>municipalityno</th>\n",
       "      <th>offshorewindge100mw_mwh</th>\n",
       "      <th>offshorewindlt100mw_mwh</th>\n",
       "      <th>onshorewindmwh</th>\n",
       "      <th>solarmwh</th>\n",
       "      <th>thermalpowermwh</th>\n",
       "    </tr>\n",
       "    <tr>\n",
       "      <th>municipalityno</th>\n",
       "      <th></th>\n",
       "      <th></th>\n",
       "      <th></th>\n",
       "      <th></th>\n",
       "      <th></th>\n",
       "      <th></th>\n",
       "      <th></th>\n",
       "      <th></th>\n",
       "      <th></th>\n",
       "    </tr>\n",
       "  </thead>\n",
       "  <tbody>\n",
       "    <tr>\n",
       "      <th>360</th>\n",
       "      <td>NaN</td>\n",
       "      <td>NaN</td>\n",
       "      <td>NaN</td>\n",
       "      <td>NaN</td>\n",
       "      <td>NaN</td>\n",
       "      <td>NaN</td>\n",
       "      <td>NaN</td>\n",
       "      <td>NaN</td>\n",
       "      <td>5855.0</td>\n",
       "    </tr>\n",
       "    <tr>\n",
       "      <th>411</th>\n",
       "      <td>NaN</td>\n",
       "      <td>NaN</td>\n",
       "      <td>NaN</td>\n",
       "      <td>NaN</td>\n",
       "      <td>4153.0</td>\n",
       "      <td>4153.0</td>\n",
       "      <td>NaN</td>\n",
       "      <td>NaN</td>\n",
       "      <td>4153.0</td>\n",
       "    </tr>\n",
       "    <tr>\n",
       "      <th>665</th>\n",
       "      <td>NaN</td>\n",
       "      <td>NaN</td>\n",
       "      <td>NaN</td>\n",
       "      <td>NaN</td>\n",
       "      <td>1.0</td>\n",
       "      <td>NaN</td>\n",
       "      <td>NaN</td>\n",
       "      <td>NaN</td>\n",
       "      <td>NaN</td>\n",
       "    </tr>\n",
       "  </tbody>\n",
       "</table>\n",
       "</div>"
      ],
      "text/plain": [
       "                id  hourdk  hourutc  municipalityno  offshorewindge100mw_mwh  \\\n",
       "municipalityno                                                                 \n",
       "360            NaN     NaN      NaN             NaN                      NaN   \n",
       "411            NaN     NaN      NaN             NaN                   4153.0   \n",
       "665            NaN     NaN      NaN             NaN                      1.0   \n",
       "\n",
       "                offshorewindlt100mw_mwh  onshorewindmwh  solarmwh  \\\n",
       "municipalityno                                                      \n",
       "360                                 NaN             NaN       NaN   \n",
       "411                              4153.0             NaN       NaN   \n",
       "665                                 NaN             NaN       NaN   \n",
       "\n",
       "                thermalpowermwh  \n",
       "municipalityno                   \n",
       "360                      5855.0  \n",
       "411                      4153.0  \n",
       "665                         NaN  "
      ]
     },
     "execution_count": 131,
     "metadata": {},
     "output_type": "execute_result"
    }
   ],
   "source": [
    "# Check which municipalities the remaining missing values belong to\n",
    "na_municipality_2 = df_production_copy.groupby(\"municipalityno\").\\\n",
    "    apply(lambda x: x.isna().sum())\n",
    "na_municipality_2 = na_municipality_2[na_municipality_2 > 0].\\\n",
    "    dropna(how='all')\n",
    "na_municipality_2"
   ]
  },
  {
   "cell_type": "code",
   "execution_count": 151,
   "metadata": {},
   "outputs": [
    {
     "name": "stdout",
     "output_type": "stream",
     "text": [
      "(871393, 6)\n"
     ]
    },
    {
     "data": {
      "text/html": [
       "<div>\n",
       "<style scoped>\n",
       "    .dataframe tbody tr th:only-of-type {\n",
       "        vertical-align: middle;\n",
       "    }\n",
       "\n",
       "    .dataframe tbody tr th {\n",
       "        vertical-align: top;\n",
       "    }\n",
       "\n",
       "    .dataframe thead th {\n",
       "        text-align: right;\n",
       "    }\n",
       "</style>\n",
       "<table border=\"1\" class=\"dataframe\">\n",
       "  <thead>\n",
       "    <tr style=\"text-align: right;\">\n",
       "      <th></th>\n",
       "      <th># missing values</th>\n",
       "      <th>% missing values</th>\n",
       "    </tr>\n",
       "  </thead>\n",
       "  <tbody>\n",
       "  </tbody>\n",
       "</table>\n",
       "</div>"
      ],
      "text/plain": [
       "Empty DataFrame\n",
       "Columns: [# missing values, % missing values]\n",
       "Index: []"
      ]
     },
     "execution_count": 151,
     "metadata": {},
     "output_type": "execute_result"
    }
   ],
   "source": [
    "df_production_copy.reset_index(inplace=True)\n",
    "df_production_copy.set_index(\"hourdk\", inplace=True)\n",
    "\n",
    "df_production_copy = df_production_copy.select_dtypes(include=['number']).\\\n",
    "    interpolate(\"time\")\n",
    "\n",
    "na_overview(df_production_copy)"
   ]
  },
  {
   "cell_type": "markdown",
   "metadata": {},
   "source": [
    "#### Weather data"
   ]
  },
  {
   "cell_type": "code",
   "execution_count": 28,
   "metadata": {},
   "outputs": [
    {
     "name": "stdout",
     "output_type": "stream",
     "text": [
      "(762120, 15)\n"
     ]
    },
    {
     "data": {
      "text/html": [
       "<div>\n",
       "<style scoped>\n",
       "    .dataframe tbody tr th:only-of-type {\n",
       "        vertical-align: middle;\n",
       "    }\n",
       "\n",
       "    .dataframe tbody tr th {\n",
       "        vertical-align: top;\n",
       "    }\n",
       "\n",
       "    .dataframe thead th {\n",
       "        text-align: right;\n",
       "    }\n",
       "</style>\n",
       "<table border=\"1\" class=\"dataframe\">\n",
       "  <thead>\n",
       "    <tr style=\"text-align: right;\">\n",
       "      <th></th>\n",
       "      <th># missing values</th>\n",
       "      <th>% missing values</th>\n",
       "    </tr>\n",
       "  </thead>\n",
       "  <tbody>\n",
       "    <tr>\n",
       "      <th>coco</th>\n",
       "      <td>48361</td>\n",
       "      <td>0.063456</td>\n",
       "    </tr>\n",
       "    <tr>\n",
       "      <th>dwpt</th>\n",
       "      <td>2658</td>\n",
       "      <td>0.003488</td>\n",
       "    </tr>\n",
       "    <tr>\n",
       "      <th>prcp</th>\n",
       "      <td>158466</td>\n",
       "      <td>0.207928</td>\n",
       "    </tr>\n",
       "    <tr>\n",
       "      <th>pres</th>\n",
       "      <td>2658</td>\n",
       "      <td>0.003488</td>\n",
       "    </tr>\n",
       "    <tr>\n",
       "      <th>rhum</th>\n",
       "      <td>2658</td>\n",
       "      <td>0.003488</td>\n",
       "    </tr>\n",
       "    <tr>\n",
       "      <th>snow</th>\n",
       "      <td>718431</td>\n",
       "      <td>0.942674</td>\n",
       "    </tr>\n",
       "    <tr>\n",
       "      <th>temp</th>\n",
       "      <td>2658</td>\n",
       "      <td>0.003488</td>\n",
       "    </tr>\n",
       "    <tr>\n",
       "      <th>tsun</th>\n",
       "      <td>720638</td>\n",
       "      <td>0.945570</td>\n",
       "    </tr>\n",
       "    <tr>\n",
       "      <th>wdir</th>\n",
       "      <td>2661</td>\n",
       "      <td>0.003492</td>\n",
       "    </tr>\n",
       "    <tr>\n",
       "      <th>wpgt</th>\n",
       "      <td>2723</td>\n",
       "      <td>0.003573</td>\n",
       "    </tr>\n",
       "    <tr>\n",
       "      <th>wspd</th>\n",
       "      <td>2658</td>\n",
       "      <td>0.003488</td>\n",
       "    </tr>\n",
       "  </tbody>\n",
       "</table>\n",
       "</div>"
      ],
      "text/plain": [
       "      # missing values  % missing values\n",
       "coco             48361          0.063456\n",
       "dwpt              2658          0.003488\n",
       "prcp            158466          0.207928\n",
       "pres              2658          0.003488\n",
       "rhum              2658          0.003488\n",
       "snow            718431          0.942674\n",
       "temp              2658          0.003488\n",
       "tsun            720638          0.945570\n",
       "wdir              2661          0.003492\n",
       "wpgt              2723          0.003573\n",
       "wspd              2658          0.003488"
      ]
     },
     "execution_count": 28,
     "metadata": {},
     "output_type": "execute_result"
    }
   ],
   "source": [
    "# Checking the number and proportion of missing values in the weather DataFrame\n",
    "na_weather = na_overview(df_weather_data)\n",
    "na_weather"
   ]
  },
  {
   "cell_type": "code",
   "execution_count": 29,
   "metadata": {},
   "outputs": [
    {
     "name": "stdout",
     "output_type": "stream",
     "text": [
      "['Sønderborg' 'Lolland' 'Ærø' 'Aabenraa' 'Tønder']\n",
      "['Sønderborg' 'Lolland' 'Aabenraa' 'Ærø' 'Tønder']\n"
     ]
    }
   ],
   "source": [
    "# Finding the stations where \"snow\" and \"tsun\" is being measured to assess\n",
    "# why there are many missing values\n",
    "df_snow = df_weather_data[df_weather_data[\"snow\"].notna()]\n",
    "df_tsun = df_weather_data[df_weather_data[\"tsun\"].notna()]\n",
    "print(df_snow[\"municipality\"].unique())\n",
    "print(df_tsun[\"municipality\"].unique())"
   ]
  },
  {
   "cell_type": "code",
   "execution_count": 30,
   "metadata": {},
   "outputs": [
    {
     "data": {
      "text/plain": [
       "snow     111\n",
       "tsun    2318\n",
       "dtype: int64"
      ]
     },
     "execution_count": 30,
     "metadata": {},
     "output_type": "execute_result"
    }
   ],
   "source": [
    "# Check if there are any missing values for the locations which measures `snow` and `tsun`\n",
    "tsun_snow_locations = df_snow[\"municipality\"].unique()\n",
    "df_tsun_snow = df_weather_data[df_weather_data[\"municipality\"].isin(tsun_snow_locations)]\n",
    "df_tsun_snow_na = df_tsun_snow.isna().sum()\n",
    "df_tsun_snow_na[df_tsun_snow_na> 0]"
   ]
  },
  {
   "cell_type": "markdown",
   "metadata": {},
   "source": [
    "**weather_data** is missing a lot of data for `snow` which at first glance is sensible since there isn't snow all year round. But upon further investigation, `snow` is only measured at a handful of stations. This is also the case for `tsun` which is measured at the same stations, hence the big number of missing values. Having to impute this for the rest of the stations would be unreasonable as no measurements exists at these locations. "
   ]
  },
  {
   "cell_type": "code",
   "execution_count": 31,
   "metadata": {},
   "outputs": [
    {
     "name": "stdout",
     "output_type": "stream",
     "text": [
      "{'Thisted', 'Lemvig', 'Helsingør', 'Morsø', 'Skive', 'Gribskov', 'Halsnæs', 'Vesthimmerland', 'Odsherred', 'Struer'}\n"
     ]
    }
   ],
   "source": [
    "# Retrieve all municipalities with precipitation measurements\n",
    "prcp_measured = df_weather_data[df_weather_data[\"prcp\"].notna()][\"municipality\"].unique() \n",
    "\n",
    "# Use the symmetric difference operator \"^\".\n",
    "# Between two sets, it returns values not shared by both sets. \n",
    "# In this case we return municipalities which does not measure precipitation at all.\n",
    "na_prcp = set(prcp_measured)^set(df_weather_data[\"municipality\"].unique()) \n",
    "\n",
    "print(na_prcp)"
   ]
  },
  {
   "cell_type": "markdown",
   "metadata": {},
   "source": [
    "The missing values for `prcp` is partly due to 10 stations not measuring percipitation at all. Imputing the precipitation for these stations would not make sense. The remaining missing values comes from stations which do measure percipitation and these we can impute."
   ]
  },
  {
   "cell_type": "markdown",
   "metadata": {},
   "source": [
    "`dwpt`, `pres`, `rhum`, and `wspd` are missing the same amount of data.\n",
    "\n",
    "`coco` is an integer indicating the weather condition as noted in the [documentation](https://dev.meteostat.net/formats.html#weather-condition-codes). Imputing these could give a false indication of the weather.\n",
    "\n",
    "For the remaining features it would be reasonable to impute the missing values as the numbers are relatively small."
   ]
  },
  {
   "cell_type": "markdown",
   "metadata": {},
   "source": [
    "##### Imputation"
   ]
  },
  {
   "cell_type": "code",
   "execution_count": 32,
   "metadata": {},
   "outputs": [],
   "source": [
    "# Preparing DataFrame for interpolation\n",
    "df_weather_data = df_weather_data.sort_values(\"datetime\", ascending=True)\n",
    "df_weather_data.set_index(\"datetime\", inplace=True)"
   ]
  },
  {
   "cell_type": "code",
   "execution_count": 33,
   "metadata": {},
   "outputs": [],
   "source": [
    "# Impute `tsun` and `snow` for 'Sønderborg', 'Ærø', 'Lolland', 'Aabenraa' and 'Tønder'\n",
    "\n",
    "# Get municipalities which measures `tsun` and `snow`\n",
    "loc_snow_tsun = df_weather_data[df_weather_data[\"tsun\"].notna()][\"municipality\"].unique() \n",
    "\n",
    "# Creating a copy with our desired municipalities \n",
    "df_snow_tsun = df_weather_data[df_weather_data[\"municipality\"].isin(loc_snow_tsun)].copy() \n",
    "\n",
    "# Imputing the values by using \"time\" in .interpolation\n",
    "df_snow_tsun[[\"snow\", \"tsun\"]] = df_snow_tsun[[\"snow\", \"tsun\"]].interpolate(\"time\")\n",
    "\n",
    "# Replace the existing \"snow\" and \"tsun\" measurements with their imputed counterparts\n",
    "df_weather_data.loc[df_weather_data[\"municipality\"].isin(loc_snow_tsun), \n",
    "                    [\"snow\", \"tsun\"]] = df_snow_tsun[[\"snow\", \"tsun\"]].values"
   ]
  },
  {
   "cell_type": "code",
   "execution_count": 34,
   "metadata": {},
   "outputs": [],
   "source": [
    "# Impute `prcp` for every municipality but 'Morsø', 'Lemvig', 'Helsingør', 'Struer', 'Halsnæs', 'Odsherred', 'Skive', 'Gribskov', 'Thisted' and 'Vesthimmerland'\n",
    "exclude_list = list(na_prcp)\n",
    "\n",
    "# Excluding municipalities/weather stations that does not measure precipitation\n",
    "df_weather_data_prcp = df_weather_data[~df_weather_data[\"municipality\"].isin(exclude_list)].copy() \n",
    "\n",
    "# Imputing the values by using \"time\" in .interpolation\n",
    "df_weather_data_prcp[\"prcp\"] = df_weather_data_prcp[\"prcp\"].interpolate(\"time\")\n",
    "\n",
    "# Insert the imputed `prcp`-values where they belong\n",
    "df_weather_data.loc[~df_weather_data[\"municipality\"].isin(exclude_list), [\"prcp\"]] = df_weather_data_prcp[\"prcp\"].values "
   ]
  },
  {
   "cell_type": "code",
   "execution_count": 35,
   "metadata": {},
   "outputs": [
    {
     "name": "stderr",
     "output_type": "stream",
     "text": [
      "FutureWarning: DataFrame.interpolate with object dtype is deprecated and will raise in a future version. Call obj.infer_objects(copy=False) before interpolating instead.\n"
     ]
    }
   ],
   "source": [
    "# Impute remaining missing values for columns not named `prcp`, `snow`, `tsun` and `coco`\n",
    "\n",
    "# Exlcude the following columns from the imputation procedure\n",
    "# since we've imputed them as seen above\n",
    "exclude_cols = [\"prcp\", \"snow\", \"tsun\", \"coco\"]\n",
    "\n",
    "# Create a copy and impute values \n",
    "df_weather_impute = df_weather_data.copy().drop(columns=exclude_cols)\n",
    "df_weather_impute = df_weather_impute.interpolate(\"time\")\n",
    "\n",
    "# Insert the imputed values to their respective places\n",
    "df_weather_data.update(df_weather_impute)\n",
    "df_weather_data.reset_index(inplace=True)"
   ]
  },
  {
   "cell_type": "code",
   "execution_count": 36,
   "metadata": {},
   "outputs": [
    {
     "name": "stdout",
     "output_type": "stream",
     "text": [
      "(762120, 15)\n"
     ]
    },
    {
     "data": {
      "text/html": [
       "<div>\n",
       "<style scoped>\n",
       "    .dataframe tbody tr th:only-of-type {\n",
       "        vertical-align: middle;\n",
       "    }\n",
       "\n",
       "    .dataframe tbody tr th {\n",
       "        vertical-align: top;\n",
       "    }\n",
       "\n",
       "    .dataframe thead th {\n",
       "        text-align: right;\n",
       "    }\n",
       "</style>\n",
       "<table border=\"1\" class=\"dataframe\">\n",
       "  <thead>\n",
       "    <tr style=\"text-align: right;\">\n",
       "      <th></th>\n",
       "      <th># missing values</th>\n",
       "      <th>% missing values</th>\n",
       "    </tr>\n",
       "  </thead>\n",
       "  <tbody>\n",
       "    <tr>\n",
       "      <th>coco</th>\n",
       "      <td>48361</td>\n",
       "      <td>0.063456</td>\n",
       "    </tr>\n",
       "    <tr>\n",
       "      <th>prcp</th>\n",
       "      <td>87600</td>\n",
       "      <td>0.114943</td>\n",
       "    </tr>\n",
       "    <tr>\n",
       "      <th>snow</th>\n",
       "      <td>718320</td>\n",
       "      <td>0.942529</td>\n",
       "    </tr>\n",
       "    <tr>\n",
       "      <th>tsun</th>\n",
       "      <td>718320</td>\n",
       "      <td>0.942529</td>\n",
       "    </tr>\n",
       "  </tbody>\n",
       "</table>\n",
       "</div>"
      ],
      "text/plain": [
       "      # missing values  % missing values\n",
       "coco             48361          0.063456\n",
       "prcp             87600          0.114943\n",
       "snow            718320          0.942529\n",
       "tsun            718320          0.942529"
      ]
     },
     "execution_count": 36,
     "metadata": {},
     "output_type": "execute_result"
    }
   ],
   "source": [
    "# Double check to see if have managed to impute values \n",
    "# in our desired columns\n",
    "na_overview(df_weather_data)"
   ]
  },
  {
   "cell_type": "markdown",
   "metadata": {},
   "source": [
    "### Synchronization"
   ]
  },
  {
   "cell_type": "code",
   "execution_count": 37,
   "metadata": {},
   "outputs": [],
   "source": [
    "def sync_weather_to_gas(weather_df: pd.DataFrame, gas_df: pd.DataFrame, \n",
    "                        time_weather: str, time_gas: str, \n",
    "                        weather_property: str, municipality: str,\n",
    "                        accumulation_mtd: str = \"mean\"): \n",
    "\n",
    "    # Dropping \"id\" as it will be a hurdle when aggregating \n",
    "    weather_df = weather_df.drop(labels=\"id\", axis=1)\n",
    "    gas_df = gas_df.drop(labels=\"_id\", axis=1) \n",
    "\n",
    "    # Filter weather_df w.r.t. municipality\n",
    "    weather_df = weather_df.query(f\"municipality == '{municipality}'\")\n",
    "\n",
    "    # Sort the DataFrames in temporal order \n",
    "    weather_df = weather_df.sort_values(time_weather, ascending=True)\n",
    "    gas_df = gas_df.sort_values(time_gas, ascending=True)\n",
    "\n",
    "    # Rename the time_gas column to time_weather\n",
    "    gas_df = gas_df.rename(columns={time_gas: time_weather})\n",
    "\n",
    "    # Set the index to their time column\n",
    "    weather_df.set_index(time_weather, inplace=True)\n",
    "    gas_df.set_index(time_weather, inplace=True)\n",
    "\n",
    "    # Only have mean implemented, but could be further extended\n",
    "    if accumulation_mtd == \"mean\":\n",
    "        weather_df = weather_df.groupby(\"municipality\").resample(\"D\").mean()\n",
    "\n",
    "    # Merging the two DataFrames on their respective time column\n",
    "    combined_df = pd.merge(weather_df, gas_df, on=time_weather)\n",
    "\n",
    "    return combined_df[[weather_property, \"PurchasePriceDKK_kWh\"]] "
   ]
  },
  {
   "cell_type": "code",
   "execution_count": 38,
   "metadata": {},
   "outputs": [
    {
     "data": {
      "image/png": "[encoded data removed]",
      "text/plain": [
       "<Figure size 1000x500 with 2 Axes>"
      ]
     },
     "metadata": {},
     "output_type": "display_data"
    }
   ],
   "source": [
    "random.seed(1234341) # Setting the seed for reproducability\n",
    "\n",
    "# Choose a random municipality\n",
    "rand_municipality = random.choice(df_weather_data[\"municipality\"].unique())\n",
    "df_random = sync_weather_to_gas(df_weather_data, df_gas_prices, \"datetime\", \n",
    "                                \"GasDay\", \"temp\", rand_municipality)\n",
    "\n",
    "fig, ax1 = plt.subplots(figsize=(10,5))\n",
    "\n",
    "# Plotting the temperatures\n",
    "ax1.plot(df_random.index, df_random[\"temp\"], \n",
    "         color='b', label='Temperature')\n",
    "ax1.set_xlabel(\"time\")\n",
    "ax1.set_ylabel(\"Temperature\", color=\"b\")\n",
    "ax1.tick_params(axis=\"y\", labelcolor=\"b\")\n",
    "\n",
    "# Plotting the gas purchase prices\n",
    "ax2 = ax1.twinx()\n",
    "ax2.plot(df_random.index, df_random[\"PurchasePriceDKK_kWh\"], \n",
    "         color='r', label='Gas purchase price')\n",
    "ax2.set_ylabel(\"PurchasePriceDKK_kWh\", color=\"r\")\n",
    "ax2.tick_params(axis=\"y\", labelcolor=\"r\")\n",
    "\n",
    "fig.legend(loc=\"upper right\")\n",
    "plt.title(f\"Temperature in {rand_municipality} and gas purchase prices\")\n",
    "\n",
    "plt.show()"
   ]
  }
 ],
 "metadata": {
  "kernelspec": {
   "display_name": ".venv",
   "language": "python",
   "name": "python3"
  },
  "language_info": {
   "codemirror_mode": {
    "name": "ipython",
    "version": 3
   },
   "file_extension": ".py",
   "mimetype": "text/x-python",
   "name": "python",
   "nbconvert_exporter": "python",
   "pygments_lexer": "ipython3",
   "version": "3.12.5"
  }
 },
 "nbformat": 4,
 "nbformat_minor": 2
}
