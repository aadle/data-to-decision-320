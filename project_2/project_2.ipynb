{
 "cells": [
  {
   "cell_type": "code",
   "execution_count": 1,
   "metadata": {},
   "outputs": [],
   "source": [
    "import json\n",
    "import matplotlib.pyplot as plt\n",
    "import numpy as np\n",
    "import os\n",
    "import pandas as pd\n",
    "import plotly.figure_factory as ff\n",
    "import plotly.express as px\n",
    "import random\n",
    "import seaborn as sns\n",
    "import scipy.stats as stats\n",
    "import uuid\n",
    "from cassandra.cluster import Cluster\n",
    "from datetime import datetime\n",
    "from io import StringIO\n",
    "from geopy import Nominatim\n",
    "from meteostat import Hourly, Stations, Point\n",
    "from pymongo.mongo_client import MongoClient\n",
    "from pymongo.server_api import ServerApi\n",
    "from pyspark.sql import SparkSession\n",
    "from pyspark.sql.functions import udf\n",
    "from pyspark.sql.types import StringType\n",
    "from scipy.fft import dct, idct\n"
   ]
  },
  {
   "cell_type": "code",
   "execution_count": 2,
   "metadata": {},
   "outputs": [
    {
     "name": "stdout",
     "output_type": "stream",
     "text": [
      "Pinged your deployment. Successfully connected to MongoDB.\n"
     ]
    }
   ],
   "source": [
    "# connecting to MongoDB \n",
    "url = (\n",
    "    \"mongodb+srv://medvetslos:\"\n",
    "    + json.load(open(\"../../.nosync/mongoDB.json\"))[\"pwd\"]\n",
    "    + \"@ind320-project.lunku.mongodb.net/?retryWrites=true&w=majority&appName=IND320-project\"\n",
    ")\n",
    "\n",
    "mdb_client = MongoClient(url, server_api=ServerApi(\"1\"))\n",
    "\n",
    "try:\n",
    "    mdb_client.admin.command(\"ping\")\n",
    "    print(\"Pinged your deployment. Successfully connected to MongoDB.\")\n",
    "except Exception as exceptionMsg:\n",
    "    print(exceptionMsg)\n",
    "\n",
    "database = mdb_client[\"IND320-project\"]\n",
    "municipalities = database[\"municipalities\"]"
   ]
  },
  {
   "cell_type": "code",
   "execution_count": 3,
   "metadata": {},
   "outputs": [
    {
     "name": "stderr",
     "output_type": "stream",
     "text": [
      "24/10/24 11:16:30 WARN Utils: Your hostname, Aarons-MacBook-Pro.local resolves to a loopback address: 127.0.0.1; using 192.168.11.110 instead (on interface en0)\n",
      "24/10/24 11:16:30 WARN Utils: Set SPARK_LOCAL_IP if you need to bind to another address\n",
      "Ivy Default Cache set to: /Users/aaron/.ivy2/cache\n",
      "The jars for the packages stored in: /Users/aaron/.ivy2/jars\n",
      "com.datastax.spark#spark-cassandra-connector_2.12 added as a dependency\n",
      ":: resolving dependencies :: org.apache.spark#spark-submit-parent-2a0552f4-6843-4b8d-bb4e-5aa4b351b8e6;1.0\n",
      "\tconfs: [default]\n",
      "\tfound com.datastax.spark#spark-cassandra-connector_2.12;3.4.1 in central\n",
      "\tfound com.datastax.spark#spark-cassandra-connector-driver_2.12;3.4.1 in central\n",
      "\tfound org.scala-lang.modules#scala-collection-compat_2.12;2.11.0 in central\n",
      "\tfound com.datastax.oss#java-driver-core-shaded;4.13.0 in central\n"
     ]
    },
    {
     "name": "stdout",
     "output_type": "stream",
     "text": [
      ":: loading settings :: url = jar:file:/Users/aaron/Documents/IND320_projects/.venv/lib/python3.12/site-packages/pyspark/jars/ivy-2.5.1.jar!/org/apache/ivy/core/settings/ivysettings.xml\n"
     ]
    },
    {
     "name": "stderr",
     "output_type": "stream",
     "text": [
      "\tfound com.datastax.oss#native-protocol;1.5.0 in central\n",
      "\tfound com.datastax.oss#java-driver-shaded-guava;25.1-jre-graal-sub-1 in central\n",
      "\tfound com.typesafe#config;1.4.1 in central\n",
      "\tfound org.slf4j#slf4j-api;1.7.26 in central\n",
      "\tfound io.dropwizard.metrics#metrics-core;4.1.18 in central\n",
      "\tfound org.hdrhistogram#HdrHistogram;2.1.12 in central\n",
      "\tfound org.reactivestreams#reactive-streams;1.0.3 in central\n",
      "\tfound com.github.stephenc.jcip#jcip-annotations;1.0-1 in central\n",
      "\tfound com.github.spotbugs#spotbugs-annotations;3.1.12 in central\n",
      "\tfound com.google.code.findbugs#jsr305;3.0.2 in central\n",
      "\tfound com.datastax.oss#java-driver-mapper-runtime;4.13.0 in central\n",
      "\tfound com.datastax.oss#java-driver-query-builder;4.13.0 in central\n",
      "\tfound org.apache.commons#commons-lang3;3.10 in central\n",
      "\tfound com.thoughtworks.paranamer#paranamer;2.8 in central\n",
      "\tfound org.scala-lang#scala-reflect;2.12.11 in central\n",
      ":: resolution report :: resolve 206ms :: artifacts dl 6ms\n",
      "\t:: modules in use:\n",
      "\tcom.datastax.oss#java-driver-core-shaded;4.13.0 from central in [default]\n",
      "\tcom.datastax.oss#java-driver-mapper-runtime;4.13.0 from central in [default]\n",
      "\tcom.datastax.oss#java-driver-query-builder;4.13.0 from central in [default]\n",
      "\tcom.datastax.oss#java-driver-shaded-guava;25.1-jre-graal-sub-1 from central in [default]\n",
      "\tcom.datastax.oss#native-protocol;1.5.0 from central in [default]\n",
      "\tcom.datastax.spark#spark-cassandra-connector-driver_2.12;3.4.1 from central in [default]\n",
      "\tcom.datastax.spark#spark-cassandra-connector_2.12;3.4.1 from central in [default]\n",
      "\tcom.github.spotbugs#spotbugs-annotations;3.1.12 from central in [default]\n",
      "\tcom.github.stephenc.jcip#jcip-annotations;1.0-1 from central in [default]\n",
      "\tcom.google.code.findbugs#jsr305;3.0.2 from central in [default]\n",
      "\tcom.thoughtworks.paranamer#paranamer;2.8 from central in [default]\n",
      "\tcom.typesafe#config;1.4.1 from central in [default]\n",
      "\tio.dropwizard.metrics#metrics-core;4.1.18 from central in [default]\n",
      "\torg.apache.commons#commons-lang3;3.10 from central in [default]\n",
      "\torg.hdrhistogram#HdrHistogram;2.1.12 from central in [default]\n",
      "\torg.reactivestreams#reactive-streams;1.0.3 from central in [default]\n",
      "\torg.scala-lang#scala-reflect;2.12.11 from central in [default]\n",
      "\torg.scala-lang.modules#scala-collection-compat_2.12;2.11.0 from central in [default]\n",
      "\torg.slf4j#slf4j-api;1.7.26 from central in [default]\n",
      "\t---------------------------------------------------------------------\n",
      "\t|                  |            modules            ||   artifacts   |\n",
      "\t|       conf       | number| search|dwnlded|evicted|| number|dwnlded|\n",
      "\t---------------------------------------------------------------------\n",
      "\t|      default     |   19  |   0   |   0   |   0   ||   19  |   0   |\n",
      "\t---------------------------------------------------------------------\n",
      ":: retrieving :: org.apache.spark#spark-submit-parent-2a0552f4-6843-4b8d-bb4e-5aa4b351b8e6\n",
      "\tconfs: [default]\n",
      "\t0 artifacts copied, 19 already retrieved (0kB/6ms)\n",
      "24/10/24 11:16:30 WARN NativeCodeLoader: Unable to load native-hadoop library for your platform... using builtin-java classes where applicable\n",
      "Setting default log level to \"WARN\".\n",
      "To adjust logging level use sc.setLogLevel(newLevel). For SparkR, use setLogLevel(newLevel).\n"
     ]
    }
   ],
   "source": [
    "# Set environment variables to make PySpark work\n",
    "os.environ[\"JAVA_HOME\"] = \"/opt/homebrew/opt/openjdk@11/\"\n",
    "os.environ[\"PYSPARK_PYTHON\"] = \"python\" \n",
    "os.environ[\"PYSPARK_DRIVER_PYTHON\"] = \"python\" \n",
    "os.environ[\"PYSPARK_HADOOP_VERSION\"] = \"without\"\n",
    "\n",
    "# Spark set up\n",
    "spark = SparkSession.builder.appName('SparkCassandraApp').\\\n",
    "    config('spark.jars.packages', 'com.datastax.spark:spark-cassandra-connector_2.12:3.4.1').\\\n",
    "    config('spark.cassandra.connection.host', 'localhost').\\\n",
    "    config('spark.sql.extensions', 'com.datastax.spark.connector.CassandraSparkExtensions').\\\n",
    "    config('spark.sql.catalog.mycatalog', 'com.datastax.spark.connector.datasource.CassandraCatalog').\\\n",
    "    config('spark.cassandra.connection.port', '9042').\\\n",
    "    config(\"spark.driver.memory\", \"4g\").\\\n",
    "    config(\"spark.executor.memory\", \"4g\").\\\n",
    "    config(\"spark.task.maxFailures\", \"10\").\\\n",
    "    config(\"spark.sql.shuffle.partitions\", \"200\").\\\n",
    "    getOrCreate()\n",
    "\n",
    "keyspace = \"ind320_project\""
   ]
  },
  {
   "cell_type": "code",
   "execution_count": 4,
   "metadata": {},
   "outputs": [],
   "source": [
    "cluster = Cluster([\"localhost\"], port=9042)\n",
    "session = cluster.connect()\n",
    "keyspace = \"ind320_project\"\n",
    "\n",
    "# Creating a keyspace in Cassandra\n",
    "session.execute(\n",
    "    \"CREATE KEYSPACE IF NOT EXISTS\" + \n",
    "    \" \" + \n",
    "    keyspace + \n",
    "    \" \" + \n",
    "    \"WITH REPLICATION = {'class': 'SimpleStrategy', 'replication_factor': 1};\"\n",
    ")\n",
    "\n",
    "session.set_keyspace(keyspace)"
   ]
  },
  {
   "cell_type": "code",
   "execution_count": 5,
   "metadata": {},
   "outputs": [],
   "source": [
    "def create_cassandra_view(view_name:str, table_name: str, keyspace_name: str):\n",
    "    spark.read.format(\"org.apache.spark.sql.cassandra\")\\\n",
    "        .options(table=table_name, keyspace=keyspace_name)\\\n",
    "        .load()\\\n",
    "        .createOrReplaceTempView(view_name)\n",
    "    print(f\"View '{view_name}' created.\")\n",
    "\n",
    "def create_cassandra_table_query(df, new_table_name, keyspace_name):\n",
    "    # Define mapping between Pandas and Cassandra datatypes\n",
    "    dtype_mapping = {\n",
    "        'int64': 'int',\n",
    "        'float64': 'double',\n",
    "        'object': 'text',\n",
    "        'bool': 'boolean',\n",
    "        'datetime64[ns]': 'timestamp'\n",
    "    }\n",
    "    \n",
    "    # Start constructing the CREATE TABLE query\n",
    "    query = f\"CREATE TABLE IF NOT EXISTS {keyspace_name}.{new_table_name} (\\n\"\n",
    "    \n",
    "    # Add primary key column with timeuuid\n",
    "    columns = [\"id timeuuid\"]\n",
    "    \n",
    "    # Add remaining columns with mapped Cassandra data types\n",
    "    for col, dtype in df.dtypes.items():\n",
    "        if col != \"id\":  # Exclude 'id' to avoid duplication\n",
    "            cassandra_type = dtype_mapping.get(str(dtype), 'text')  # Default to 'text' if type is unrecognized\n",
    "            columns.append(f\"{col} {cassandra_type}\")\n",
    "    \n",
    "    # Join columns with commas and specify primary key as 'id'\n",
    "    columns_str = \",\\n    \".join(columns)\n",
    "    query += f\"    {columns_str},\\n\"\n",
    "    query += \"    PRIMARY KEY (id)\\n);\"\n",
    "    \n",
    "    return query\n",
    "\n",
    "def insert_to_cassandra(df: pd.DataFrame , table_name: str, keyspace_name: str): \n",
    "# Prompt: How can I add a timeuuid 'id' column when inserting into Cassandra with PySpark\n",
    "    def generate_timeuuid():\n",
    "        return str(uuid.uuid1())\n",
    "    \n",
    "    timeuuid_udf = udf(generate_timeuuid, StringType())\n",
    "    spark.createDataFrame(df).withColumn(\"id\", timeuuid_udf())\\\n",
    "        .write.format(\"org.apache.spark.sql.cassandra\")\\\n",
    "        .mode(\"append\")\\\n",
    "        .options(table=table_name, keyspace=keyspace_name)\\\n",
    "        .save()\n",
    "    \n",
    "    print(\"Insertion completed!\")"
   ]
  },
  {
   "cell_type": "markdown",
   "metadata": {},
   "source": [
    "### Geographical locations of municipalities"
   ]
  },
  {
   "cell_type": "code",
   "execution_count": 10,
   "metadata": {},
   "outputs": [],
   "source": [
    "price_areas = {\n",
    "    \"DK1\": [\"Zealand\", \"Capital\"],\n",
    "    \"DK2\": [\"North\", \"Central\", \"South\"]\n",
    "}"
   ]
  },
  {
   "cell_type": "code",
   "execution_count": 7,
   "metadata": {},
   "outputs": [],
   "source": [
    "nominatim = Nominatim(user_agent=\"personal-application\") # Initialize a geocoder\n",
    "region_municipality = municipalities.find({}, {\"Region\": 1, \"Municipality\": 1})\n",
    "\n",
    "for row in region_municipality: \n",
    "    _id = row[\"_id\"]\n",
    "\n",
    "    # Set price area\n",
    "    if row[\"Region\"] in price_areas[\"DK2\"]:\n",
    "        price_area = \"DK2\"\n",
    "    else: \n",
    "        price_area = \"DK1\"\n",
    "\n",
    "    # Find longitude and latitude of the municipality\n",
    "    geocode_location = nominatim.geocode(row[\"Municipality\"] + \" kommune\")\n",
    "    longitude = geocode_location.longitude\n",
    "    latitude = geocode_location.latitude\n",
    "\n",
    "    # Update the row entry with values for the new entry \n",
    "    update_template = {\n",
    "        \"$set\": {\n",
    "            \"Price Area\": price_area,\n",
    "            \"Longitude\": longitude,\n",
    "            \"Latitude\": latitude\n",
    "        }\n",
    "    }\n",
    "\n",
    "    municipalities.update_one({\"_id\": _id}, update_template)"
   ]
  },
  {
   "cell_type": "code",
   "execution_count": 11,
   "metadata": {},
   "outputs": [
    {
     "name": "stdout",
     "output_type": "stream",
     "text": [
      "                     temp  dwpt  rhum  prcp  snow   wdir  wspd  wpgt    pres  \\\n",
      "time                                                                           \n",
      "2018-01-01 00:00:00   0.6  -5.6  63.0   NaN   NaN  340.0  18.4   NaN  1024.6   \n",
      "2018-01-01 01:00:00  -1.1  -6.6  66.0   0.0   NaN  320.0  16.6   NaN  1025.4   \n",
      "2018-01-01 02:00:00  -1.1  -9.5  53.0   0.0   NaN  330.0  22.3   NaN  1025.8   \n",
      "2018-01-01 03:00:00  -1.1 -10.0  51.0   0.0   NaN  330.0  25.9   NaN  1025.6   \n",
      "2018-01-01 04:00:00  -1.7 -10.5  51.0   0.0   NaN  340.0  18.4   NaN  1026.1   \n",
      "...                   ...   ...   ...   ...   ...    ...   ...   ...     ...   \n",
      "2018-12-31 19:00:00  20.0  17.2  84.0   0.0   NaN  200.0  18.4   NaN  1016.5   \n",
      "2018-12-31 20:00:00  21.1  16.7  76.0   0.0   NaN  190.0  22.3   NaN  1015.8   \n",
      "2018-12-31 21:00:00  21.1  16.1  73.0   0.0   NaN  180.0  27.7   NaN  1014.7   \n",
      "2018-12-31 22:00:00  21.1  15.0  68.0   0.0   NaN  190.0  27.7   NaN  1015.7   \n",
      "2018-12-31 23:00:00  20.0  15.0  73.0   0.0   NaN  180.0  20.5   NaN  1015.6   \n",
      "\n",
      "                     tsun  coco  \n",
      "time                             \n",
      "2018-01-01 00:00:00   NaN   NaN  \n",
      "2018-01-01 01:00:00   NaN   NaN  \n",
      "2018-01-01 02:00:00   NaN   NaN  \n",
      "2018-01-01 03:00:00   NaN   NaN  \n",
      "2018-01-01 04:00:00   NaN   NaN  \n",
      "...                   ...   ...  \n",
      "2018-12-31 19:00:00   NaN   4.0  \n",
      "2018-12-31 20:00:00   NaN   4.0  \n",
      "2018-12-31 21:00:00   NaN   4.0  \n",
      "2018-12-31 22:00:00   NaN   7.0  \n",
      "2018-12-31 23:00:00   NaN   7.0  \n",
      "\n",
      "[8760 rows x 11 columns]\n"
     ]
    }
   ],
   "source": [
    "from datetime import datetime\n",
    "from meteostat import Hourly\n",
    "\n",
    "# Set time period\n",
    "start = datetime(2018, 1, 1)\n",
    "end = datetime(2018, 12, 31, 23, 59)\n",
    "\n",
    "# Get hourly data\n",
    "data = Hourly('72219', start, end)\n",
    "data_1 = data.fetch()\n",
    "\n",
    "# Print DataFrame\n",
    "print(data_1)"
   ]
  },
  {
   "cell_type": "code",
   "execution_count": 16,
   "metadata": {},
   "outputs": [
    {
     "data": {
      "text/plain": [
       "Index(['72219'], dtype='object')"
      ]
     },
     "execution_count": 16,
     "metadata": {},
     "output_type": "execute_result"
    }
   ],
   "source": [
    "data.stations"
   ]
  },
  {
   "cell_type": "markdown",
   "metadata": {},
   "source": [
    "### Weather data"
   ]
  },
  {
   "cell_type": "code",
   "execution_count": 18,
   "metadata": {},
   "outputs": [
    {
     "name": "stderr",
     "output_type": "stream",
     "text": [
      "FutureWarning: 'H' is deprecated and will be removed in a future version, please use 'h' instead.\n",
      "FutureWarning: The behavior of array concatenation with empty entries is deprecated. In a future version, this will no longer exclude empty items when determining the result dtype. To retain the old behavior, exclude the empty entries before the concat operation.\n",
      "FutureWarning: The behavior of DataFrame concatenation with empty or all-NA entries is deprecated. In a future version, this will no longer exclude empty or all-NA columns when determining the result dtypes. To retain the old behavior, exclude the relevant entries before the concat operation.\n",
      "FutureWarning: Support for nested sequences for 'parse_dates' in pd.read_csv is deprecated. Combine the desired columns with pd.to_datetime after parsing instead.\n",
      "FutureWarning: 'H' is deprecated and will be removed in a future version, please use 'h' instead.\n",
      "FutureWarning: Support for nested sequences for 'parse_dates' in pd.read_csv is deprecated. Combine the desired columns with pd.to_datetime after parsing instead.\n",
      "FutureWarning: 'H' is deprecated and will be removed in a future version, please use 'h' instead.\n",
      "FutureWarning: Support for nested sequences for 'parse_dates' in pd.read_csv is deprecated. Combine the desired columns with pd.to_datetime after parsing instead.\n",
      "FutureWarning: 'H' is deprecated and will be removed in a future version, please use 'h' instead.\n",
      "FutureWarning: Support for nested sequences for 'parse_dates' in pd.read_csv is deprecated. Combine the desired columns with pd.to_datetime after parsing instead.\n",
      "Warning: Cannot load hourly/2022/06100.csv.gz from https://bulk.meteostat.net/v2/\n",
      "FutureWarning: Support for nested sequences for 'parse_dates' in pd.read_csv is deprecated. Combine the desired columns with pd.to_datetime after parsing instead.\n",
      "FutureWarning: 'H' is deprecated and will be removed in a future version, please use 'h' instead.\n",
      "FutureWarning: 'H' is deprecated and will be removed in a future version, please use 'h' instead.\n",
      "FutureWarning: Support for nested sequences for 'parse_dates' in pd.read_csv is deprecated. Combine the desired columns with pd.to_datetime after parsing instead.\n",
      "Warning: Cannot load hourly/2022/06048.csv.gz from https://bulk.meteostat.net/v2/\n",
      "FutureWarning: The behavior of array concatenation with empty entries is deprecated. In a future version, this will no longer exclude empty items when determining the result dtype. To retain the old behavior, exclude the empty entries before the concat operation.\n",
      "FutureWarning: The behavior of DataFrame concatenation with empty or all-NA entries is deprecated. In a future version, this will no longer exclude empty or all-NA columns when determining the result dtypes. To retain the old behavior, exclude the relevant entries before the concat operation.\n",
      "FutureWarning: Support for nested sequences for 'parse_dates' in pd.read_csv is deprecated. Combine the desired columns with pd.to_datetime after parsing instead.\n",
      "FutureWarning: Support for nested sequences for 'parse_dates' in pd.read_csv is deprecated. Combine the desired columns with pd.to_datetime after parsing instead.\n",
      "FutureWarning: 'H' is deprecated and will be removed in a future version, please use 'h' instead.\n",
      "FutureWarning: Support for nested sequences for 'parse_dates' in pd.read_csv is deprecated. Combine the desired columns with pd.to_datetime after parsing instead.\n",
      "FutureWarning: Support for nested sequences for 'parse_dates' in pd.read_csv is deprecated. Combine the desired columns with pd.to_datetime after parsing instead.\n",
      "FutureWarning: 'H' is deprecated and will be removed in a future version, please use 'h' instead.\n",
      "FutureWarning: 'H' is deprecated and will be removed in a future version, please use 'h' instead.\n",
      "FutureWarning: 'H' is deprecated and will be removed in a future version, please use 'h' instead.\n",
      "FutureWarning: The behavior of array concatenation with empty entries is deprecated. In a future version, this will no longer exclude empty items when determining the result dtype. To retain the old behavior, exclude the empty entries before the concat operation.\n",
      "FutureWarning: The behavior of DataFrame concatenation with empty or all-NA entries is deprecated. In a future version, this will no longer exclude empty or all-NA columns when determining the result dtypes. To retain the old behavior, exclude the relevant entries before the concat operation.\n",
      "FutureWarning: Support for nested sequences for 'parse_dates' in pd.read_csv is deprecated. Combine the desired columns with pd.to_datetime after parsing instead.\n",
      "FutureWarning: 'H' is deprecated and will be removed in a future version, please use 'h' instead.\n",
      "FutureWarning: Support for nested sequences for 'parse_dates' in pd.read_csv is deprecated. Combine the desired columns with pd.to_datetime after parsing instead.\n",
      "FutureWarning: Support for nested sequences for 'parse_dates' in pd.read_csv is deprecated. Combine the desired columns with pd.to_datetime after parsing instead.\n",
      "FutureWarning: 'H' is deprecated and will be removed in a future version, please use 'h' instead.\n",
      "FutureWarning: 'H' is deprecated and will be removed in a future version, please use 'h' instead.\n",
      "FutureWarning: Support for nested sequences for 'parse_dates' in pd.read_csv is deprecated. Combine the desired columns with pd.to_datetime after parsing instead.\n",
      "FutureWarning: Support for nested sequences for 'parse_dates' in pd.read_csv is deprecated. Combine the desired columns with pd.to_datetime after parsing instead.\n",
      "FutureWarning: Support for nested sequences for 'parse_dates' in pd.read_csv is deprecated. Combine the desired columns with pd.to_datetime after parsing instead.\n",
      "FutureWarning: Support for nested sequences for 'parse_dates' in pd.read_csv is deprecated. Combine the desired columns with pd.to_datetime after parsing instead.\n",
      "FutureWarning: 'H' is deprecated and will be removed in a future version, please use 'h' instead.\n",
      "FutureWarning: 'H' is deprecated and will be removed in a future version, please use 'h' instead.\n",
      "FutureWarning: 'H' is deprecated and will be removed in a future version, please use 'h' instead.\n",
      "FutureWarning: Support for nested sequences for 'parse_dates' in pd.read_csv is deprecated. Combine the desired columns with pd.to_datetime after parsing instead.\n",
      "FutureWarning: 'H' is deprecated and will be removed in a future version, please use 'h' instead.\n",
      "FutureWarning: 'H' is deprecated and will be removed in a future version, please use 'h' instead.\n",
      "FutureWarning: Support for nested sequences for 'parse_dates' in pd.read_csv is deprecated. Combine the desired columns with pd.to_datetime after parsing instead.\n",
      "FutureWarning: Support for nested sequences for 'parse_dates' in pd.read_csv is deprecated. Combine the desired columns with pd.to_datetime after parsing instead.\n",
      "FutureWarning: Support for nested sequences for 'parse_dates' in pd.read_csv is deprecated. Combine the desired columns with pd.to_datetime after parsing instead.\n",
      "FutureWarning: 'H' is deprecated and will be removed in a future version, please use 'h' instead.\n",
      "FutureWarning: Support for nested sequences for 'parse_dates' in pd.read_csv is deprecated. Combine the desired columns with pd.to_datetime after parsing instead.\n",
      "FutureWarning: 'H' is deprecated and will be removed in a future version, please use 'h' instead.\n",
      "FutureWarning: Support for nested sequences for 'parse_dates' in pd.read_csv is deprecated. Combine the desired columns with pd.to_datetime after parsing instead.\n",
      "FutureWarning: 'H' is deprecated and will be removed in a future version, please use 'h' instead.\n",
      "FutureWarning: Support for nested sequences for 'parse_dates' in pd.read_csv is deprecated. Combine the desired columns with pd.to_datetime after parsing instead.\n",
      "FutureWarning: Support for nested sequences for 'parse_dates' in pd.read_csv is deprecated. Combine the desired columns with pd.to_datetime after parsing instead.\n",
      "FutureWarning: Support for nested sequences for 'parse_dates' in pd.read_csv is deprecated. Combine the desired columns with pd.to_datetime after parsing instead.\n",
      "FutureWarning: 'H' is deprecated and will be removed in a future version, please use 'h' instead.\n",
      "FutureWarning: Support for nested sequences for 'parse_dates' in pd.read_csv is deprecated. Combine the desired columns with pd.to_datetime after parsing instead.\n",
      "FutureWarning: 'H' is deprecated and will be removed in a future version, please use 'h' instead.\n",
      "FutureWarning: The behavior of array concatenation with empty entries is deprecated. In a future version, this will no longer exclude empty items when determining the result dtype. To retain the old behavior, exclude the empty entries before the concat operation.\n",
      "FutureWarning: The behavior of DataFrame concatenation with empty or all-NA entries is deprecated. In a future version, this will no longer exclude empty or all-NA columns when determining the result dtypes. To retain the old behavior, exclude the relevant entries before the concat operation.\n",
      "FutureWarning: Support for nested sequences for 'parse_dates' in pd.read_csv is deprecated. Combine the desired columns with pd.to_datetime after parsing instead.\n",
      "FutureWarning: 'H' is deprecated and will be removed in a future version, please use 'h' instead.\n",
      "FutureWarning: 'H' is deprecated and will be removed in a future version, please use 'h' instead.\n",
      "FutureWarning: Support for nested sequences for 'parse_dates' in pd.read_csv is deprecated. Combine the desired columns with pd.to_datetime after parsing instead.\n",
      "Warning: Cannot load hourly/2022/06054.csv.gz from https://bulk.meteostat.net/v2/\n",
      "FutureWarning: 'H' is deprecated and will be removed in a future version, please use 'h' instead.\n",
      "FutureWarning: 'H' is deprecated and will be removed in a future version, please use 'h' instead.\n",
      "FutureWarning: 'H' is deprecated and will be removed in a future version, please use 'h' instead.\n",
      "FutureWarning: 'H' is deprecated and will be removed in a future version, please use 'h' instead.\n",
      "FutureWarning: 'H' is deprecated and will be removed in a future version, please use 'h' instead.\n",
      "FutureWarning: 'H' is deprecated and will be removed in a future version, please use 'h' instead.\n",
      "FutureWarning: 'H' is deprecated and will be removed in a future version, please use 'h' instead.\n",
      "FutureWarning: 'H' is deprecated and will be removed in a future version, please use 'h' instead.\n",
      "FutureWarning: The behavior of array concatenation with empty entries is deprecated. In a future version, this will no longer exclude empty items when determining the result dtype. To retain the old behavior, exclude the empty entries before the concat operation.\n",
      "FutureWarning: The behavior of DataFrame concatenation with empty or all-NA entries is deprecated. In a future version, this will no longer exclude empty or all-NA columns when determining the result dtypes. To retain the old behavior, exclude the relevant entries before the concat operation.\n",
      "FutureWarning: 'H' is deprecated and will be removed in a future version, please use 'h' instead.\n",
      "FutureWarning: 'H' is deprecated and will be removed in a future version, please use 'h' instead.\n",
      "FutureWarning: 'H' is deprecated and will be removed in a future version, please use 'h' instead.\n",
      "FutureWarning: 'H' is deprecated and will be removed in a future version, please use 'h' instead.\n",
      "FutureWarning: 'H' is deprecated and will be removed in a future version, please use 'h' instead.\n",
      "FutureWarning: The behavior of array concatenation with empty entries is deprecated. In a future version, this will no longer exclude empty items when determining the result dtype. To retain the old behavior, exclude the empty entries before the concat operation.\n",
      "FutureWarning: The behavior of DataFrame concatenation with empty or all-NA entries is deprecated. In a future version, this will no longer exclude empty or all-NA columns when determining the result dtypes. To retain the old behavior, exclude the relevant entries before the concat operation.\n",
      "FutureWarning: The behavior of array concatenation with empty entries is deprecated. In a future version, this will no longer exclude empty items when determining the result dtype. To retain the old behavior, exclude the empty entries before the concat operation.\n",
      "FutureWarning: The behavior of DataFrame concatenation with empty or all-NA entries is deprecated. In a future version, this will no longer exclude empty or all-NA columns when determining the result dtypes. To retain the old behavior, exclude the relevant entries before the concat operation.\n",
      "FutureWarning: 'H' is deprecated and will be removed in a future version, please use 'h' instead.\n",
      "FutureWarning: Support for nested sequences for 'parse_dates' in pd.read_csv is deprecated. Combine the desired columns with pd.to_datetime after parsing instead.\n",
      "Warning: Cannot load hourly/2022/10043.csv.gz from https://bulk.meteostat.net/v2/\n",
      "FutureWarning: Support for nested sequences for 'parse_dates' in pd.read_csv is deprecated. Combine the desired columns with pd.to_datetime after parsing instead.\n",
      "FutureWarning: 'H' is deprecated and will be removed in a future version, please use 'h' instead.\n",
      "FutureWarning: Support for nested sequences for 'parse_dates' in pd.read_csv is deprecated. Combine the desired columns with pd.to_datetime after parsing instead.\n",
      "Warning: Cannot load hourly/2022/06024.csv.gz from https://bulk.meteostat.net/v2/\n",
      "FutureWarning: Support for nested sequences for 'parse_dates' in pd.read_csv is deprecated. Combine the desired columns with pd.to_datetime after parsing instead.\n",
      "FutureWarning: 'H' is deprecated and will be removed in a future version, please use 'h' instead.\n",
      "FutureWarning: 'H' is deprecated and will be removed in a future version, please use 'h' instead.\n",
      "FutureWarning: 'H' is deprecated and will be removed in a future version, please use 'h' instead.\n",
      "FutureWarning: The behavior of array concatenation with empty entries is deprecated. In a future version, this will no longer exclude empty items when determining the result dtype. To retain the old behavior, exclude the empty entries before the concat operation.\n",
      "FutureWarning: The behavior of DataFrame concatenation with empty or all-NA entries is deprecated. In a future version, this will no longer exclude empty or all-NA columns when determining the result dtypes. To retain the old behavior, exclude the relevant entries before the concat operation.\n",
      "FutureWarning: 'H' is deprecated and will be removed in a future version, please use 'h' instead.\n",
      "FutureWarning: Support for nested sequences for 'parse_dates' in pd.read_csv is deprecated. Combine the desired columns with pd.to_datetime after parsing instead.\n",
      "FutureWarning: 'H' is deprecated and will be removed in a future version, please use 'h' instead.\n",
      "FutureWarning: 'H' is deprecated and will be removed in a future version, please use 'h' instead.\n",
      "FutureWarning: Support for nested sequences for 'parse_dates' in pd.read_csv is deprecated. Combine the desired columns with pd.to_datetime after parsing instead.\n",
      "FutureWarning: Support for nested sequences for 'parse_dates' in pd.read_csv is deprecated. Combine the desired columns with pd.to_datetime after parsing instead.\n",
      "FutureWarning: 'H' is deprecated and will be removed in a future version, please use 'h' instead.\n",
      "FutureWarning: Support for nested sequences for 'parse_dates' in pd.read_csv is deprecated. Combine the desired columns with pd.to_datetime after parsing instead.\n",
      "FutureWarning: 'H' is deprecated and will be removed in a future version, please use 'h' instead.\n",
      "FutureWarning: 'H' is deprecated and will be removed in a future version, please use 'h' instead.\n",
      "FutureWarning: 'H' is deprecated and will be removed in a future version, please use 'h' instead.\n",
      "FutureWarning: 'H' is deprecated and will be removed in a future version, please use 'h' instead.\n",
      "FutureWarning: Support for nested sequences for 'parse_dates' in pd.read_csv is deprecated. Combine the desired columns with pd.to_datetime after parsing instead.\n",
      "FutureWarning: 'H' is deprecated and will be removed in a future version, please use 'h' instead.\n",
      "FutureWarning: 'H' is deprecated and will be removed in a future version, please use 'h' instead.\n",
      "FutureWarning: 'H' is deprecated and will be removed in a future version, please use 'h' instead.\n",
      "FutureWarning: 'H' is deprecated and will be removed in a future version, please use 'h' instead.\n",
      "FutureWarning: 'H' is deprecated and will be removed in a future version, please use 'h' instead.\n",
      "FutureWarning: 'H' is deprecated and will be removed in a future version, please use 'h' instead.\n",
      "FutureWarning: 'H' is deprecated and will be removed in a future version, please use 'h' instead.\n",
      "FutureWarning: 'H' is deprecated and will be removed in a future version, please use 'h' instead.\n",
      "FutureWarning: 'H' is deprecated and will be removed in a future version, please use 'h' instead.\n",
      "FutureWarning: 'H' is deprecated and will be removed in a future version, please use 'h' instead.\n",
      "FutureWarning: 'H' is deprecated and will be removed in a future version, please use 'h' instead.\n",
      "FutureWarning: Support for nested sequences for 'parse_dates' in pd.read_csv is deprecated. Combine the desired columns with pd.to_datetime after parsing instead.\n",
      "FutureWarning: 'H' is deprecated and will be removed in a future version, please use 'h' instead.\n",
      "FutureWarning: 'H' is deprecated and will be removed in a future version, please use 'h' instead.\n",
      "FutureWarning: 'H' is deprecated and will be removed in a future version, please use 'h' instead.\n",
      "FutureWarning: 'H' is deprecated and will be removed in a future version, please use 'h' instead.\n",
      "FutureWarning: 'H' is deprecated and will be removed in a future version, please use 'h' instead.\n",
      "FutureWarning: 'H' is deprecated and will be removed in a future version, please use 'h' instead.\n",
      "FutureWarning: 'H' is deprecated and will be removed in a future version, please use 'h' instead.\n",
      "FutureWarning: 'H' is deprecated and will be removed in a future version, please use 'h' instead.\n",
      "FutureWarning: 'H' is deprecated and will be removed in a future version, please use 'h' instead.\n",
      "FutureWarning: 'H' is deprecated and will be removed in a future version, please use 'h' instead.\n",
      "FutureWarning: 'H' is deprecated and will be removed in a future version, please use 'h' instead.\n",
      "FutureWarning: 'H' is deprecated and will be removed in a future version, please use 'h' instead.\n",
      "FutureWarning: 'H' is deprecated and will be removed in a future version, please use 'h' instead.\n",
      "FutureWarning: 'H' is deprecated and will be removed in a future version, please use 'h' instead.\n",
      "FutureWarning: Support for nested sequences for 'parse_dates' in pd.read_csv is deprecated. Combine the desired columns with pd.to_datetime after parsing instead.\n",
      "FutureWarning: 'H' is deprecated and will be removed in a future version, please use 'h' instead.\n",
      "FutureWarning: The behavior of array concatenation with empty entries is deprecated. In a future version, this will no longer exclude empty items when determining the result dtype. To retain the old behavior, exclude the empty entries before the concat operation.\n",
      "FutureWarning: The behavior of DataFrame concatenation with empty or all-NA entries is deprecated. In a future version, this will no longer exclude empty or all-NA columns when determining the result dtypes. To retain the old behavior, exclude the relevant entries before the concat operation.\n",
      "FutureWarning: 'H' is deprecated and will be removed in a future version, please use 'h' instead.\n",
      "FutureWarning: 'H' is deprecated and will be removed in a future version, please use 'h' instead.\n",
      "FutureWarning: 'H' is deprecated and will be removed in a future version, please use 'h' instead.\n",
      "FutureWarning: 'H' is deprecated and will be removed in a future version, please use 'h' instead.\n",
      "FutureWarning: 'H' is deprecated and will be removed in a future version, please use 'h' instead.\n",
      "FutureWarning: 'H' is deprecated and will be removed in a future version, please use 'h' instead.\n",
      "FutureWarning: 'H' is deprecated and will be removed in a future version, please use 'h' instead.\n",
      "FutureWarning: 'H' is deprecated and will be removed in a future version, please use 'h' instead.\n",
      "FutureWarning: 'H' is deprecated and will be removed in a future version, please use 'h' instead.\n",
      "FutureWarning: The behavior of array concatenation with empty entries is deprecated. In a future version, this will no longer exclude empty items when determining the result dtype. To retain the old behavior, exclude the empty entries before the concat operation.\n",
      "FutureWarning: The behavior of DataFrame concatenation with empty or all-NA entries is deprecated. In a future version, this will no longer exclude empty or all-NA columns when determining the result dtypes. To retain the old behavior, exclude the relevant entries before the concat operation.\n",
      "FutureWarning: 'H' is deprecated and will be removed in a future version, please use 'h' instead.\n",
      "FutureWarning: The behavior of array concatenation with empty entries is deprecated. In a future version, this will no longer exclude empty items when determining the result dtype. To retain the old behavior, exclude the empty entries before the concat operation.\n",
      "FutureWarning: The behavior of DataFrame concatenation with empty or all-NA entries is deprecated. In a future version, this will no longer exclude empty or all-NA columns when determining the result dtypes. To retain the old behavior, exclude the relevant entries before the concat operation.\n"
     ]
    }
   ],
   "source": [
    "start = datetime(2022, 1, 1)\n",
    "end = datetime(2022, 12, 31, 23, 59)\n",
    "stations = Stations()\n",
    "\n",
    "df_weather = pd.DataFrame()\n",
    "\n",
    "municipality_coords = municipalities.find({}, {\"Municipality\": 1, \"Longitude\": 1, \"Latitude\": 1})\n",
    "\n",
    "for row in municipality_coords:\n",
    "    latitude = row[\"Latitude\"]\n",
    "    longitude = row[\"Longitude\"]\n",
    "    nearby_stations = stations.nearby(latitude, longitude)\n",
    "    nearest_station = nearby_stations.fetch(1) # Fetches nearest station to the coordinates given \n",
    "    distance = nearest_station[\"distance\"].iloc[0] # Returns distance to nearest station\n",
    "    \n",
    "    weather_location = Hourly(Point(latitude, longitude), start, end)\n",
    "    weather_data = weather_location.fetch() # Retrieves hourly weather data for specified period\n",
    "    weather_data[\"distance\"] = distance\n",
    "    weather_data[\"municipality\"] = row[\"Municipality\"] # Adding a \"municipality\" so we can distinguish the data \n",
    "\n",
    "    df_weather = pd.concat([df_weather, weather_data])\n",
    "\n",
    "df_weather = df_weather.reset_index()\n",
    "df_weather = df_weather.rename(columns={\"index\": \"datetime\"})"
   ]
  },
  {
   "cell_type": "code",
   "execution_count": 9,
   "metadata": {},
   "outputs": [
    {
     "name": "stderr",
     "output_type": "stream",
     "text": [
      "24/10/23 13:08:05 WARN TaskSetManager: Stage 0 contains a task of very large size (8194 KiB). The maximum recommended task size is 1000 KiB.\n",
      "[Stage 0:>                                                        (0 + 11) / 11]\r"
     ]
    },
    {
     "name": "stdout",
     "output_type": "stream",
     "text": [
      "Insertion completed!\n"
     ]
    },
    {
     "name": "stderr",
     "output_type": "stream",
     "text": [
      "                                                                                \r"
     ]
    }
   ],
   "source": [
    "cas_weather_table = \"weather_data\"\n",
    "session.execute(f\"DROP TABLE IF EXISTS {keyspace}.{cas_weather_table}\")\n",
    "weather_table = create_cassandra_table_query(df_weather, cas_weather_table, keyspace)\n",
    "session.execute(weather_table)\n",
    "insert_to_cassandra(df_weather, cas_weather_table, keyspace)"
   ]
  },
  {
   "cell_type": "markdown",
   "metadata": {},
   "source": [
    "### Smoothing and outliers/anomalies"
   ]
  },
  {
   "cell_type": "markdown",
   "metadata": {},
   "source": [
    "#### Gas prices"
   ]
  },
  {
   "cell_type": "code",
   "execution_count": 6,
   "metadata": {},
   "outputs": [
    {
     "data": {
      "text/html": [
       "<div>\n",
       "<style scoped>\n",
       "    .dataframe tbody tr th:only-of-type {\n",
       "        vertical-align: middle;\n",
       "    }\n",
       "\n",
       "    .dataframe tbody tr th {\n",
       "        vertical-align: top;\n",
       "    }\n",
       "\n",
       "    .dataframe thead th {\n",
       "        text-align: right;\n",
       "    }\n",
       "</style>\n",
       "<table border=\"1\" class=\"dataframe\">\n",
       "  <thead>\n",
       "    <tr style=\"text-align: right;\">\n",
       "      <th></th>\n",
       "      <th>_id</th>\n",
       "      <th>GasDay</th>\n",
       "      <th>PurchasePriceDKK_kWh</th>\n",
       "    </tr>\n",
       "  </thead>\n",
       "  <tbody>\n",
       "    <tr>\n",
       "      <th>91</th>\n",
       "      <td>6709103c43f4e1efbf67a110</td>\n",
       "      <td>2022-10-01</td>\n",
       "      <td>1.2209</td>\n",
       "    </tr>\n",
       "    <tr>\n",
       "      <th>90</th>\n",
       "      <td>6709103c43f4e1efbf67a10f</td>\n",
       "      <td>2022-10-02</td>\n",
       "      <td>1.1672</td>\n",
       "    </tr>\n",
       "    <tr>\n",
       "      <th>89</th>\n",
       "      <td>6709103c43f4e1efbf67a10e</td>\n",
       "      <td>2022-10-03</td>\n",
       "      <td>1.0476</td>\n",
       "    </tr>\n",
       "    <tr>\n",
       "      <th>88</th>\n",
       "      <td>6709103c43f4e1efbf67a10d</td>\n",
       "      <td>2022-10-04</td>\n",
       "      <td>0.8667</td>\n",
       "    </tr>\n",
       "    <tr>\n",
       "      <th>87</th>\n",
       "      <td>6709103c43f4e1efbf67a10c</td>\n",
       "      <td>2022-10-05</td>\n",
       "      <td>0.6087</td>\n",
       "    </tr>\n",
       "  </tbody>\n",
       "</table>\n",
       "</div>"
      ],
      "text/plain": [
       "                         _id     GasDay  PurchasePriceDKK_kWh\n",
       "91  6709103c43f4e1efbf67a110 2022-10-01                1.2209\n",
       "90  6709103c43f4e1efbf67a10f 2022-10-02                1.1672\n",
       "89  6709103c43f4e1efbf67a10e 2022-10-03                1.0476\n",
       "88  6709103c43f4e1efbf67a10d 2022-10-04                0.8667\n",
       "87  6709103c43f4e1efbf67a10c 2022-10-05                0.6087"
      ]
     },
     "execution_count": 6,
     "metadata": {},
     "output_type": "execute_result"
    }
   ],
   "source": [
    "gas_prices = [entry for entry in database[\"gas\"].find({}, {\"PurchasePriceDKK_kWh\": 1, \"GasDay\": 1})]\n",
    "df_gas_prices = pd.DataFrame.from_records(gas_prices)\n",
    "df_gas_prices = df_gas_prices.sort_values(\"GasDay\", ascending=True)\n",
    "df_gas_prices.head()"
   ]
  },
  {
   "cell_type": "code",
   "execution_count": 11,
   "metadata": {},
   "outputs": [
    {
     "data": {
      "image/png": "[encoded data removed]",
      "text/plain": [
       "<Figure size 1000x500 with 1 Axes>"
      ]
     },
     "metadata": {},
     "output_type": "display_data"
    }
   ],
   "source": [
    "W = np.arange(0, df_gas_prices.shape[0])\n",
    "dct_gas_prices = dct(df_gas_prices[\"PurchasePriceDKK_kWh\"].values) # DCT on the gas prices\n",
    "\n",
    "plt.figure(figsize=(10, 5))\n",
    "plt.plot(np.abs(dct_gas_prices))\n",
    "plt.xlabel('coefficient') \n",
    "plt.ylabel('amplitude')\n",
    "plt.xlim(0, dct_gas_prices.shape[0])\n",
    "plt.show()"
   ]
  },
  {
   "cell_type": "code",
   "execution_count": 12,
   "metadata": {},
   "outputs": [
    {
     "data": {
      "image/png": "[encoded data removed]",
      "text/plain": [
       "<Figure size 1000x500 with 1 Axes>"
      ]
     },
     "metadata": {},
     "output_type": "display_data"
    }
   ],
   "source": [
    "dct_gas_prices[(W > 10)] = 0\n",
    "\n",
    "\n",
    "plt.figure(figsize=(10, 5))\n",
    "plt.fill_between(df_gas_prices['GasDay'], df_gas_prices['PurchasePriceDKK_kWh'], \n",
    "                 color='grey', alpha=0.5, label=\"Original gas price\")\n",
    "plt.xlabel('Date')\n",
    "plt.ylabel('Gas Price')\n",
    "plt.title('Gas Prices Over Time')\n",
    "plt.plot(df_gas_prices['GasDay'], idct(dct_gas_prices), label=\"Filtered\",\n",
    "         color=\"purple\", linewidth=4)\n",
    "plt.legend()\n",
    "plt.show()"
   ]
  },
  {
   "cell_type": "markdown",
   "metadata": {},
   "source": [
    "#### Electricity exchange"
   ]
  },
  {
   "cell_type": "code",
   "execution_count": 13,
   "metadata": {},
   "outputs": [
    {
     "name": "stderr",
     "output_type": "stream",
     "text": [
      "24/10/23 13:08:25 WARN SparkStringUtils: Truncated the string representation of a plan since it was too large. This behavior can be adjusted by setting 'spark.sql.debug.maxToStringFields'.\n"
     ]
    },
    {
     "name": "stdout",
     "output_type": "stream",
     "text": [
      "View 'prodcons_view' created.\n",
      "Mean: 228.552, Standard deviation: 1012.995\n",
      "Trimmed mean: 256.473, MAD: 694.875\n",
      "Estimated standard deviation from MAD: 1030.222\n"
     ]
    }
   ],
   "source": [
    "create_cassandra_view(\"prodcons_view\", \"prodcons\", keyspace)  # Create a view to access the Cassandra table\n",
    "df_exchangeNO = spark.sql(\"SELECT hourdk, exchangeno_mwh FROM prodcons_view\").toPandas()\n",
    "df_exchangeNO = df_exchangeNO.groupby(\"hourdk\").aggregate({\"exchangeno_mwh\": \"sum\"}) # Aggregate sum to ensure I only have one observation each hour\n",
    "\n",
    "# Mean and standard deviation of the electricity exchange\n",
    "mean_exchangeNO = df_exchangeNO[\"exchangeno_mwh\"].mean()\n",
    "std_exchangeNO = df_exchangeNO[\"exchangeno_mwh\"].std()\n",
    "print(f\"Mean: {mean_exchangeNO:.3f}, Standard deviation: {std_exchangeNO:.3f}\")\n",
    "\n",
    "# Robust statistics\n",
    "trim_mean_exchangeNO = stats.trim_mean(df_exchangeNO[\"exchangeno_mwh\"], 0.05)\n",
    "MAD_exchangeNO = stats.median_abs_deviation(df_exchangeNO[\"exchangeno_mwh\"])\n",
    "print(f\"Trimmed mean: {trim_mean_exchangeNO:.3f}, MAD: {MAD_exchangeNO:.3f}\")\n",
    "print(f\"Estimated standard deviation from MAD: {MAD_exchangeNO * 1.4826:.3f}\")"
   ]
  },
  {
   "cell_type": "markdown",
   "metadata": {},
   "source": [
    "*DISCUSS NUMBERINOS*\n",
    "\n",
    "Trimmed mean is different from the mean statistic as we remove a percentage of the most extreme outliers, here 5%. \n",
    "\n",
    "Median absolute devation differs from standard deviation, but it has a relation to it by multiplying it by $k \\approx 1.4826$. By multiplying by $k$ we get a value more similair to the standard deviation $\\hat{\\sigma}$ approximated above."
   ]
  },
  {
   "cell_type": "code",
   "execution_count": 14,
   "metadata": {},
   "outputs": [
    {
     "data": {
      "text/plain": [
       "<Figure size 1000x500 with 0 Axes>"
      ]
     },
     "metadata": {},
     "output_type": "display_data"
    },
    {
     "data": {
      "image/png": "[encoded data removed]",
      "text/plain": [
       "<Figure size 640x480 with 1 Axes>"
      ]
     },
     "metadata": {},
     "output_type": "display_data"
    }
   ],
   "source": [
    "plt.figure(figsize=(10,5))\n",
    "df_exchangeNO.plot()\n",
    "plt.show()"
   ]
  },
  {
   "cell_type": "code",
   "execution_count": 15,
   "metadata": {},
   "outputs": [
    {
     "name": "stdout",
     "output_type": "stream",
     "text": [
      "-2810.4330951104407 3267.5362585775033\n"
     ]
    }
   ],
   "source": [
    "# SPC\n",
    "# According to SPC, observations outside $\\pm 3$ standard deviations of the mean are considered outliers.\n",
    "lower_threshold = mean_exchangeNO - std_exchangeNO * 3\n",
    "upper_threshold =  mean_exchangeNO + std_exchangeNO * 3\n",
    "print(lower_threshold, upper_threshold)\n",
    "\n",
    "# plt.figure(figsize=(10, 5))"
   ]
  },
  {
   "cell_type": "markdown",
   "metadata": {},
   "source": [
    "### Imputation"
   ]
  },
  {
   "cell_type": "markdown",
   "metadata": {},
   "source": [
    "Vi skal sikkert bruke nærliggende stasjoner for å impute verdier?"
   ]
  },
  {
   "cell_type": "code",
   "execution_count": 6,
   "metadata": {},
   "outputs": [
    {
     "name": "stderr",
     "output_type": "stream",
     "text": [
      "24/10/24 11:16:38 WARN SparkStringUtils: Truncated the string representation of a plan since it was too large. This behavior can be adjusted by setting 'spark.sql.debug.maxToStringFields'.\n"
     ]
    },
    {
     "name": "stdout",
     "output_type": "stream",
     "text": [
      "View 'prodcons_view' created.\n",
      "View 'production_view' created.\n",
      "View 'consumption_view' created.\n",
      "View 'weather_view' created.\n"
     ]
    },
    {
     "name": "stderr",
     "output_type": "stream",
     "text": [
      "                                                                                \r"
     ]
    }
   ],
   "source": [
    "gas_prices = [entry for entry in database[\"gas\"].find({}, {\"PurchasePriceDKK_kWh\": 1, \"GasDay\": 1})]\n",
    "# Create views to access the Cassandra tables\n",
    "create_cassandra_view(\"prodcons_view\", \"prodcons\", keyspace)  \n",
    "create_cassandra_view(\"production_view\", \"production\", keyspace)\n",
    "create_cassandra_view(\"consumption_view\", \"consumption\", keyspace)\n",
    "create_cassandra_view(\"weather_view\", \"weather_data\", keyspace)\n",
    "\n",
    "# Retrieve and prepare dataframes\n",
    "df_municipalities = pd.DataFrame.from_records([entry for entry in municipalities.find({})]) \n",
    "df_gas_prices = pd.DataFrame.from_records(gas_prices)\n",
    "df_prodcons = spark.sql(\"SELECT * FROM prodcons_view\").toPandas()\n",
    "df_production = spark.sql(\"SELECT * FROM production_view\").toPandas()\n",
    "df_consumption = spark.sql(\"SELECT * FROM consumption_view\").toPandas()\n",
    "df_weather_data = spark.sql(\"SELECT * FROM weather_view\").toPandas()"
   ]
  },
  {
   "cell_type": "markdown",
   "metadata": {},
   "source": [
    "#### Checking for missing values in each dataframe"
   ]
  },
  {
   "cell_type": "code",
   "execution_count": 17,
   "metadata": {},
   "outputs": [
    {
     "name": "stdout",
     "output_type": "stream",
     "text": [
      "\n",
      "prodcons - (17520, 29):\n",
      "exchangegb_mwh    17520\n",
      "exchangenl_mwh     8760\n",
      "exchangeno_mwh     8760\n",
      "dtype: int64\n",
      "\n",
      "production - (871393, 9):\n",
      "offshorewindge100mw_mwh    818834\n",
      "offshorewindlt100mw_mwh    801313\n",
      "solarmwh                     8760\n",
      "thermalpowermwh            123888\n",
      "dtype: int64\n",
      "\n",
      "weather_data - (762120, 15):\n",
      "coco     48361\n",
      "dwpt      2658\n",
      "prcp    158466\n",
      "pres      2658\n",
      "rhum      2658\n",
      "snow    718431\n",
      "temp      2658\n",
      "tsun    720638\n",
      "wdir      2661\n",
      "wpgt      2723\n",
      "wspd      2658\n",
      "dtype: int64\n"
     ]
    }
   ],
   "source": [
    "dfs = {\"gas_prices\": df_gas_prices, \"prodcons\": df_prodcons, \n",
    "       \"production\": df_production, \"consumption\": df_consumption, \n",
    "       \"weather_data\": df_weather_data, \"municipalities\": df_municipalities}\n",
    "\n",
    "for key, df in dfs.items():\n",
    "    na_df = df.isna().sum()\n",
    "    non_zero_na_df = na_df[na_df > 0]\n",
    "\n",
    "    if not non_zero_na_df.empty:\n",
    "       print(f\"\\n{key} - {df.shape}:\")\n",
    "       print(non_zero_na_df)"
   ]
  },
  {
   "cell_type": "code",
   "execution_count": 8,
   "metadata": {},
   "outputs": [],
   "source": [
    "def na_overview(df: pd.DataFrame):\n",
    "    na_df = df.isna().sum()\n",
    "    na_df = na_df[na_df > 0].to_frame(name=\"# missing values\")\n",
    "    na_df[\"% missing values\"] = na_df[\"# missing values\"] / df.shape[0]\n",
    "    return na_df"
   ]
  },
  {
   "cell_type": "markdown",
   "metadata": {},
   "source": [
    "##### Prodcons"
   ]
  },
  {
   "cell_type": "code",
   "execution_count": 29,
   "metadata": {},
   "outputs": [
    {
     "data": {
      "text/html": [
       "<div>\n",
       "<style scoped>\n",
       "    .dataframe tbody tr th:only-of-type {\n",
       "        vertical-align: middle;\n",
       "    }\n",
       "\n",
       "    .dataframe tbody tr th {\n",
       "        vertical-align: top;\n",
       "    }\n",
       "\n",
       "    .dataframe thead th {\n",
       "        text-align: right;\n",
       "    }\n",
       "</style>\n",
       "<table border=\"1\" class=\"dataframe\">\n",
       "  <thead>\n",
       "    <tr style=\"text-align: right;\">\n",
       "      <th></th>\n",
       "      <th># missing values</th>\n",
       "      <th>% missing values</th>\n",
       "    </tr>\n",
       "  </thead>\n",
       "  <tbody>\n",
       "    <tr>\n",
       "      <th>exchangegb_mwh</th>\n",
       "      <td>17520</td>\n",
       "      <td>1.0</td>\n",
       "    </tr>\n",
       "    <tr>\n",
       "      <th>exchangenl_mwh</th>\n",
       "      <td>8760</td>\n",
       "      <td>0.5</td>\n",
       "    </tr>\n",
       "    <tr>\n",
       "      <th>exchangeno_mwh</th>\n",
       "      <td>8760</td>\n",
       "      <td>0.5</td>\n",
       "    </tr>\n",
       "  </tbody>\n",
       "</table>\n",
       "</div>"
      ],
      "text/plain": [
       "                # missing values  % missing values\n",
       "exchangegb_mwh             17520               1.0\n",
       "exchangenl_mwh              8760               0.5\n",
       "exchangeno_mwh              8760               0.5"
      ]
     },
     "execution_count": 29,
     "metadata": {},
     "output_type": "execute_result"
    }
   ],
   "source": [
    "na_prodcons = na_overview(df_prodcons)\n",
    "na_prodcons"
   ]
  },
  {
   "cell_type": "code",
   "execution_count": 20,
   "metadata": {},
   "outputs": [
    {
     "data": {
      "text/html": [
       "<div>\n",
       "<style scoped>\n",
       "    .dataframe tbody tr th:only-of-type {\n",
       "        vertical-align: middle;\n",
       "    }\n",
       "\n",
       "    .dataframe tbody tr th {\n",
       "        vertical-align: top;\n",
       "    }\n",
       "\n",
       "    .dataframe thead th {\n",
       "        text-align: right;\n",
       "    }\n",
       "</style>\n",
       "<table border=\"1\" class=\"dataframe\">\n",
       "  <thead>\n",
       "    <tr style=\"text-align: right;\">\n",
       "      <th></th>\n",
       "      <th>hourdk</th>\n",
       "      <th>pricearea</th>\n",
       "      <th>exchangeno_mwh</th>\n",
       "      <th>exchangenl_mwh</th>\n",
       "      <th>exchangegb_mwh</th>\n",
       "    </tr>\n",
       "  </thead>\n",
       "  <tbody>\n",
       "    <tr>\n",
       "      <th>5940</th>\n",
       "      <td>2022-01-01 00:00:00</td>\n",
       "      <td>DK1</td>\n",
       "      <td>-1131.8420</td>\n",
       "      <td>-621.410</td>\n",
       "      <td>NaN</td>\n",
       "    </tr>\n",
       "    <tr>\n",
       "      <th>10985</th>\n",
       "      <td>2022-01-01 00:00:00</td>\n",
       "      <td>DK2</td>\n",
       "      <td>NaN</td>\n",
       "      <td>NaN</td>\n",
       "      <td>NaN</td>\n",
       "    </tr>\n",
       "    <tr>\n",
       "      <th>13926</th>\n",
       "      <td>2022-01-01 01:00:00</td>\n",
       "      <td>DK1</td>\n",
       "      <td>-1132.2717</td>\n",
       "      <td>-583.754</td>\n",
       "      <td>NaN</td>\n",
       "    </tr>\n",
       "    <tr>\n",
       "      <th>10470</th>\n",
       "      <td>2022-01-01 01:00:00</td>\n",
       "      <td>DK2</td>\n",
       "      <td>NaN</td>\n",
       "      <td>NaN</td>\n",
       "      <td>NaN</td>\n",
       "    </tr>\n",
       "    <tr>\n",
       "      <th>7652</th>\n",
       "      <td>2022-01-01 02:00:00</td>\n",
       "      <td>DK2</td>\n",
       "      <td>NaN</td>\n",
       "      <td>NaN</td>\n",
       "      <td>NaN</td>\n",
       "    </tr>\n",
       "    <tr>\n",
       "      <th>4437</th>\n",
       "      <td>2022-01-01 02:00:00</td>\n",
       "      <td>DK1</td>\n",
       "      <td>-1132.2246</td>\n",
       "      <td>-554.725</td>\n",
       "      <td>NaN</td>\n",
       "    </tr>\n",
       "    <tr>\n",
       "      <th>10461</th>\n",
       "      <td>2022-01-01 03:00:00</td>\n",
       "      <td>DK1</td>\n",
       "      <td>-1132.4853</td>\n",
       "      <td>-237.741</td>\n",
       "      <td>NaN</td>\n",
       "    </tr>\n",
       "    <tr>\n",
       "      <th>1616</th>\n",
       "      <td>2022-01-01 03:00:00</td>\n",
       "      <td>DK2</td>\n",
       "      <td>NaN</td>\n",
       "      <td>NaN</td>\n",
       "      <td>NaN</td>\n",
       "    </tr>\n",
       "  </tbody>\n",
       "</table>\n",
       "</div>"
      ],
      "text/plain": [
       "                   hourdk pricearea  exchangeno_mwh  exchangenl_mwh  \\\n",
       "5940  2022-01-01 00:00:00       DK1      -1131.8420        -621.410   \n",
       "10985 2022-01-01 00:00:00       DK2             NaN             NaN   \n",
       "13926 2022-01-01 01:00:00       DK1      -1132.2717        -583.754   \n",
       "10470 2022-01-01 01:00:00       DK2             NaN             NaN   \n",
       "7652  2022-01-01 02:00:00       DK2             NaN             NaN   \n",
       "4437  2022-01-01 02:00:00       DK1      -1132.2246        -554.725   \n",
       "10461 2022-01-01 03:00:00       DK1      -1132.4853        -237.741   \n",
       "1616  2022-01-01 03:00:00       DK2             NaN             NaN   \n",
       "\n",
       "       exchangegb_mwh  \n",
       "5940              NaN  \n",
       "10985             NaN  \n",
       "13926             NaN  \n",
       "10470             NaN  \n",
       "7652              NaN  \n",
       "4437              NaN  \n",
       "10461             NaN  \n",
       "1616              NaN  "
      ]
     },
     "execution_count": 20,
     "metadata": {},
     "output_type": "execute_result"
    }
   ],
   "source": [
    "# Trying to assess a pattern \n",
    "df_prodcons_na = df_prodcons[[\"hourdk\", \"pricearea\", \"exchangeno_mwh\", \n",
    "                              \"exchangenl_mwh\", \"exchangegb_mwh\"]].copy()\n",
    "df_prodcons_na = df_prodcons_na.sort_values(\"hourdk\", ascending=True)\n",
    "df_prodcons_na.head(8)"
   ]
  },
  {
   "cell_type": "code",
   "execution_count": 21,
   "metadata": {},
   "outputs": [
    {
     "name": "stdout",
     "output_type": "stream",
     "text": [
      "True\n",
      "True\n"
     ]
    }
   ],
   "source": [
    "# Checking if the Netherlands and Norway only exchange energy with pricearea DK2\n",
    "# If they happen to do so, we should see False print outs\n",
    "print(df_prodcons[df_prodcons[\"exchangeno_mwh\"].notna()].query(\"pricearea == 'DK2'\").empty)\n",
    "print(df_prodcons[df_prodcons[\"exchangenl_mwh\"].notna()].query(\"pricearea == 'DK2'\").empty)"
   ]
  },
  {
   "cell_type": "markdown",
   "metadata": {},
   "source": [
    "For **prodcons** we have missing data for the exchange of energy to Great Britain, the Netherlands and Norway. Great Britain has no import or export of energy during the period of our data, hence 17520 total missing values. For both the Netherlands and Norway we have half of the missing values as Great Britain. This can be attributed to these countries only exchanging energy with `pricearea` \"DK1\".\n",
    "\n",
    "Imputing any of these missing values would not be appropriate."
   ]
  },
  {
   "cell_type": "markdown",
   "metadata": {},
   "source": [
    "##### Production"
   ]
  },
  {
   "cell_type": "code",
   "execution_count": 19,
   "metadata": {},
   "outputs": [
    {
     "data": {
      "text/plain": [
       "(871393, 8)"
      ]
     },
     "execution_count": 19,
     "metadata": {},
     "output_type": "execute_result"
    }
   ],
   "source": [
    "df_production.shape"
   ]
  },
  {
   "cell_type": "code",
   "execution_count": 22,
   "metadata": {},
   "outputs": [
    {
     "data": {
      "text/html": [
       "<div>\n",
       "<style scoped>\n",
       "    .dataframe tbody tr th:only-of-type {\n",
       "        vertical-align: middle;\n",
       "    }\n",
       "\n",
       "    .dataframe tbody tr th {\n",
       "        vertical-align: top;\n",
       "    }\n",
       "\n",
       "    .dataframe thead th {\n",
       "        text-align: right;\n",
       "    }\n",
       "</style>\n",
       "<table border=\"1\" class=\"dataframe\">\n",
       "  <thead>\n",
       "    <tr style=\"text-align: right;\">\n",
       "      <th></th>\n",
       "      <th># missing values</th>\n",
       "      <th>% missing values</th>\n",
       "    </tr>\n",
       "  </thead>\n",
       "  <tbody>\n",
       "    <tr>\n",
       "      <th>offshorewindge100mw_mwh</th>\n",
       "      <td>818834</td>\n",
       "      <td>0.939684</td>\n",
       "    </tr>\n",
       "    <tr>\n",
       "      <th>offshorewindlt100mw_mwh</th>\n",
       "      <td>801313</td>\n",
       "      <td>0.919577</td>\n",
       "    </tr>\n",
       "    <tr>\n",
       "      <th>solarmwh</th>\n",
       "      <td>8760</td>\n",
       "      <td>0.010053</td>\n",
       "    </tr>\n",
       "    <tr>\n",
       "      <th>thermalpowermwh</th>\n",
       "      <td>123888</td>\n",
       "      <td>0.142172</td>\n",
       "    </tr>\n",
       "  </tbody>\n",
       "</table>\n",
       "</div>"
      ],
      "text/plain": [
       "                         # missing values  % missing values\n",
       "offshorewindge100mw_mwh            818834          0.939684\n",
       "offshorewindlt100mw_mwh            801313          0.919577\n",
       "solarmwh                             8760          0.010053\n",
       "thermalpowermwh                    123888          0.142172"
      ]
     },
     "execution_count": 22,
     "metadata": {},
     "output_type": "execute_result"
    }
   ],
   "source": [
    "na_production = na_overview(df_production)\n",
    "na_production"
   ]
  },
  {
   "cell_type": "markdown",
   "metadata": {},
   "source": [
    "**production** is missing quite a lot of data in its offshore wind production, missing >90% of data from an eyeball estimation. Imputing this amount of data would be unreasonable.\n",
    "\n",
    "However, solar and thermal energy production are missing less data which would be more feasible to impute."
   ]
  },
  {
   "cell_type": "code",
   "execution_count": 24,
   "metadata": {},
   "outputs": [
    {
     "name": "stdout",
     "output_type": "stream",
     "text": [
      "View 'production_view' created.\n"
     ]
    },
    {
     "name": "stderr",
     "output_type": "stream",
     "text": [
      "                                                                                \r"
     ]
    }
   ],
   "source": [
    "create_cassandra_view(\"production_view\", \"production\", keyspace)  \n",
    "df_production = spark.sql(\"SELECT * FROM production_view\").toPandas()\n",
    "df_production = df_production.sort_values(\"hourdk\", ascending=True)\n",
    "df_production.set_index(\"hourdk\", inplace=True)\n",
    "\n",
    "# Original values\n",
    "solarpowermwh_og = df_production[\"solarmwh\"].dropna().values\n",
    "thermalpowermwh_og = df_production[\"thermalpowermwh\"].dropna().values\n",
    "\n",
    "# Interpolating missing values (\"time\" for now because it doesn't take long)\n",
    "df_production[\"solarmwh\"] = df_production[\"solarmwh\"].interpolate(\"time\")\n",
    "df_production[\"thermalpowermwh\"] = df_production[\"thermalpowermwh\"].interpolate(\"time\")\n",
    "\n",
    "# Interpolated values\n",
    "solarpowermwh_imputed = df_production[\"solarmwh\"].values\n",
    "thermalpowermwh_imputed = df_production[\"thermalpowermwh\"].values\n",
    "\n",
    "df_production.reset_index(inplace=True)"
   ]
  },
  {
   "cell_type": "code",
   "execution_count": 26,
   "metadata": {},
   "outputs": [],
   "source": [
    "# plt.figure(figsize=(12, 6))\n",
    "# sns.kdeplot(solarpowermwh_og, label='Original Solar MWh', color='blue')\n",
    "# sns.kdeplot(solarpowermwh_imputed, label='Interpolated Solar MWh', color='orange')\n",
    "# plt.title('KDE of Original vs Interpolated Solar MWh')\n",
    "# plt.legend()\n",
    "# plt.show()\n",
    "\n",
    "# # Plotting KDE for thermalpowermwh\n",
    "# plt.figure(figsize=(12, 6))\n",
    "# sns.kdeplot(thermalpowermwh_og, label='Original Thermal Power MWh', color='green')\n",
    "# sns.kdeplot(thermalpowermwh_imputed, label='Interpolated Thermal Power MWh', color='red')\n",
    "# plt.title('KDE of Original vs Interpolated Thermal Power MWh')\n",
    "# plt.legend()\n",
    "# plt.show()"
   ]
  },
  {
   "cell_type": "code",
   "execution_count": 32,
   "metadata": {},
   "outputs": [
    {
     "data": {
      "text/html": [
       "<div>\n",
       "<style scoped>\n",
       "    .dataframe tbody tr th:only-of-type {\n",
       "        vertical-align: middle;\n",
       "    }\n",
       "\n",
       "    .dataframe tbody tr th {\n",
       "        vertical-align: top;\n",
       "    }\n",
       "\n",
       "    .dataframe thead th {\n",
       "        text-align: right;\n",
       "    }\n",
       "</style>\n",
       "<table border=\"1\" class=\"dataframe\">\n",
       "  <thead>\n",
       "    <tr style=\"text-align: right;\">\n",
       "      <th></th>\n",
       "      <th># missing values</th>\n",
       "      <th>% missing values</th>\n",
       "    </tr>\n",
       "  </thead>\n",
       "  <tbody>\n",
       "    <tr>\n",
       "      <th>offshorewindge100mw_mwh</th>\n",
       "      <td>818834</td>\n",
       "      <td>0.939684</td>\n",
       "    </tr>\n",
       "    <tr>\n",
       "      <th>offshorewindlt100mw_mwh</th>\n",
       "      <td>801313</td>\n",
       "      <td>0.919577</td>\n",
       "    </tr>\n",
       "  </tbody>\n",
       "</table>\n",
       "</div>"
      ],
      "text/plain": [
       "                         # missing values  % missing values\n",
       "offshorewindge100mw_mwh            818834          0.939684\n",
       "offshorewindlt100mw_mwh            801313          0.919577"
      ]
     },
     "execution_count": 32,
     "metadata": {},
     "output_type": "execute_result"
    }
   ],
   "source": [
    "na_production_imp = na_overview(df_production)\n",
    "na_production_imp"
   ]
  },
  {
   "cell_type": "markdown",
   "metadata": {},
   "source": [
    "##### **VIL LAGE LIGNENDE PLOTS**"
   ]
  },
  {
   "cell_type": "code",
   "execution_count": 25,
   "metadata": {},
   "outputs": [
    {
     "data": {
      "text/plain": [
       "<Axes: xlabel='hourdk'>"
      ]
     },
     "execution_count": 25,
     "metadata": {},
     "output_type": "execute_result"
    },
    {
     "data": {
      "image/png": "[encoded data removed]",
      "text/plain": [
       "<Figure size 1000x500 with 2 Axes>"
      ]
     },
     "metadata": {},
     "output_type": "display_data"
    }
   ],
   "source": [
    "import seaborn as sns\n",
    "plt.figure(figsize=(10,5))\n",
    "sns.heatmap(df_production[[\"offshorewindge100mw_mwh\"]].notnull().T) "
   ]
  },
  {
   "cell_type": "markdown",
   "metadata": {},
   "source": [
    "##### Weather data"
   ]
  },
  {
   "cell_type": "code",
   "execution_count": 9,
   "metadata": {},
   "outputs": [
    {
     "data": {
      "text/html": [
       "<div>\n",
       "<style scoped>\n",
       "    .dataframe tbody tr th:only-of-type {\n",
       "        vertical-align: middle;\n",
       "    }\n",
       "\n",
       "    .dataframe tbody tr th {\n",
       "        vertical-align: top;\n",
       "    }\n",
       "\n",
       "    .dataframe thead th {\n",
       "        text-align: right;\n",
       "    }\n",
       "</style>\n",
       "<table border=\"1\" class=\"dataframe\">\n",
       "  <thead>\n",
       "    <tr style=\"text-align: right;\">\n",
       "      <th></th>\n",
       "      <th># missing values</th>\n",
       "      <th>% missing values</th>\n",
       "    </tr>\n",
       "  </thead>\n",
       "  <tbody>\n",
       "    <tr>\n",
       "      <th>coco</th>\n",
       "      <td>48361</td>\n",
       "      <td>0.063456</td>\n",
       "    </tr>\n",
       "    <tr>\n",
       "      <th>dwpt</th>\n",
       "      <td>2658</td>\n",
       "      <td>0.003488</td>\n",
       "    </tr>\n",
       "    <tr>\n",
       "      <th>prcp</th>\n",
       "      <td>158466</td>\n",
       "      <td>0.207928</td>\n",
       "    </tr>\n",
       "    <tr>\n",
       "      <th>pres</th>\n",
       "      <td>2658</td>\n",
       "      <td>0.003488</td>\n",
       "    </tr>\n",
       "    <tr>\n",
       "      <th>rhum</th>\n",
       "      <td>2658</td>\n",
       "      <td>0.003488</td>\n",
       "    </tr>\n",
       "    <tr>\n",
       "      <th>snow</th>\n",
       "      <td>718431</td>\n",
       "      <td>0.942674</td>\n",
       "    </tr>\n",
       "    <tr>\n",
       "      <th>temp</th>\n",
       "      <td>2658</td>\n",
       "      <td>0.003488</td>\n",
       "    </tr>\n",
       "    <tr>\n",
       "      <th>tsun</th>\n",
       "      <td>720638</td>\n",
       "      <td>0.945570</td>\n",
       "    </tr>\n",
       "    <tr>\n",
       "      <th>wdir</th>\n",
       "      <td>2661</td>\n",
       "      <td>0.003492</td>\n",
       "    </tr>\n",
       "    <tr>\n",
       "      <th>wpgt</th>\n",
       "      <td>2723</td>\n",
       "      <td>0.003573</td>\n",
       "    </tr>\n",
       "    <tr>\n",
       "      <th>wspd</th>\n",
       "      <td>2658</td>\n",
       "      <td>0.003488</td>\n",
       "    </tr>\n",
       "  </tbody>\n",
       "</table>\n",
       "</div>"
      ],
      "text/plain": [
       "      # missing values  % missing values\n",
       "coco             48361          0.063456\n",
       "dwpt              2658          0.003488\n",
       "prcp            158466          0.207928\n",
       "pres              2658          0.003488\n",
       "rhum              2658          0.003488\n",
       "snow            718431          0.942674\n",
       "temp              2658          0.003488\n",
       "tsun            720638          0.945570\n",
       "wdir              2661          0.003492\n",
       "wpgt              2723          0.003573\n",
       "wspd              2658          0.003488"
      ]
     },
     "execution_count": 9,
     "metadata": {},
     "output_type": "execute_result"
    }
   ],
   "source": [
    "na_weather = na_overview(df_weather_data)\n",
    "na_weather"
   ]
  },
  {
   "cell_type": "markdown",
   "metadata": {},
   "source": [
    "`dwpt`, `pres`, `rhum`, and `wspd` are missing the same amount of data."
   ]
  },
  {
   "cell_type": "code",
   "execution_count": 10,
   "metadata": {},
   "outputs": [
    {
     "name": "stdout",
     "output_type": "stream",
     "text": [
      "['Sønderborg' 'Ærø' 'Lolland' 'Aabenraa' 'Tønder']\n",
      "['Sønderborg' 'Ærø' 'Lolland' 'Aabenraa' 'Tønder']\n"
     ]
    }
   ],
   "source": [
    "# Finding the stations where \"snow\" and \"tsun\" is being measured to assess\n",
    "# why there are many missing values\n",
    "print(df_weather_data[df_weather_data[\"snow\"].notna()][\"municipality\"].unique())\n",
    "print(df_weather_data[df_weather_data[\"tsun\"].notna()][\"municipality\"].unique())"
   ]
  },
  {
   "cell_type": "code",
   "execution_count": 14,
   "metadata": {},
   "outputs": [
    {
     "data": {
      "text/plain": [
       "snow     111\n",
       "tsun    2318\n",
       "dtype: int64"
      ]
     },
     "execution_count": 14,
     "metadata": {},
     "output_type": "execute_result"
    }
   ],
   "source": [
    "# Check if there are any missing values for the locations which measures `snow` and `tsun`\n",
    "tsun_snow_locations = df_weather_data[df_weather_data[\"tsun\"].notna()][\"municipality\"].unique()\n",
    "df_tsun_snow = df_weather_data[df_weather_data[\"municipality\"].isin(tsun_snow_locations)]\n",
    "df_tsun_snow.isna().sum()[df_tsun_snow.isna().sum() > 0] # endre på denne"
   ]
  },
  {
   "cell_type": "code",
   "execution_count": 15,
   "metadata": {},
   "outputs": [
    {
     "name": "stdout",
     "output_type": "stream",
     "text": [
      "{'Morsø', 'Lemvig', 'Helsingør', 'Struer', 'Halsnæs', 'Odsherred', 'Skive', 'Gribskov', 'Thisted', 'Vesthimmerland'}\n"
     ]
    }
   ],
   "source": [
    "# Checking if there any stations that does not measure precipitation\n",
    "na_prcp = set(df_weather_data[df_weather_data[\"prcp\"].notna()][\"municipality\"].unique())^\\\n",
    "    set(df_weather_data[\"municipality\"].unique()) # ^ - symmetric difference operator. Between two sets, it returns values not shared by both sets.\n",
    "\n",
    "print(na_prcp)"
   ]
  },
  {
   "cell_type": "markdown",
   "metadata": {},
   "source": [
    "**weather_data** is missing a lot of data for `snow` which at first glance is sensible since there isn't snow all year round. But upon further investigation, `snow` is only measured at a handful of stations. This is also the case for `tsun` which is measured at the same stations, hence the big number of missing values. Having to impute this for the rest of the stations would be unreasonable as no measurements exists at these locations. \n",
    "\n",
    "The missing values for `prcp` is partly due to 10 stations not measuring percipitation at all. Imputing the precipitation for these stations would not make sense. The remaining missing values comes from stations which do measure percipitation and these we can impute.\n",
    "\n",
    "`dwpt`, `pres`, `rhum`, and `wspd` are missing the same amount of data.\n",
    "\n",
    "For the remaining fetures it would be reasonable to impute the missing values as the numbers are relatively small."
   ]
  },
  {
   "cell_type": "code",
   "execution_count": 92,
   "metadata": {},
   "outputs": [
    {
     "name": "stderr",
     "output_type": "stream",
     "text": [
      "FutureWarning: DataFrame.interpolate with object dtype is deprecated and will raise in a future version. Call obj.infer_objects(copy=False) before interpolating instead.\n"
     ]
    },
    {
     "data": {
      "text/html": [
       "<div>\n",
       "<style scoped>\n",
       "    .dataframe tbody tr th:only-of-type {\n",
       "        vertical-align: middle;\n",
       "    }\n",
       "\n",
       "    .dataframe tbody tr th {\n",
       "        vertical-align: top;\n",
       "    }\n",
       "\n",
       "    .dataframe thead th {\n",
       "        text-align: right;\n",
       "    }\n",
       "</style>\n",
       "<table border=\"1\" class=\"dataframe\">\n",
       "  <thead>\n",
       "    <tr style=\"text-align: right;\">\n",
       "      <th></th>\n",
       "      <th># missing values</th>\n",
       "      <th>% missing values</th>\n",
       "    </tr>\n",
       "  </thead>\n",
       "  <tbody>\n",
       "    <tr>\n",
       "      <th>snow</th>\n",
       "      <td>718320</td>\n",
       "      <td>0.942529</td>\n",
       "    </tr>\n",
       "    <tr>\n",
       "      <th>tsun</th>\n",
       "      <td>718320</td>\n",
       "      <td>0.942529</td>\n",
       "    </tr>\n",
       "  </tbody>\n",
       "</table>\n",
       "</div>"
      ],
      "text/plain": [
       "      # missing values  % missing values\n",
       "snow            718320          0.942529\n",
       "tsun            718320          0.942529"
      ]
     },
     "execution_count": 92,
     "metadata": {},
     "output_type": "execute_result"
    }
   ],
   "source": [
    "df_weather_data = spark.sql(\"SELECT * FROM weather_view\").toPandas()\n",
    "\n",
    "# Preparing DataFrame for interpolation\n",
    "df_weather_data = df_weather_data.sort_values(\"datetime\", ascending=True)\n",
    "df_weather_data.set_index(\"datetime\", inplace=True)\n"
   ]
  },
  {
   "cell_type": "code",
   "execution_count": null,
   "metadata": {},
   "outputs": [],
   "source": [
    "# Impute `prcp` for everything but 'Aabenraa' 'Tønder' 'Lolland' 'Sønderborg' 'Ærø'\n",
    "exclude_list = list(na_prcp)\n",
    "df_weather_data_prcp = df_weather_data[~df_weather_data[\"municipality\"].isin(exclude_list)].copy() # Excluding municipalities/weather stations that does not measure precipitation\n",
    "df_weather_data_prcp[\"prcp\"] = df_weather_data_prcp[\"prcp\"].interpolate(\"time\") \n",
    "df_weather_data.loc[~df_weather_data[\"municipality\"].isin(exclude_list), [\"prcp\"]] = df_weather_data_prcp[\"prcp\"].values \n",
    "\n",
    "df_weather_data.reset_index()"
   ]
  },
  {
   "cell_type": "markdown",
   "metadata": {},
   "source": [
    "### Synchronization"
   ]
  },
  {
   "cell_type": "markdown",
   "metadata": {},
   "source": [
    "Make a function that takes an hourly time series for a selected weather property for a selected municipality as input (and relevant parameters/descriptors) and resamples it into daily values matching the gas prices for part 1 of the project work.\n",
    "\n",
    "Design question: Do we assume that one time series has hourly and another daily measurements?\n",
    "\n",
    "- Check latest starting point of each series\n",
    "- Limit series to start latest starting point of two series\n",
    "- Aggregate to calculate daily mean values of columns (time column excluded ofc)"
   ]
  },
  {
   "cell_type": "code",
   "execution_count": 104,
   "metadata": {},
   "outputs": [],
   "source": [
    "# Endre på denne til å kun returnere en dataframe med de to tingene vi ønsker å få ut!\n",
    "\n",
    "def sync_weather_to_gas(weather_df: pd.DataFrame, gas_df: pd.DataFrame, \n",
    "                        time_weather: str, time_gas: str, \n",
    "                        weather_property: str, accumulation_mtd: str = \"mean\"):\n",
    "    weather_df = weather_df.sort_values(time_weather, ascending=True)\n",
    "    gas_df = gas_df.sort_values(time_gas, ascending=True)\n",
    "\n",
    "    # Preparation for aggregation\n",
    "    weather_df = weather_df[[time_weather, weather_property]]\n",
    "\n",
    "    weather_df.set_index(time_weather, inplace=True)\n",
    "    gas_df.set_index(time_gas, inplace=True)\n",
    "\n",
    "    weather_df = weather_df.drop(labels=\"id\", axis=1)\n",
    "\n",
    "    # Aggregate weather_df to daily frequency w.r.t. accumulation method\n",
    "    if accumulation_mtd == \"mean\":\n",
    "          weather_df = weather_df.groupby(\"municipality\").resample(\"D\").mean()\n",
    "\n",
    "    weather_df.reset_index(inplace=True)\n",
    "    gas_df.reset_index(inplace=True)\n",
    "\n",
    "    # Determining start point\n",
    "    series_start = max(gas_df[time_gas].min(), weather_df[time_weather].min())\n",
    "\n",
    "    # Determining end point\n",
    "    series_end = min(gas_df[time_gas].max(), weather_df[time_weather].max())\n",
    "\n",
    "    # Shortening the time series'\n",
    "    weather_df = weather_df[(weather_df[time_weather] >= series_start) & (weather_df[time_weather] <= series_end)]\n",
    "    gas_df = gas_df[(gas_df[time_gas] >= series_start) & (gas_df[time_gas] <= series_end)]\n",
    "\n",
    "    # return weather_df, gas_df\n",
    "    return weather_df, gas_df "
   ]
  },
  {
   "cell_type": "code",
   "execution_count": null,
   "metadata": {},
   "outputs": [],
   "source": [
    "# Endre på denne til å kun returnere en dataframe med de to tingene vi ønsker å få ut!\n",
    "\n",
    "def sync_weather_to_gas(weather_df: pd.DataFrame, gas_df: pd.DataFrame, \n",
    "                        time_weather: str, time_gas: str, \n",
    "                        weather_property: str, accumulation_mtd: str = \"mean\"):\n",
    "    weather_df = weather_df.sort_values(time_weather, ascending=True)\n",
    "    gas_df = gas_df.sort_values(time_gas, ascending=True)\n",
    "\n",
    "    # Preparation for aggregation\n",
    "    weather_df = weather_df[[time_weather, weather_property]]\n",
    "\n",
    "    weather_df.set_index(time_weather, inplace=True)\n",
    "    gas_df.set_index(time_gas, inplace=True)\n",
    "\n",
    "    weather_df = weather_df.drop(labels=\"id\", axis=1)\n",
    "\n",
    "    # Aggregate weather_df to daily frequency w.r.t. accumulation method\n",
    "    if accumulation_mtd == \"mean\":\n",
    "          weather_df = weather_df.groupby(\"municipality\").resample(\"D\").mean()\n",
    "\n",
    "    weather_df.reset_index(inplace=True)\n",
    "    gas_df.reset_index(inplace=True)\n",
    "\n",
    "    # Determining start point\n",
    "    series_start = max(gas_df[time_gas].min(), weather_df[time_weather].min())\n",
    "\n",
    "    # Determining end point\n",
    "    series_end = min(gas_df[time_gas].max(), weather_df[time_weather].max())\n",
    "\n",
    "    # Shortening the time series'\n",
    "    weather_df = weather_df[(weather_df[time_weather] >= series_start) & (weather_df[time_weather] <= series_end)]\n",
    "\n",
    "    # return weather_df, gas_df\n",
    "    return weather_df"
   ]
  },
  {
   "cell_type": "code",
   "execution_count": null,
   "metadata": {},
   "outputs": [],
   "source": [
    "df_weather_trunc, df_gas_prices_trunc = sync_weather_to_gas(df_weather_data, df_gas_prices,\n",
    "                                                            \"datetime\", \"GasDay\", \"temp\")"
   ]
  },
  {
   "cell_type": "code",
   "execution_count": 126,
   "metadata": {},
   "outputs": [
    {
     "data": {
      "image/png": "[encoded data removed]",
      "text/plain": [
       "<Figure size 1000x500 with 2 Axes>"
      ]
     },
     "metadata": {},
     "output_type": "display_data"
    }
   ],
   "source": [
    "random.seed(12341)\n",
    "\n",
    "municipality = random.choice(df_weather_trunc[\"municipality\"].unique())\n",
    "df_weather_trunc = df_weather_trunc.query(f\"municipality == '{municipality}'\")\n",
    "\n",
    "fig, ax1 = plt.subplots(figsize=(10,5))\n",
    "ax1.plot(df_weather_trunc[\"datetime\"], df_weather_trunc[\"temp\"], \n",
    "         color='b', label='Temperature')\n",
    "ax1.set_xlabel(\"time\")\n",
    "ax1.set_ylabel(\"Temperature\", color=\"b\")\n",
    "ax1.tick_params(axis=\"y\", labelcolor=\"b\")\n",
    "\n",
    "ax2 = ax1.twinx()\n",
    "ax2.plot(df_weather_trunc[\"datetime\"], df_gas_prices_trunc[\"PurchasePriceDKK_kWh\"], \n",
    "         color='r', label='Gas purchase price')\n",
    "ax2.set_ylabel(\"PurchasePriceDKK_kWh\", color=\"r\")\n",
    "ax2.tick_params(axis=\"y\", labelcolor=\"r\")\n",
    "\n",
    "fig.legend(loc=\"upper right\")\n",
    "plt.title(f\"Temperature in {municipality} and gas purchase prices\")\n",
    "\n",
    "plt.show()"
   ]
  },
  {
   "cell_type": "code",
   "execution_count": null,
   "metadata": {},
   "outputs": [],
   "source": []
  }
 ],
 "metadata": {
  "kernelspec": {
   "display_name": ".venv",
   "language": "python",
   "name": "python3"
  },
  "language_info": {
   "codemirror_mode": {
    "name": "ipython",
    "version": 3
   },
   "file_extension": ".py",
   "mimetype": "text/x-python",
   "name": "python",
   "nbconvert_exporter": "python",
   "pygments_lexer": "ipython3",
   "version": "3.12.5"
  }
 },
 "nbformat": 4,
 "nbformat_minor": 2
}
