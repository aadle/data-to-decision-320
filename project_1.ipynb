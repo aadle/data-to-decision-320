{
 "cells": [
  {
   "cell_type": "code",
   "execution_count": 1,
   "metadata": {},
   "outputs": [],
   "source": [
    "# imports\n",
    "import json\n",
    "import requests\n",
    "import pandas as pd\n",
    "from bs4 import BeautifulSoup\n",
    "from io import StringIO\n",
    "from pymongo.mongo_client import MongoClient\n",
    "from pymongo.server_api import ServerApi\n"
   ]
  },
  {
   "cell_type": "markdown",
   "metadata": {},
   "source": [
    "## MongoDB"
   ]
  },
  {
   "cell_type": "markdown",
   "metadata": {},
   "source": [
    "### Set up remote database"
   ]
  },
  {
   "cell_type": "code",
   "execution_count": 3,
   "metadata": {},
   "outputs": [
    {
     "name": "stdout",
     "output_type": "stream",
     "text": [
      "Pinged your deployment. Successfully connected to MongoDB.\n"
     ]
    }
   ],
   "source": [
    "# read\n",
    "with open(\"../.nosync/mongoDB.json\", \"r\") as file:\n",
    "    credentials = json.load(file)\n",
    "\n",
    "uri = (\n",
    "    \"mongodb+srv://medvetslos:\"\n",
    "    + credentials[\"pwd\"]\n",
    "    + \"@ind320-project.lunku.mongodb.net/?retryWrites=true&w=majority&appName=IND320-project\"\n",
    ")\n",
    "\n",
    "mdb_client = MongoClient(uri, server_api=ServerApi(\"1\"))\n",
    "\n",
    "try:\n",
    "    mdb_client.admin.command(\"ping\")\n",
    "    print(\"Pinged your deployment. Successfully connected to MongoDB.\")\n",
    "except Exception as exceptionMsg:\n",
    "    print(exceptionMsg)"
   ]
  },
  {
   "cell_type": "code",
   "execution_count": 3,
   "metadata": {},
   "outputs": [],
   "source": [
    "# Creating collections for municipality data and gas prices\n",
    "## Todo:\n",
    "# - Lage en sjekk for eksisterende collections \n",
    "\n",
    "database = mdb_client[\"IND320-project\"]\n",
    "collection_names = [\"muncipalities\", \"gas\"]\n",
    "\n",
    "# def collection_check(database, collection_name):\n",
    "    # try:\n",
    "    #     database.validate_collection(collection_name)\n",
    "    # except pymongo.errors.OperatiosFailure:\n",
    "    #     print(f\"{collection_name} does not exist as a collection.\")\n",
    "\n",
    "municipalities = database[\"municipalities\"]\n",
    "gas = database[\"gas\"]\n"
   ]
  },
  {
   "cell_type": "markdown",
   "metadata": {},
   "source": [
    "## Cassandra"
   ]
  },
  {
   "cell_type": "code",
   "execution_count": null,
   "metadata": {},
   "outputs": [],
   "source": [
    "from cassandra.cluster import Cluster\n",
    "cluster = Cluster(['localhost'], port=9042)\n",
    "session = cluster.connect()\n",
    "keyspace = \"new_table\"\n",
    "session.execute(\"CREATE KEYSPACE IF NOT EXISTS\" + \" \" + keyspace + \" \" + \n",
    "                \"WITH REPLICATION = {'class': 'SimpleStrategy', 'replication_factor': 1};\")\n"
   ]
  },
  {
   "cell_type": "markdown",
   "metadata": {},
   "source": [
    "## Webscraping\n",
    "\n"
   ]
  },
  {
   "cell_type": "code",
   "execution_count": 46,
   "metadata": {},
   "outputs": [
    {
     "data": {
      "text/plain": [
       "InsertManyResult([ObjectId('66f444ee78ba03e2518e376d'), ObjectId('66f444ee78ba03e2518e376e'), ObjectId('66f444ee78ba03e2518e376f'), ObjectId('66f444ee78ba03e2518e3770'), ObjectId('66f444ee78ba03e2518e3771'), ObjectId('66f444ee78ba03e2518e3772'), ObjectId('66f444ee78ba03e2518e3773'), ObjectId('66f444ee78ba03e2518e3774'), ObjectId('66f444ee78ba03e2518e3775'), ObjectId('66f444ee78ba03e2518e3776'), ObjectId('66f444ee78ba03e2518e3777'), ObjectId('66f444ee78ba03e2518e3778'), ObjectId('66f444ee78ba03e2518e3779'), ObjectId('66f444ee78ba03e2518e377a'), ObjectId('66f444ee78ba03e2518e377b'), ObjectId('66f444ee78ba03e2518e377c'), ObjectId('66f444ee78ba03e2518e377d'), ObjectId('66f444ee78ba03e2518e377e'), ObjectId('66f444ee78ba03e2518e377f'), ObjectId('66f444ee78ba03e2518e3780'), ObjectId('66f444ee78ba03e2518e3781'), ObjectId('66f444ee78ba03e2518e3782'), ObjectId('66f444ee78ba03e2518e3783'), ObjectId('66f444ee78ba03e2518e3784'), ObjectId('66f444ee78ba03e2518e3785'), ObjectId('66f444ee78ba03e2518e3786'), ObjectId('66f444ee78ba03e2518e3787'), ObjectId('66f444ee78ba03e2518e3788'), ObjectId('66f444ee78ba03e2518e3789'), ObjectId('66f444ee78ba03e2518e378a'), ObjectId('66f444ee78ba03e2518e378b'), ObjectId('66f444ee78ba03e2518e378c'), ObjectId('66f444ee78ba03e2518e378d'), ObjectId('66f444ee78ba03e2518e378e'), ObjectId('66f444ee78ba03e2518e378f'), ObjectId('66f444ee78ba03e2518e3790'), ObjectId('66f444ee78ba03e2518e3791'), ObjectId('66f444ee78ba03e2518e3792'), ObjectId('66f444ee78ba03e2518e3793'), ObjectId('66f444ee78ba03e2518e3794'), ObjectId('66f444ee78ba03e2518e3795'), ObjectId('66f444ee78ba03e2518e3796'), ObjectId('66f444ee78ba03e2518e3797'), ObjectId('66f444ee78ba03e2518e3798'), ObjectId('66f444ee78ba03e2518e3799'), ObjectId('66f444ee78ba03e2518e379a'), ObjectId('66f444ee78ba03e2518e379b'), ObjectId('66f444ee78ba03e2518e379c'), ObjectId('66f444ee78ba03e2518e379d'), ObjectId('66f444ee78ba03e2518e379e'), ObjectId('66f444ee78ba03e2518e379f'), ObjectId('66f444ee78ba03e2518e37a0'), ObjectId('66f444ee78ba03e2518e37a1'), ObjectId('66f444ee78ba03e2518e37a2'), ObjectId('66f444ee78ba03e2518e37a3'), ObjectId('66f444ee78ba03e2518e37a4'), ObjectId('66f444ee78ba03e2518e37a5'), ObjectId('66f444ee78ba03e2518e37a6'), ObjectId('66f444ee78ba03e2518e37a7'), ObjectId('66f444ee78ba03e2518e37a8'), ObjectId('66f444ee78ba03e2518e37a9'), ObjectId('66f444ee78ba03e2518e37aa'), ObjectId('66f444ee78ba03e2518e37ab'), ObjectId('66f444ee78ba03e2518e37ac'), ObjectId('66f444ee78ba03e2518e37ad'), ObjectId('66f444ee78ba03e2518e37ae'), ObjectId('66f444ee78ba03e2518e37af'), ObjectId('66f444ee78ba03e2518e37b0'), ObjectId('66f444ee78ba03e2518e37b1'), ObjectId('66f444ee78ba03e2518e37b2'), ObjectId('66f444ee78ba03e2518e37b3'), ObjectId('66f444ee78ba03e2518e37b4'), ObjectId('66f444ee78ba03e2518e37b5'), ObjectId('66f444ee78ba03e2518e37b6'), ObjectId('66f444ee78ba03e2518e37b7'), ObjectId('66f444ee78ba03e2518e37b8'), ObjectId('66f444ee78ba03e2518e37b9'), ObjectId('66f444ee78ba03e2518e37ba'), ObjectId('66f444ee78ba03e2518e37bb'), ObjectId('66f444ee78ba03e2518e37bc'), ObjectId('66f444ee78ba03e2518e37bd'), ObjectId('66f444ee78ba03e2518e37be'), ObjectId('66f444ee78ba03e2518e37bf'), ObjectId('66f444ee78ba03e2518e37c0'), ObjectId('66f444ee78ba03e2518e37c1'), ObjectId('66f444ee78ba03e2518e37c2'), ObjectId('66f444ee78ba03e2518e37c3'), ObjectId('66f444ee78ba03e2518e37c4'), ObjectId('66f444ee78ba03e2518e37c5'), ObjectId('66f444ee78ba03e2518e37c6'), ObjectId('66f444ee78ba03e2518e37c7'), ObjectId('66f444ee78ba03e2518e37c8'), ObjectId('66f444ee78ba03e2518e37c9'), ObjectId('66f444ee78ba03e2518e37ca'), ObjectId('66f444ee78ba03e2518e37cb'), ObjectId('66f444ee78ba03e2518e37cc'), ObjectId('66f444ee78ba03e2518e37cd'), ObjectId('66f444ee78ba03e2518e37ce')], acknowledged=True)"
      ]
     },
     "execution_count": 46,
     "metadata": {},
     "output_type": "execute_result"
    }
   ],
   "source": [
    "webscrape_url = \"https://en.wikipedia.org/wiki/List_of_municipalities_of_Denmark\"\n",
    "\n",
    "## Todo: \n",
    "# - write a check to not insert if records already exists.\n",
    "\n",
    "page = requests.get(webscrape_url)\n",
    "soup = BeautifulSoup(page.content, \"html.parser\")\n",
    "wiki_table = soup.find(\"table\", attrs={\"class\": \"wikitable sortable\"})\n",
    "\n",
    "df_municipalities = pd.read_html(StringIO(str(wiki_table)))[0]\n",
    "records_municipalities = df_municipalities.to_dict(\"records\")\n",
    "\n",
    "\n",
    "\n",
    "\n",
    "# Writing from pandas to MongoDB\n",
    "database[\"municipalities\"].insert_many(records_municipalities)"
   ]
  },
  {
   "cell_type": "code",
   "execution_count": 47,
   "metadata": {},
   "outputs": [
    {
     "data": {
      "text/plain": [
       "{'_id': ObjectId('66f444ee78ba03e2518e376d'),\n",
       " 'LAU-1 code 1': 101,\n",
       " 'Municipality': 'Copenhagen',\n",
       " 'Administrative Center': 'Copenhagen',\n",
       " 'Total Area (km²)': 86.6,\n",
       " 'Population (2012-01-01)': 549050,\n",
       " 'Region': 'Capital'}"
      ]
     },
     "execution_count": 47,
     "metadata": {},
     "output_type": "execute_result"
    }
   ],
   "source": [
    "database[\"municipalities\"].find_one()"
   ]
  },
  {
   "cell_type": "code",
   "execution_count": null,
   "metadata": {},
   "outputs": [],
   "source": []
  }
 ],
 "metadata": {
  "kernelspec": {
   "display_name": ".venv",
   "language": "python",
   "name": "python3"
  },
  "language_info": {
   "codemirror_mode": {
    "name": "ipython",
    "version": 3
   },
   "file_extension": ".py",
   "mimetype": "text/x-python",
   "name": "python",
   "nbconvert_exporter": "python",
   "pygments_lexer": "ipython3",
   "version": "3.12.5"
  }
 },
 "nbformat": 4,
 "nbformat_minor": 2
}
