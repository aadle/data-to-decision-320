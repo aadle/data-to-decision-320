{
 "cells": [
  {
   "cell_type": "code",
   "execution_count": 28,
   "metadata": {},
   "outputs": [],
   "source": [
    "# imports\n",
    "import json\n",
    "import requests\n",
    "import pandas as pd\n",
    "import pymongo.errors\n",
    "from bs4 import BeautifulSoup\n",
    "from io import StringIO\n",
    "from pymongo.mongo_client import MongoClient\n",
    "from pymongo.server_api import ServerApi\n"
   ]
  },
  {
   "cell_type": "markdown",
   "metadata": {},
   "source": [
    "## MongoDB"
   ]
  },
  {
   "cell_type": "markdown",
   "metadata": {},
   "source": [
    "### Set up remote database"
   ]
  },
  {
   "cell_type": "code",
   "execution_count": 12,
   "metadata": {},
   "outputs": [
    {
     "name": "stdout",
     "output_type": "stream",
     "text": [
      "Pinged your deployment. Successfully connected to MongoDB.\n"
     ]
    }
   ],
   "source": [
    "# read\n",
    "with open(\"../.nosync/mongoDB.json\", \"r\") as file:\n",
    "    credentials = json.load(file)\n",
    "\n",
    "uri = (\n",
    "    \"mongodb+srv://medvetslos:\"\n",
    "    + credentials[\"pwd\"]\n",
    "    + \"@ind320-project.lunku.mongodb.net/?retryWrites=true&w=majority&appName=IND320-project\"\n",
    ")\n",
    "\n",
    "mdb_client = MongoClient(uri, server_api=ServerApi(\"1\"))\n",
    "\n",
    "try:\n",
    "    mdb_client.admin.command(\"ping\")\n",
    "    print(\"Pinged your deployment. Successfully connected to MongoDB.\")\n",
    "except Exception as exceptionMsg:\n",
    "    print(exceptionMsg)"
   ]
  },
  {
   "cell_type": "code",
   "execution_count": 31,
   "metadata": {},
   "outputs": [
    {
     "name": "stdout",
     "output_type": "stream",
     "text": [
      "Collection 'muncipalities' already exists.\n",
      "Collection 'gas' already exists.\n"
     ]
    }
   ],
   "source": [
    "# Creating collections for municipality data and gas prices\n",
    "database = mdb_client[\"IND320-project\"]\n",
    "collection_names = [\"muncipalities\", \"gas\"]\n",
    "\n",
    "for name in collection_names:\n",
    "    # Checking if collection exists. If not, create the collection.\n",
    "    try:\n",
    "        database.create_collection(name)\n",
    "        print(f\"Collection '{name}' was created successfully.\")\n",
    "    except pymongo.errors.CollectionInvalid:\n",
    "        print(f\"Collection '{name}' already exists.\")\n",
    "\n",
    "municipalities = database[\"municipalities\"]\n",
    "gas = database[\"gas\"]\n"
   ]
  },
  {
   "cell_type": "markdown",
   "metadata": {},
   "source": [
    "## Cassandra"
   ]
  },
  {
   "cell_type": "code",
   "execution_count": null,
   "metadata": {},
   "outputs": [],
   "source": [
    "from cassandra.cluster import Cluster\n",
    "\n",
    "cluster = Cluster([\"localhost\"], port=9042)\n",
    "session = cluster.connect()\n",
    "keyspace = \"new_table\"\n",
    "session.execute(\n",
    "    \"CREATE KEYSPACE IF NOT EXISTS\" + \n",
    "    \" \" + \n",
    "    keyspace + \n",
    "    \" \" + \n",
    "    \"WITH REPLICATION = {'class': 'SimpleStrategy', 'replication_factor': 1};\"\n",
    ")\n"
   ]
  },
  {
   "cell_type": "markdown",
   "metadata": {},
   "source": [
    "## Webscraping\n",
    "\n"
   ]
  },
  {
   "cell_type": "code",
   "execution_count": 27,
   "metadata": {},
   "outputs": [
    {
     "name": "stdout",
     "output_type": "stream",
     "text": [
      "No new data to be inserted into the collection.\n"
     ]
    }
   ],
   "source": [
    "webscrape_url = \"https://en.wikipedia.org/wiki/List_of_municipalities_of_Denmark\"\n",
    "\n",
    "page = requests.get(webscrape_url)\n",
    "soup = BeautifulSoup(page.content, \"html.parser\")\n",
    "wiki_table = soup.find(\"table\", attrs={\"class\": \"wikitable sortable\"})\n",
    "\n",
    "df_municipalities = pd.read_html(StringIO(str(wiki_table)))[0]\n",
    "records_municipalities = df_municipalities.to_dict(\"records\")\n",
    "\n",
    "LAU_1_code = df_municipalities.columns.tolist()[0]\n",
    "\n",
    "\n",
    "# check if data we are writing already exists\n",
    "existing_entries = list(\n",
    "    database[\"municipalities\"].find(\n",
    "        {\n",
    "            LAU_1_code: {\n",
    "                \"$in\": [record[LAU_1_code] for record in records_municipalities]\n",
    "            }\n",
    "        }\n",
    "    )\n",
    ")\n",
    "\n",
    "# if new data,\n",
    "new_entries = [\n",
    "    entry for entry in records_municipalities\n",
    "    if not any(existing_entry[LAU_1_code] == entry[LAU_1_code] for existing_entry in existing_entries)\n",
    "]\n",
    "\n",
    "# Writing to MongoDB\n",
    "if len(new_entries) > 0:\n",
    "    database[\"municipalities\"].insert_many(new_entries)\n",
    "    print(\"Data successfully written into the collection.\")\n",
    "else:\n",
    "    print(\"No new data to be inserted into the collection.\")\n",
    "\n",
    "# database[\"municipalities\"].delete_many({}) # delete all records"
   ]
  },
  {
   "cell_type": "markdown",
   "metadata": {},
   "source": [
    "## API"
   ]
  },
  {
   "cell_type": "code",
   "execution_count": 34,
   "metadata": {},
   "outputs": [],
   "source": [
    "url_api = \"https://api.energidataservice.dk/dataset/\"\n",
    "gas = \"GasDailyBalancingPrice\"  # riktig datasett? data fra 2022-10-01 og utover. ikke 2022-01-01 som oppgaven tilsier\n",
    "production = \"ProductionMunicipalityHour\"\n",
    "consumption = \"productionconsumptionsettlement\"\n",
    "prodcons = \"consumptionindustry\"\n",
    "query = \"?start=2022-01-01&end=2022-12-31\"\n",
    "\n",
    "# # remote\n",
    "# gas_json = requests.get(url=url_api+gas+query).content\n",
    "# gas_data = pd.read_json(gas_json).to_dict(\"records\")\n",
    "# database[\"gas\"].insert_many(gas_data)\n",
    "\n",
    "# # local\n",
    "# for table_name in [production, consumption, prodcons]:\n",
    "#     table_data = requests.get(url=url_api+table_name+query)\n",
    "\n",
    "#     # Table creation\n",
    "#     session.execute(\"CREATE TABLE IF EXISTS\" + \" \" + keyspace + \".\" +\n",
    "#                     table_name + \";\")\n"
   ]
  },
  {
   "cell_type": "code",
   "execution_count": 9,
   "metadata": {},
   "outputs": [],
   "source": [
    "pd.DataFrame.from_dict(requests.get(url_api + gas + query).json()[\"records\"])"
   ]
  },
  {
   "cell_type": "code",
   "execution_count": 37,
   "metadata": {},
   "outputs": [
    {
     "data": {
      "text/plain": [
       "'GasDay'"
      ]
     },
     "execution_count": 37,
     "metadata": {},
     "output_type": "execute_result"
    }
   ],
   "source": [
    "requests.get(url_api + gas + query).json()[\"records\"][0].keys())"
   ]
  },
  {
   "cell_type": "code",
   "execution_count": null,
   "metadata": {},
   "outputs": [],
   "source": []
  }
 ],
 "metadata": {
  "kernelspec": {
   "display_name": ".venv",
   "language": "python",
   "name": "python3"
  },
  "language_info": {
   "codemirror_mode": {
    "name": "ipython",
    "version": 3
   },
   "file_extension": ".py",
   "mimetype": "text/x-python",
   "name": "python",
   "nbconvert_exporter": "python",
   "pygments_lexer": "ipython3",
   "version": "3.12.5"
  }
 },
 "nbformat": 4,
 "nbformat_minor": 2
}
